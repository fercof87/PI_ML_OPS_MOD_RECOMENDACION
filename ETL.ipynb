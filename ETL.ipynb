{
 "cells": [
  {
   "cell_type": "markdown",
   "metadata": {},
   "source": [
    "# LIBRERIAS GENERALES"
   ]
  },
  {
   "cell_type": "code",
   "execution_count": 4,
   "metadata": {},
   "outputs": [],
   "source": [
    "import pandas as pd\n",
    "import statistics\n",
    "from sklearn.metrics.pairwise import cosine_similarity\n",
    "from Funciones.json_func import *\n",
    "from Funciones.textblob import *\n",
    "from Funciones.dates import *"
   ]
  },
  {
   "cell_type": "markdown",
   "metadata": {},
   "source": [
    ".\n",
    "\n",
    ".\n",
    "\n",
    ".\n",
    "\n",
    "."
   ]
  },
  {
   "cell_type": "markdown",
   "metadata": {},
   "source": [
    "# TRATAMIENTO DE STEAM GAMES"
   ]
  },
  {
   "cell_type": "markdown",
   "metadata": {},
   "source": [
    "Establecemos las columnas relevantes para el MVP"
   ]
  },
  {
   "cell_type": "code",
   "execution_count": 2,
   "metadata": {},
   "outputs": [],
   "source": [
    "cols_output_steam_json = ['item_id', 'genres', 'release_date', 'price', 'developer'] "
   ]
  },
  {
   "cell_type": "markdown",
   "metadata": {},
   "source": [
    "Lectura del Json.Gz de STEAM GAMES"
   ]
  },
  {
   "cell_type": "code",
   "execution_count": 3,
   "metadata": {},
   "outputs": [],
   "source": [
    "#Previo a las Creacion de Particiones\n",
    "#df_output_steam_json_entero = leerJsonGz(\"Datos/\",\"steam_games.json.gz\",0)"
   ]
  },
  {
   "cell_type": "code",
   "execution_count": 4,
   "metadata": {},
   "outputs": [],
   "source": [
    "#Lectura y union de particiones\n",
    "df_output_steam_json = leerJsonGzPart(\"Datos/Particiones/\",\"steam_games.json.gz\",0,3)"
   ]
  },
  {
   "cell_type": "code",
   "execution_count": 5,
   "metadata": {},
   "outputs": [],
   "source": [
    "#Se comprobo que funciono el particionamiento de este archivo\n",
    "#print(\"Shape lectura completa    : \", df_output_steam_json_entero.shape)\n",
    "#print(\"Shape lectura particionada: \", df_output_steam_json.shape)\n"
   ]
  },
  {
   "cell_type": "code",
   "execution_count": 6,
   "metadata": {},
   "outputs": [
    {
     "data": {
      "text/html": [
       "<div>\n",
       "<style scoped>\n",
       "    .dataframe tbody tr th:only-of-type {\n",
       "        vertical-align: middle;\n",
       "    }\n",
       "\n",
       "    .dataframe tbody tr th {\n",
       "        vertical-align: top;\n",
       "    }\n",
       "\n",
       "    .dataframe thead th {\n",
       "        text-align: right;\n",
       "    }\n",
       "</style>\n",
       "<table border=\"1\" class=\"dataframe\">\n",
       "  <thead>\n",
       "    <tr style=\"text-align: right;\">\n",
       "      <th></th>\n",
       "      <th>publisher</th>\n",
       "      <th>genres</th>\n",
       "      <th>app_name</th>\n",
       "      <th>title</th>\n",
       "      <th>url</th>\n",
       "      <th>release_date</th>\n",
       "      <th>tags</th>\n",
       "      <th>reviews_url</th>\n",
       "      <th>discount_price</th>\n",
       "      <th>specs</th>\n",
       "      <th>price</th>\n",
       "      <th>early_access</th>\n",
       "      <th>id</th>\n",
       "      <th>metascore</th>\n",
       "      <th>developer</th>\n",
       "      <th>user_id</th>\n",
       "      <th>steam_id</th>\n",
       "      <th>items</th>\n",
       "      <th>items_count</th>\n",
       "    </tr>\n",
       "  </thead>\n",
       "  <tbody>\n",
       "    <tr>\n",
       "      <th>0</th>\n",
       "      <td>NaN</td>\n",
       "      <td>NaN</td>\n",
       "      <td>NaN</td>\n",
       "      <td>NaN</td>\n",
       "      <td>NaN</td>\n",
       "      <td>NaN</td>\n",
       "      <td>NaN</td>\n",
       "      <td>NaN</td>\n",
       "      <td>NaN</td>\n",
       "      <td>NaN</td>\n",
       "      <td>NaN</td>\n",
       "      <td>NaN</td>\n",
       "      <td>NaN</td>\n",
       "      <td>NaN</td>\n",
       "      <td>NaN</td>\n",
       "      <td>76561197970982479</td>\n",
       "      <td>76561197970982479</td>\n",
       "      <td>[{'item_id': '10', 'item_name': 'Counter-Strik...</td>\n",
       "      <td>277.0</td>\n",
       "    </tr>\n",
       "    <tr>\n",
       "      <th>1</th>\n",
       "      <td>NaN</td>\n",
       "      <td>NaN</td>\n",
       "      <td>NaN</td>\n",
       "      <td>NaN</td>\n",
       "      <td>NaN</td>\n",
       "      <td>NaN</td>\n",
       "      <td>NaN</td>\n",
       "      <td>NaN</td>\n",
       "      <td>NaN</td>\n",
       "      <td>NaN</td>\n",
       "      <td>NaN</td>\n",
       "      <td>NaN</td>\n",
       "      <td>NaN</td>\n",
       "      <td>NaN</td>\n",
       "      <td>NaN</td>\n",
       "      <td>js41637</td>\n",
       "      <td>76561198035864385</td>\n",
       "      <td>[{'item_id': '10', 'item_name': 'Counter-Strik...</td>\n",
       "      <td>888.0</td>\n",
       "    </tr>\n",
       "    <tr>\n",
       "      <th>2</th>\n",
       "      <td>NaN</td>\n",
       "      <td>NaN</td>\n",
       "      <td>NaN</td>\n",
       "      <td>NaN</td>\n",
       "      <td>NaN</td>\n",
       "      <td>NaN</td>\n",
       "      <td>NaN</td>\n",
       "      <td>NaN</td>\n",
       "      <td>NaN</td>\n",
       "      <td>NaN</td>\n",
       "      <td>NaN</td>\n",
       "      <td>NaN</td>\n",
       "      <td>NaN</td>\n",
       "      <td>NaN</td>\n",
       "      <td>NaN</td>\n",
       "      <td>evcentric</td>\n",
       "      <td>76561198007712555</td>\n",
       "      <td>[{'item_id': '1200', 'item_name': 'Red Orchest...</td>\n",
       "      <td>137.0</td>\n",
       "    </tr>\n",
       "    <tr>\n",
       "      <th>3</th>\n",
       "      <td>NaN</td>\n",
       "      <td>NaN</td>\n",
       "      <td>NaN</td>\n",
       "      <td>NaN</td>\n",
       "      <td>NaN</td>\n",
       "      <td>NaN</td>\n",
       "      <td>NaN</td>\n",
       "      <td>NaN</td>\n",
       "      <td>NaN</td>\n",
       "      <td>NaN</td>\n",
       "      <td>NaN</td>\n",
       "      <td>NaN</td>\n",
       "      <td>NaN</td>\n",
       "      <td>NaN</td>\n",
       "      <td>NaN</td>\n",
       "      <td>Riot-Punch</td>\n",
       "      <td>76561197963445855</td>\n",
       "      <td>[{'item_id': '10', 'item_name': 'Counter-Strik...</td>\n",
       "      <td>328.0</td>\n",
       "    </tr>\n",
       "    <tr>\n",
       "      <th>4</th>\n",
       "      <td>NaN</td>\n",
       "      <td>NaN</td>\n",
       "      <td>NaN</td>\n",
       "      <td>NaN</td>\n",
       "      <td>NaN</td>\n",
       "      <td>NaN</td>\n",
       "      <td>NaN</td>\n",
       "      <td>NaN</td>\n",
       "      <td>NaN</td>\n",
       "      <td>NaN</td>\n",
       "      <td>NaN</td>\n",
       "      <td>NaN</td>\n",
       "      <td>NaN</td>\n",
       "      <td>NaN</td>\n",
       "      <td>NaN</td>\n",
       "      <td>doctr</td>\n",
       "      <td>76561198002099482</td>\n",
       "      <td>[{'item_id': '300', 'item_name': 'Day of Defea...</td>\n",
       "      <td>541.0</td>\n",
       "    </tr>\n",
       "  </tbody>\n",
       "</table>\n",
       "</div>"
      ],
      "text/plain": [
       "  publisher genres app_name title  url release_date tags reviews_url  \\\n",
       "0       NaN    NaN      NaN   NaN  NaN          NaN  NaN         NaN   \n",
       "1       NaN    NaN      NaN   NaN  NaN          NaN  NaN         NaN   \n",
       "2       NaN    NaN      NaN   NaN  NaN          NaN  NaN         NaN   \n",
       "3       NaN    NaN      NaN   NaN  NaN          NaN  NaN         NaN   \n",
       "4       NaN    NaN      NaN   NaN  NaN          NaN  NaN         NaN   \n",
       "\n",
       "   discount_price specs price early_access   id metascore developer  \\\n",
       "0             NaN   NaN   NaN          NaN  NaN       NaN       NaN   \n",
       "1             NaN   NaN   NaN          NaN  NaN       NaN       NaN   \n",
       "2             NaN   NaN   NaN          NaN  NaN       NaN       NaN   \n",
       "3             NaN   NaN   NaN          NaN  NaN       NaN       NaN   \n",
       "4             NaN   NaN   NaN          NaN  NaN       NaN       NaN   \n",
       "\n",
       "             user_id           steam_id  \\\n",
       "0  76561197970982479  76561197970982479   \n",
       "1            js41637  76561198035864385   \n",
       "2          evcentric  76561198007712555   \n",
       "3         Riot-Punch  76561197963445855   \n",
       "4              doctr  76561198002099482   \n",
       "\n",
       "                                               items  items_count  \n",
       "0  [{'item_id': '10', 'item_name': 'Counter-Strik...        277.0  \n",
       "1  [{'item_id': '10', 'item_name': 'Counter-Strik...        888.0  \n",
       "2  [{'item_id': '1200', 'item_name': 'Red Orchest...        137.0  \n",
       "3  [{'item_id': '10', 'item_name': 'Counter-Strik...        328.0  \n",
       "4  [{'item_id': '300', 'item_name': 'Day of Defea...        541.0  "
      ]
     },
     "execution_count": 6,
     "metadata": {},
     "output_type": "execute_result"
    }
   ],
   "source": [
    "df_output_steam_json.head()"
   ]
  },
  {
   "cell_type": "code",
   "execution_count": 7,
   "metadata": {},
   "outputs": [
    {
     "data": {
      "text/plain": [
       "(120445, 19)"
      ]
     },
     "execution_count": 7,
     "metadata": {},
     "output_type": "execute_result"
    }
   ],
   "source": [
    "df_output_steam_json.shape"
   ]
  },
  {
   "cell_type": "code",
   "execution_count": 8,
   "metadata": {},
   "outputs": [
    {
     "data": {
      "text/html": [
       "<div>\n",
       "<style scoped>\n",
       "    .dataframe tbody tr th:only-of-type {\n",
       "        vertical-align: middle;\n",
       "    }\n",
       "\n",
       "    .dataframe tbody tr th {\n",
       "        vertical-align: top;\n",
       "    }\n",
       "\n",
       "    .dataframe thead th {\n",
       "        text-align: right;\n",
       "    }\n",
       "</style>\n",
       "<table border=\"1\" class=\"dataframe\">\n",
       "  <thead>\n",
       "    <tr style=\"text-align: right;\">\n",
       "      <th></th>\n",
       "      <th>publisher</th>\n",
       "      <th>genres</th>\n",
       "      <th>app_name</th>\n",
       "      <th>title</th>\n",
       "      <th>url</th>\n",
       "      <th>release_date</th>\n",
       "      <th>tags</th>\n",
       "      <th>reviews_url</th>\n",
       "      <th>discount_price</th>\n",
       "      <th>specs</th>\n",
       "      <th>price</th>\n",
       "      <th>early_access</th>\n",
       "      <th>item_id</th>\n",
       "      <th>metascore</th>\n",
       "      <th>developer</th>\n",
       "      <th>user_id</th>\n",
       "      <th>steam_id</th>\n",
       "      <th>items</th>\n",
       "      <th>items_count</th>\n",
       "    </tr>\n",
       "  </thead>\n",
       "  <tbody>\n",
       "    <tr>\n",
       "      <th>0</th>\n",
       "      <td>NaN</td>\n",
       "      <td>NaN</td>\n",
       "      <td>NaN</td>\n",
       "      <td>NaN</td>\n",
       "      <td>NaN</td>\n",
       "      <td>NaN</td>\n",
       "      <td>NaN</td>\n",
       "      <td>NaN</td>\n",
       "      <td>NaN</td>\n",
       "      <td>NaN</td>\n",
       "      <td>NaN</td>\n",
       "      <td>NaN</td>\n",
       "      <td>NaN</td>\n",
       "      <td>NaN</td>\n",
       "      <td>NaN</td>\n",
       "      <td>76561197970982479</td>\n",
       "      <td>76561197970982479</td>\n",
       "      <td>[{'item_id': '10', 'item_name': 'Counter-Strik...</td>\n",
       "      <td>277.0</td>\n",
       "    </tr>\n",
       "    <tr>\n",
       "      <th>1</th>\n",
       "      <td>NaN</td>\n",
       "      <td>NaN</td>\n",
       "      <td>NaN</td>\n",
       "      <td>NaN</td>\n",
       "      <td>NaN</td>\n",
       "      <td>NaN</td>\n",
       "      <td>NaN</td>\n",
       "      <td>NaN</td>\n",
       "      <td>NaN</td>\n",
       "      <td>NaN</td>\n",
       "      <td>NaN</td>\n",
       "      <td>NaN</td>\n",
       "      <td>NaN</td>\n",
       "      <td>NaN</td>\n",
       "      <td>NaN</td>\n",
       "      <td>js41637</td>\n",
       "      <td>76561198035864385</td>\n",
       "      <td>[{'item_id': '10', 'item_name': 'Counter-Strik...</td>\n",
       "      <td>888.0</td>\n",
       "    </tr>\n",
       "    <tr>\n",
       "      <th>2</th>\n",
       "      <td>NaN</td>\n",
       "      <td>NaN</td>\n",
       "      <td>NaN</td>\n",
       "      <td>NaN</td>\n",
       "      <td>NaN</td>\n",
       "      <td>NaN</td>\n",
       "      <td>NaN</td>\n",
       "      <td>NaN</td>\n",
       "      <td>NaN</td>\n",
       "      <td>NaN</td>\n",
       "      <td>NaN</td>\n",
       "      <td>NaN</td>\n",
       "      <td>NaN</td>\n",
       "      <td>NaN</td>\n",
       "      <td>NaN</td>\n",
       "      <td>evcentric</td>\n",
       "      <td>76561198007712555</td>\n",
       "      <td>[{'item_id': '1200', 'item_name': 'Red Orchest...</td>\n",
       "      <td>137.0</td>\n",
       "    </tr>\n",
       "    <tr>\n",
       "      <th>3</th>\n",
       "      <td>NaN</td>\n",
       "      <td>NaN</td>\n",
       "      <td>NaN</td>\n",
       "      <td>NaN</td>\n",
       "      <td>NaN</td>\n",
       "      <td>NaN</td>\n",
       "      <td>NaN</td>\n",
       "      <td>NaN</td>\n",
       "      <td>NaN</td>\n",
       "      <td>NaN</td>\n",
       "      <td>NaN</td>\n",
       "      <td>NaN</td>\n",
       "      <td>NaN</td>\n",
       "      <td>NaN</td>\n",
       "      <td>NaN</td>\n",
       "      <td>Riot-Punch</td>\n",
       "      <td>76561197963445855</td>\n",
       "      <td>[{'item_id': '10', 'item_name': 'Counter-Strik...</td>\n",
       "      <td>328.0</td>\n",
       "    </tr>\n",
       "    <tr>\n",
       "      <th>4</th>\n",
       "      <td>NaN</td>\n",
       "      <td>NaN</td>\n",
       "      <td>NaN</td>\n",
       "      <td>NaN</td>\n",
       "      <td>NaN</td>\n",
       "      <td>NaN</td>\n",
       "      <td>NaN</td>\n",
       "      <td>NaN</td>\n",
       "      <td>NaN</td>\n",
       "      <td>NaN</td>\n",
       "      <td>NaN</td>\n",
       "      <td>NaN</td>\n",
       "      <td>NaN</td>\n",
       "      <td>NaN</td>\n",
       "      <td>NaN</td>\n",
       "      <td>doctr</td>\n",
       "      <td>76561198002099482</td>\n",
       "      <td>[{'item_id': '300', 'item_name': 'Day of Defea...</td>\n",
       "      <td>541.0</td>\n",
       "    </tr>\n",
       "  </tbody>\n",
       "</table>\n",
       "</div>"
      ],
      "text/plain": [
       "  publisher genres app_name title  url release_date tags reviews_url  \\\n",
       "0       NaN    NaN      NaN   NaN  NaN          NaN  NaN         NaN   \n",
       "1       NaN    NaN      NaN   NaN  NaN          NaN  NaN         NaN   \n",
       "2       NaN    NaN      NaN   NaN  NaN          NaN  NaN         NaN   \n",
       "3       NaN    NaN      NaN   NaN  NaN          NaN  NaN         NaN   \n",
       "4       NaN    NaN      NaN   NaN  NaN          NaN  NaN         NaN   \n",
       "\n",
       "   discount_price specs price early_access item_id metascore developer  \\\n",
       "0             NaN   NaN   NaN          NaN     NaN       NaN       NaN   \n",
       "1             NaN   NaN   NaN          NaN     NaN       NaN       NaN   \n",
       "2             NaN   NaN   NaN          NaN     NaN       NaN       NaN   \n",
       "3             NaN   NaN   NaN          NaN     NaN       NaN       NaN   \n",
       "4             NaN   NaN   NaN          NaN     NaN       NaN       NaN   \n",
       "\n",
       "             user_id           steam_id  \\\n",
       "0  76561197970982479  76561197970982479   \n",
       "1            js41637  76561198035864385   \n",
       "2          evcentric  76561198007712555   \n",
       "3         Riot-Punch  76561197963445855   \n",
       "4              doctr  76561198002099482   \n",
       "\n",
       "                                               items  items_count  \n",
       "0  [{'item_id': '10', 'item_name': 'Counter-Strik...        277.0  \n",
       "1  [{'item_id': '10', 'item_name': 'Counter-Strik...        888.0  \n",
       "2  [{'item_id': '1200', 'item_name': 'Red Orchest...        137.0  \n",
       "3  [{'item_id': '10', 'item_name': 'Counter-Strik...        328.0  \n",
       "4  [{'item_id': '300', 'item_name': 'Day of Defea...        541.0  "
      ]
     },
     "execution_count": 8,
     "metadata": {},
     "output_type": "execute_result"
    }
   ],
   "source": [
    "# Renombra la columna \"id\" a \"item_id\"\n",
    "df_output_steam_json.rename(columns={\"id\": \"item_id\"}, inplace=True)\n",
    "df_output_steam_json.head()"
   ]
  },
  {
   "cell_type": "code",
   "execution_count": 9,
   "metadata": {},
   "outputs": [
    {
     "data": {
      "text/html": [
       "<div>\n",
       "<style scoped>\n",
       "    .dataframe tbody tr th:only-of-type {\n",
       "        vertical-align: middle;\n",
       "    }\n",
       "\n",
       "    .dataframe tbody tr th {\n",
       "        vertical-align: top;\n",
       "    }\n",
       "\n",
       "    .dataframe thead th {\n",
       "        text-align: right;\n",
       "    }\n",
       "</style>\n",
       "<table border=\"1\" class=\"dataframe\">\n",
       "  <thead>\n",
       "    <tr style=\"text-align: right;\">\n",
       "      <th></th>\n",
       "      <th>publisher</th>\n",
       "      <th>genres</th>\n",
       "      <th>app_name</th>\n",
       "      <th>title</th>\n",
       "      <th>url</th>\n",
       "      <th>release_date</th>\n",
       "      <th>tags</th>\n",
       "      <th>reviews_url</th>\n",
       "      <th>discount_price</th>\n",
       "      <th>specs</th>\n",
       "      <th>price</th>\n",
       "      <th>early_access</th>\n",
       "      <th>item_id</th>\n",
       "      <th>metascore</th>\n",
       "      <th>developer</th>\n",
       "      <th>user_id</th>\n",
       "      <th>steam_id</th>\n",
       "      <th>items</th>\n",
       "      <th>items_count</th>\n",
       "    </tr>\n",
       "  </thead>\n",
       "  <tbody>\n",
       "    <tr>\n",
       "      <th>120416</th>\n",
       "      <td>Valve</td>\n",
       "      <td>[Action]</td>\n",
       "      <td>Counter-Strike</td>\n",
       "      <td>Counter-Strike</td>\n",
       "      <td>http://store.steampowered.com/app/10/CounterSt...</td>\n",
       "      <td>2000-11-01</td>\n",
       "      <td>[Action, FPS, Multiplayer, Shooter, Classic, T...</td>\n",
       "      <td>http://steamcommunity.com/app/10/reviews/?brow...</td>\n",
       "      <td>NaN</td>\n",
       "      <td>[Multi-player, Valve Anti-Cheat enabled]</td>\n",
       "      <td>9.99</td>\n",
       "      <td>False</td>\n",
       "      <td>10</td>\n",
       "      <td>88</td>\n",
       "      <td>Valve</td>\n",
       "      <td>NaN</td>\n",
       "      <td>NaN</td>\n",
       "      <td>NaN</td>\n",
       "      <td>NaN</td>\n",
       "    </tr>\n",
       "  </tbody>\n",
       "</table>\n",
       "</div>"
      ],
      "text/plain": [
       "       publisher    genres        app_name           title  \\\n",
       "120416     Valve  [Action]  Counter-Strike  Counter-Strike   \n",
       "\n",
       "                                                      url release_date  \\\n",
       "120416  http://store.steampowered.com/app/10/CounterSt...   2000-11-01   \n",
       "\n",
       "                                                     tags  \\\n",
       "120416  [Action, FPS, Multiplayer, Shooter, Classic, T...   \n",
       "\n",
       "                                              reviews_url  discount_price  \\\n",
       "120416  http://steamcommunity.com/app/10/reviews/?brow...             NaN   \n",
       "\n",
       "                                           specs price early_access item_id  \\\n",
       "120416  [Multi-player, Valve Anti-Cheat enabled]  9.99        False      10   \n",
       "\n",
       "       metascore developer user_id steam_id items  items_count  \n",
       "120416        88     Valve     NaN      NaN   NaN          NaN  "
      ]
     },
     "execution_count": 9,
     "metadata": {},
     "output_type": "execute_result"
    }
   ],
   "source": [
    "df_output_steam_json[df_output_steam_json['item_id'] == '10']"
   ]
  },
  {
   "cell_type": "markdown",
   "metadata": {},
   "source": [
    "VALIDAMOS LA ESTRUCTURA ITEMS (anidada) DEL ARCHIVO STEAM GAMES"
   ]
  },
  {
   "cell_type": "markdown",
   "metadata": {},
   "source": [
    "Se detecto que si viene informado ITEMs el resto de los datos es nulo.\n",
    "\n",
    "Ademas, esa informacion ya la tenemos en USER ITEMs. Asi que sera descartada por redundancia de datos."
   ]
  },
  {
   "cell_type": "code",
   "execution_count": 10,
   "metadata": {},
   "outputs": [
    {
     "name": "stdout",
     "output_type": "stream",
     "text": [
      "<class 'pandas.core.frame.DataFrame'>\n",
      "Index: 88310 entries, 0 to 88309\n",
      "Data columns (total 6 columns):\n",
      " #   Column        Non-Null Count  Dtype \n",
      "---  ------        --------------  ----- \n",
      " 0   item_id       0 non-null      object\n",
      " 1   genres        0 non-null      object\n",
      " 2   release_date  0 non-null      object\n",
      " 3   price         0 non-null      object\n",
      " 4   developer     0 non-null      object\n",
      " 5   items         88310 non-null  object\n",
      "dtypes: object(6)\n",
      "memory usage: 4.7+ MB\n"
     ]
    }
   ],
   "source": [
    "df_output_steam_json[df_output_steam_json[\"items\"].notna()][['item_id', 'genres', 'release_date', 'price', 'developer', 'items']].info()"
   ]
  },
  {
   "cell_type": "code",
   "execution_count": 11,
   "metadata": {},
   "outputs": [
    {
     "data": {
      "text/plain": [
       "['item_id', 'genres', 'release_date', 'price', 'developer']"
      ]
     },
     "execution_count": 11,
     "metadata": {},
     "output_type": "execute_result"
    }
   ],
   "source": [
    "cols_output_steam_json"
   ]
  },
  {
   "cell_type": "code",
   "execution_count": 12,
   "metadata": {},
   "outputs": [],
   "source": [
    "#Nos quedamos con las columnas necesarias para los EndPoints\n",
    "df_output_steam_json = df_output_steam_json[cols_output_steam_json]"
   ]
  },
  {
   "cell_type": "code",
   "execution_count": 13,
   "metadata": {},
   "outputs": [
    {
     "data": {
      "text/html": [
       "<div>\n",
       "<style scoped>\n",
       "    .dataframe tbody tr th:only-of-type {\n",
       "        vertical-align: middle;\n",
       "    }\n",
       "\n",
       "    .dataframe tbody tr th {\n",
       "        vertical-align: top;\n",
       "    }\n",
       "\n",
       "    .dataframe thead th {\n",
       "        text-align: right;\n",
       "    }\n",
       "</style>\n",
       "<table border=\"1\" class=\"dataframe\">\n",
       "  <thead>\n",
       "    <tr style=\"text-align: right;\">\n",
       "      <th></th>\n",
       "      <th>item_id</th>\n",
       "      <th>genres</th>\n",
       "      <th>release_date</th>\n",
       "      <th>price</th>\n",
       "      <th>developer</th>\n",
       "    </tr>\n",
       "  </thead>\n",
       "  <tbody>\n",
       "    <tr>\n",
       "      <th>0</th>\n",
       "      <td>NaN</td>\n",
       "      <td>NaN</td>\n",
       "      <td>NaN</td>\n",
       "      <td>NaN</td>\n",
       "      <td>NaN</td>\n",
       "    </tr>\n",
       "    <tr>\n",
       "      <th>1</th>\n",
       "      <td>NaN</td>\n",
       "      <td>NaN</td>\n",
       "      <td>NaN</td>\n",
       "      <td>NaN</td>\n",
       "      <td>NaN</td>\n",
       "    </tr>\n",
       "    <tr>\n",
       "      <th>2</th>\n",
       "      <td>NaN</td>\n",
       "      <td>NaN</td>\n",
       "      <td>NaN</td>\n",
       "      <td>NaN</td>\n",
       "      <td>NaN</td>\n",
       "    </tr>\n",
       "    <tr>\n",
       "      <th>3</th>\n",
       "      <td>NaN</td>\n",
       "      <td>NaN</td>\n",
       "      <td>NaN</td>\n",
       "      <td>NaN</td>\n",
       "      <td>NaN</td>\n",
       "    </tr>\n",
       "    <tr>\n",
       "      <th>4</th>\n",
       "      <td>NaN</td>\n",
       "      <td>NaN</td>\n",
       "      <td>NaN</td>\n",
       "      <td>NaN</td>\n",
       "      <td>NaN</td>\n",
       "    </tr>\n",
       "  </tbody>\n",
       "</table>\n",
       "</div>"
      ],
      "text/plain": [
       "  item_id genres release_date price developer\n",
       "0     NaN    NaN          NaN   NaN       NaN\n",
       "1     NaN    NaN          NaN   NaN       NaN\n",
       "2     NaN    NaN          NaN   NaN       NaN\n",
       "3     NaN    NaN          NaN   NaN       NaN\n",
       "4     NaN    NaN          NaN   NaN       NaN"
      ]
     },
     "execution_count": 13,
     "metadata": {},
     "output_type": "execute_result"
    }
   ],
   "source": [
    "df_output_steam_json[cols_output_steam_json].head()"
   ]
  },
  {
   "cell_type": "markdown",
   "metadata": {},
   "source": [
    "ELIMINAMOS REGISTROS SIN INFORMACION, GENERADOS POR LA ESTRUCTURA ITEMs"
   ]
  },
  {
   "cell_type": "code",
   "execution_count": 14,
   "metadata": {},
   "outputs": [
    {
     "data": {
      "text/plain": [
       "120445"
      ]
     },
     "execution_count": 14,
     "metadata": {},
     "output_type": "execute_result"
    }
   ],
   "source": [
    "df_output_steam_json.shape[0]"
   ]
  },
  {
   "cell_type": "code",
   "execution_count": 15,
   "metadata": {},
   "outputs": [],
   "source": [
    "#Solo elimina las filas donde todos sus campos o columnas sean Nulas.\n",
    "df_output_steam_json = df_output_steam_json.dropna(how='all')"
   ]
  },
  {
   "cell_type": "code",
   "execution_count": 16,
   "metadata": {},
   "outputs": [
    {
     "data": {
      "text/plain": [
       "32135"
      ]
     },
     "execution_count": 16,
     "metadata": {},
     "output_type": "execute_result"
    }
   ],
   "source": [
    "df_output_steam_json.shape[0]"
   ]
  },
  {
   "cell_type": "code",
   "execution_count": 17,
   "metadata": {},
   "outputs": [
    {
     "data": {
      "text/html": [
       "<div>\n",
       "<style scoped>\n",
       "    .dataframe tbody tr th:only-of-type {\n",
       "        vertical-align: middle;\n",
       "    }\n",
       "\n",
       "    .dataframe tbody tr th {\n",
       "        vertical-align: top;\n",
       "    }\n",
       "\n",
       "    .dataframe thead th {\n",
       "        text-align: right;\n",
       "    }\n",
       "</style>\n",
       "<table border=\"1\" class=\"dataframe\">\n",
       "  <thead>\n",
       "    <tr style=\"text-align: right;\">\n",
       "      <th></th>\n",
       "      <th>item_id</th>\n",
       "      <th>genres</th>\n",
       "      <th>release_date</th>\n",
       "      <th>price</th>\n",
       "      <th>developer</th>\n",
       "    </tr>\n",
       "  </thead>\n",
       "  <tbody>\n",
       "    <tr>\n",
       "      <th>88310</th>\n",
       "      <td>761140</td>\n",
       "      <td>[Action, Casual, Indie, Simulation, Strategy]</td>\n",
       "      <td>2018-01-04</td>\n",
       "      <td>4.99</td>\n",
       "      <td>Kotoshiro</td>\n",
       "    </tr>\n",
       "    <tr>\n",
       "      <th>88311</th>\n",
       "      <td>643980</td>\n",
       "      <td>[Free to Play, Indie, RPG, Strategy]</td>\n",
       "      <td>2018-01-04</td>\n",
       "      <td>Free To Play</td>\n",
       "      <td>Secret Level SRL</td>\n",
       "    </tr>\n",
       "    <tr>\n",
       "      <th>88312</th>\n",
       "      <td>670290</td>\n",
       "      <td>[Casual, Free to Play, Indie, Simulation, Sports]</td>\n",
       "      <td>2017-07-24</td>\n",
       "      <td>Free to Play</td>\n",
       "      <td>Poolians.com</td>\n",
       "    </tr>\n",
       "    <tr>\n",
       "      <th>88313</th>\n",
       "      <td>767400</td>\n",
       "      <td>[Action, Adventure, Casual]</td>\n",
       "      <td>2017-12-07</td>\n",
       "      <td>0.99</td>\n",
       "      <td>彼岸领域</td>\n",
       "    </tr>\n",
       "    <tr>\n",
       "      <th>88314</th>\n",
       "      <td>773570</td>\n",
       "      <td>NaN</td>\n",
       "      <td>NaN</td>\n",
       "      <td>2.99</td>\n",
       "      <td>NaN</td>\n",
       "    </tr>\n",
       "  </tbody>\n",
       "</table>\n",
       "</div>"
      ],
      "text/plain": [
       "      item_id                                             genres release_date  \\\n",
       "88310  761140      [Action, Casual, Indie, Simulation, Strategy]   2018-01-04   \n",
       "88311  643980               [Free to Play, Indie, RPG, Strategy]   2018-01-04   \n",
       "88312  670290  [Casual, Free to Play, Indie, Simulation, Sports]   2017-07-24   \n",
       "88313  767400                        [Action, Adventure, Casual]   2017-12-07   \n",
       "88314  773570                                                NaN          NaN   \n",
       "\n",
       "              price         developer  \n",
       "88310          4.99         Kotoshiro  \n",
       "88311  Free To Play  Secret Level SRL  \n",
       "88312  Free to Play      Poolians.com  \n",
       "88313          0.99              彼岸领域  \n",
       "88314          2.99               NaN  "
      ]
     },
     "execution_count": 17,
     "metadata": {},
     "output_type": "execute_result"
    }
   ],
   "source": [
    "df_output_steam_json.head()"
   ]
  },
  {
   "cell_type": "markdown",
   "metadata": {},
   "source": [
    "OBSERVAMOS LA PRESENCIA DE NULOS EN LAS COLUMNAS SELECCIONADAS"
   ]
  },
  {
   "cell_type": "code",
   "execution_count": 18,
   "metadata": {},
   "outputs": [
    {
     "name": "stdout",
     "output_type": "stream",
     "text": [
      "<class 'pandas.core.frame.DataFrame'>\n",
      "Index: 32135 entries, 88310 to 120444\n",
      "Data columns (total 5 columns):\n",
      " #   Column        Non-Null Count  Dtype \n",
      "---  ------        --------------  ----- \n",
      " 0   item_id       32133 non-null  object\n",
      " 1   genres        28852 non-null  object\n",
      " 2   release_date  30068 non-null  object\n",
      " 3   price         30758 non-null  object\n",
      " 4   developer     28836 non-null  object\n",
      "dtypes: object(5)\n",
      "memory usage: 1.5+ MB\n"
     ]
    }
   ],
   "source": [
    "df_output_steam_json.info()"
   ]
  },
  {
   "cell_type": "markdown",
   "metadata": {},
   "source": [
    ".\n",
    "\n",
    "."
   ]
  },
  {
   "cell_type": "markdown",
   "metadata": {},
   "source": [
    "TRATAMIENTO DE NULOS CAMPO A CAMPO"
   ]
  },
  {
   "cell_type": "markdown",
   "metadata": {},
   "source": [
    ".\n",
    "\n",
    "."
   ]
  },
  {
   "cell_type": "markdown",
   "metadata": {},
   "source": [
    "ITEM-ID"
   ]
  },
  {
   "cell_type": "code",
   "execution_count": 19,
   "metadata": {},
   "outputs": [
    {
     "data": {
      "text/plain": [
       "2"
      ]
     },
     "execution_count": 19,
     "metadata": {},
     "output_type": "execute_result"
    }
   ],
   "source": [
    "#observamos la cantidad de registros nulos de ITEM-ID\n",
    "df_output_steam_json[df_output_steam_json[\"item_id\"].isna()].shape[0]"
   ]
  },
  {
   "cell_type": "code",
   "execution_count": 20,
   "metadata": {},
   "outputs": [
    {
     "data": {
      "text/html": [
       "<div>\n",
       "<style scoped>\n",
       "    .dataframe tbody tr th:only-of-type {\n",
       "        vertical-align: middle;\n",
       "    }\n",
       "\n",
       "    .dataframe tbody tr th {\n",
       "        vertical-align: top;\n",
       "    }\n",
       "\n",
       "    .dataframe thead th {\n",
       "        text-align: right;\n",
       "    }\n",
       "</style>\n",
       "<table border=\"1\" class=\"dataframe\">\n",
       "  <thead>\n",
       "    <tr style=\"text-align: right;\">\n",
       "      <th></th>\n",
       "      <th>item_id</th>\n",
       "      <th>genres</th>\n",
       "      <th>release_date</th>\n",
       "      <th>price</th>\n",
       "      <th>developer</th>\n",
       "    </tr>\n",
       "  </thead>\n",
       "  <tbody>\n",
       "    <tr>\n",
       "      <th>88384</th>\n",
       "      <td>NaN</td>\n",
       "      <td>NaN</td>\n",
       "      <td>NaN</td>\n",
       "      <td>19.99</td>\n",
       "      <td>NaN</td>\n",
       "    </tr>\n",
       "    <tr>\n",
       "      <th>119271</th>\n",
       "      <td>NaN</td>\n",
       "      <td>[Action, Adventure]</td>\n",
       "      <td>2012-09-07</td>\n",
       "      <td>19.99</td>\n",
       "      <td>Rocksteady Studios,Feral Interactive (Mac)</td>\n",
       "    </tr>\n",
       "  </tbody>\n",
       "</table>\n",
       "</div>"
      ],
      "text/plain": [
       "       item_id               genres release_date  price  \\\n",
       "88384      NaN                  NaN          NaN  19.99   \n",
       "119271     NaN  [Action, Adventure]   2012-09-07  19.99   \n",
       "\n",
       "                                         developer  \n",
       "88384                                          NaN  \n",
       "119271  Rocksteady Studios,Feral Interactive (Mac)  "
      ]
     },
     "execution_count": 20,
     "metadata": {},
     "output_type": "execute_result"
    }
   ],
   "source": [
    "#observamos los registros nulos de ITEM-ID\n",
    "df_output_steam_json[df_output_steam_json[\"item_id\"].isna()]"
   ]
  },
  {
   "cell_type": "markdown",
   "metadata": {},
   "source": [
    "Procedemos a la eliminacion de los registros sin Item_Id ya que no hay forma de imputarlo o reconstruirlo con los datos que tenemos"
   ]
  },
  {
   "cell_type": "code",
   "execution_count": 21,
   "metadata": {},
   "outputs": [
    {
     "data": {
      "text/plain": [
       "32135"
      ]
     },
     "execution_count": 21,
     "metadata": {},
     "output_type": "execute_result"
    }
   ],
   "source": [
    "#Cantidad de Registros previo a la eliminacion\n",
    "df_output_steam_json.shape[0]"
   ]
  },
  {
   "cell_type": "code",
   "execution_count": 22,
   "metadata": {},
   "outputs": [],
   "source": [
    "# Elimina las filas donde \"item_id\" sea nulo\n",
    "df_output_steam_json = df_output_steam_json.dropna(subset=[\"item_id\"])"
   ]
  },
  {
   "cell_type": "code",
   "execution_count": 23,
   "metadata": {},
   "outputs": [
    {
     "data": {
      "text/plain": [
       "32133"
      ]
     },
     "execution_count": 23,
     "metadata": {},
     "output_type": "execute_result"
    }
   ],
   "source": [
    "#Cantidad de Registros luego de la eliminacion\n",
    "df_output_steam_json.shape[0]"
   ]
  },
  {
   "cell_type": "code",
   "execution_count": 24,
   "metadata": {},
   "outputs": [],
   "source": [
    "#Convertimos la columna a Entero\n",
    "df_output_steam_json['item_id'] = df_output_steam_json['item_id'].astype(int)"
   ]
  },
  {
   "cell_type": "markdown",
   "metadata": {},
   "source": [
    "GENRES"
   ]
  },
  {
   "cell_type": "markdown",
   "metadata": {},
   "source": [
    "VALIDO CUANTOS GENROS DIFERENTES TENGO PREVIO A CUALQUIER MODIFICACION"
   ]
  },
  {
   "cell_type": "code",
   "execution_count": 25,
   "metadata": {},
   "outputs": [
    {
     "name": "stdout",
     "output_type": "stream",
     "text": [
      "['Simulation', 'Video Production', 'Audio Production', 'Photo Editing', 'Sports', 'Animation &amp; Modeling', 'Adventure', 'Education', 'Accounting', 'Software Training', 'Indie', 'Utilities', 'Web Publishing', 'nan', 'RPG', 'Free to Play', 'Action', 'Early Access', 'Casual', 'Racing', 'Strategy', 'Design &amp; Illustration', 'Massively Multiplayer']\n",
      "23\n"
     ]
    }
   ],
   "source": [
    "# Convierto en string\n",
    "# Si no es lista se pasa directo a string\n",
    "#Si es lista, se conveierte a cadena, separando los elementos (generos) por coma.\n",
    "genres_str = df_output_steam_json[\"genres\"].apply(lambda x: ', '.join(map(str, x)) if isinstance(x, list) else str(x))\n",
    "\n",
    "# Dividir la columna 'genres' en géneros individuales y crear un conjunto de géneros únicos\n",
    "unique_genres_set = set(genres_str.str.split(',').explode().str.strip())\n",
    "\n",
    "# Convertir el conjunto de géneros únicos en una lista\n",
    "unique_genres_list = list(unique_genres_set)\n",
    "\n",
    "# Mostrar la lista de géneros únicos\n",
    "print(unique_genres_list)\n",
    "print(len(unique_genres_list))\n"
   ]
  },
  {
   "cell_type": "code",
   "execution_count": 26,
   "metadata": {},
   "outputs": [
    {
     "data": {
      "text/plain": [
       "3282"
      ]
     },
     "execution_count": 26,
     "metadata": {},
     "output_type": "execute_result"
    }
   ],
   "source": [
    "#observamos la cantidad de registros nulos en el campo GENRES\n",
    "df_output_steam_json[df_output_steam_json[\"genres\"].isna()].shape[0]"
   ]
  },
  {
   "cell_type": "code",
   "execution_count": 27,
   "metadata": {},
   "outputs": [
    {
     "data": {
      "text/html": [
       "<div>\n",
       "<style scoped>\n",
       "    .dataframe tbody tr th:only-of-type {\n",
       "        vertical-align: middle;\n",
       "    }\n",
       "\n",
       "    .dataframe tbody tr th {\n",
       "        vertical-align: top;\n",
       "    }\n",
       "\n",
       "    .dataframe thead th {\n",
       "        text-align: right;\n",
       "    }\n",
       "</style>\n",
       "<table border=\"1\" class=\"dataframe\">\n",
       "  <thead>\n",
       "    <tr style=\"text-align: right;\">\n",
       "      <th></th>\n",
       "      <th>item_id</th>\n",
       "      <th>genres</th>\n",
       "      <th>release_date</th>\n",
       "      <th>price</th>\n",
       "      <th>developer</th>\n",
       "    </tr>\n",
       "  </thead>\n",
       "  <tbody>\n",
       "    <tr>\n",
       "      <th>88314</th>\n",
       "      <td>773570</td>\n",
       "      <td>NaN</td>\n",
       "      <td>NaN</td>\n",
       "      <td>2.99</td>\n",
       "      <td>NaN</td>\n",
       "    </tr>\n",
       "    <tr>\n",
       "      <th>88321</th>\n",
       "      <td>724910</td>\n",
       "      <td>NaN</td>\n",
       "      <td>NaN</td>\n",
       "      <td>Free</td>\n",
       "      <td>NaN</td>\n",
       "    </tr>\n",
       "    <tr>\n",
       "      <th>88329</th>\n",
       "      <td>772590</td>\n",
       "      <td>NaN</td>\n",
       "      <td>NaN</td>\n",
       "      <td>4.99</td>\n",
       "      <td>NaN</td>\n",
       "    </tr>\n",
       "    <tr>\n",
       "      <th>88330</th>\n",
       "      <td>640250</td>\n",
       "      <td>NaN</td>\n",
       "      <td>NaN</td>\n",
       "      <td>2.99</td>\n",
       "      <td>NaN</td>\n",
       "    </tr>\n",
       "    <tr>\n",
       "      <th>88332</th>\n",
       "      <td>711440</td>\n",
       "      <td>NaN</td>\n",
       "      <td>NaN</td>\n",
       "      <td>0.99</td>\n",
       "      <td>NaN</td>\n",
       "    </tr>\n",
       "  </tbody>\n",
       "</table>\n",
       "</div>"
      ],
      "text/plain": [
       "       item_id genres release_date price developer\n",
       "88314   773570    NaN          NaN  2.99       NaN\n",
       "88321   724910    NaN          NaN  Free       NaN\n",
       "88329   772590    NaN          NaN  4.99       NaN\n",
       "88330   640250    NaN          NaN  2.99       NaN\n",
       "88332   711440    NaN          NaN  0.99       NaN"
      ]
     },
     "execution_count": 27,
     "metadata": {},
     "output_type": "execute_result"
    }
   ],
   "source": [
    "df_output_steam_json[df_output_steam_json[\"genres\"].isna()].head()"
   ]
  },
  {
   "cell_type": "markdown",
   "metadata": {},
   "source": [
    "Debido a que es muy dificil obtener un resultado CONFIABLE al tratar de inferir los generos con el resto de la informacion disponible, se ha optado por hacer un ETIQUETADO especial a esos registros con generos nulos.\n",
    "\n",
    "Se procedera a imputar [\"Desconocido] a todos esos casos con el objetivo de no perder informacion relevante como ser: precios, fechas, etc."
   ]
  },
  {
   "cell_type": "code",
   "execution_count": 28,
   "metadata": {},
   "outputs": [],
   "source": [
    "#eliminamos los elementos o generos 'Free To Play' y 'Early Access' ya que condiseramos no ser un genero.\n",
    "df_output_steam_json['genres'] = df_output_steam_json['genres'].apply(lambda x: [genre for genre in x if isinstance(x, list) and genre != 'Free to Play'] if isinstance(x, list) else x)\n",
    "df_output_steam_json['genres'] = df_output_steam_json['genres'].apply(lambda x: [genre for genre in x if isinstance(x, list) and genre != 'Early Access'] if isinstance(x, list) else x)\n",
    "\n",
    "#Si solamente tenia ese genero, me va a quedar una lista vacia, en esos casos imputo Desconocido\n",
    "df_output_steam_json['genres'] = df_output_steam_json['genres'].apply(lambda x: ['Desconocido'] if (isinstance(x, list) and (len(x) == 0 or (len(x) == 1 and x[0] == ''))) else x)"
   ]
  },
  {
   "cell_type": "code",
   "execution_count": 29,
   "metadata": {},
   "outputs": [
    {
     "name": "stdout",
     "output_type": "stream",
     "text": [
      "['Simulation', 'Video Production', 'Audio Production', 'Photo Editing', 'Sports', 'Animation &amp; Modeling', 'Adventure', 'Education', 'Accounting', 'Software Training', 'Indie', 'Utilities', 'Web Publishing', 'nan', 'Desconocido', 'RPG', 'Action', 'Casual', 'Racing', 'Strategy', 'Design &amp; Illustration', 'Massively Multiplayer']\n",
      "22\n"
     ]
    }
   ],
   "source": [
    "# Convierto en string\n",
    "# Si no es lista se pasa directo a string\n",
    "#Si es lista, se conveierte a cadena, separando los elementos (generos) por coma.\n",
    "genres_str = df_output_steam_json[\"genres\"].apply(lambda x: ', '.join(map(str, x)) if isinstance(x, list) else str(x))\n",
    "\n",
    "# Dividir la columna 'genres' en géneros individuales y crear un conjunto de géneros únicos\n",
    "unique_genres_set = set(genres_str.str.split(',').explode().str.strip())\n",
    "\n",
    "# Convertir el conjunto de géneros únicos en una lista\n",
    "unique_genres_list = list(unique_genres_set)\n",
    "\n",
    "# Mostrar la lista de géneros únicos\n",
    "print(unique_genres_list)\n",
    "print(len(unique_genres_list))"
   ]
  },
  {
   "cell_type": "markdown",
   "metadata": {},
   "source": [
    "transformo la columna de genres en string"
   ]
  },
  {
   "cell_type": "code",
   "execution_count": 30,
   "metadata": {},
   "outputs": [],
   "source": [
    "# Verifica el contenido de GENRES\n",
    "# Si no es lista se pasa directo a string\n",
    "#Si es lista, se conveierte a cadena, separando los elementos (generos) por coma.\n",
    "df_output_steam_json[\"genres\"] = df_output_steam_json[\"genres\"].apply(lambda x: ', '.join(map(str, x)) if isinstance(x, list) else str(x)).str.strip()"
   ]
  },
  {
   "cell_type": "code",
   "execution_count": 31,
   "metadata": {},
   "outputs": [],
   "source": [
    "# Verifica y asigna \"Desconocido\" a registros nulos y vacios en la columna \"genres\"\n",
    "df_output_steam_json['genres'] = df_output_steam_json['genres'].apply(lambda x: \"Desconocido\" if x == 'nan' else x)\n",
    "df_output_steam_json['genres'] = df_output_steam_json['genres'].apply(lambda x: \"Desconocido\" if x == '' else x)"
   ]
  },
  {
   "cell_type": "code",
   "execution_count": 32,
   "metadata": {},
   "outputs": [
    {
     "data": {
      "text/plain": [
       "0"
      ]
     },
     "execution_count": 32,
     "metadata": {},
     "output_type": "execute_result"
    }
   ],
   "source": [
    "#observamos los registros nulos tras la imputacion\n",
    "df_output_steam_json[df_output_steam_json[\"genres\"].isna()].shape[0]"
   ]
  },
  {
   "cell_type": "code",
   "execution_count": 33,
   "metadata": {},
   "outputs": [
    {
     "data": {
      "text/plain": [
       "0"
      ]
     },
     "execution_count": 33,
     "metadata": {},
     "output_type": "execute_result"
    }
   ],
   "source": [
    "df_output_steam_json[df_output_steam_json['genres'] == ''].shape[0]"
   ]
  },
  {
   "cell_type": "code",
   "execution_count": 34,
   "metadata": {},
   "outputs": [],
   "source": [
    "# Sustituir la subcadena 'Design &amp; ' por ''\n",
    "df_output_steam_json['genres'] = df_output_steam_json['genres'].str.replace('Design &amp; ', '')\n",
    "df_output_steam_json['genres'] = df_output_steam_json['genres'].str.replace('Animation &amp; ', '')\n",
    "df_output_steam_json['genres'] = df_output_steam_json['genres'].str.rstrip(', ')"
   ]
  },
  {
   "cell_type": "code",
   "execution_count": 35,
   "metadata": {},
   "outputs": [
    {
     "data": {
      "text/plain": [
       "0"
      ]
     },
     "execution_count": 35,
     "metadata": {},
     "output_type": "execute_result"
    }
   ],
   "source": [
    "df_output_steam_json[df_output_steam_json['genres'] == ''].shape[0]"
   ]
  },
  {
   "cell_type": "code",
   "execution_count": 36,
   "metadata": {},
   "outputs": [
    {
     "data": {
      "text/html": [
       "<div>\n",
       "<style scoped>\n",
       "    .dataframe tbody tr th:only-of-type {\n",
       "        vertical-align: middle;\n",
       "    }\n",
       "\n",
       "    .dataframe tbody tr th {\n",
       "        vertical-align: top;\n",
       "    }\n",
       "\n",
       "    .dataframe thead th {\n",
       "        text-align: right;\n",
       "    }\n",
       "</style>\n",
       "<table border=\"1\" class=\"dataframe\">\n",
       "  <thead>\n",
       "    <tr style=\"text-align: right;\">\n",
       "      <th></th>\n",
       "      <th>item_id</th>\n",
       "      <th>genres</th>\n",
       "      <th>release_date</th>\n",
       "      <th>price</th>\n",
       "      <th>developer</th>\n",
       "    </tr>\n",
       "  </thead>\n",
       "  <tbody>\n",
       "    <tr>\n",
       "      <th>88310</th>\n",
       "      <td>761140</td>\n",
       "      <td>Action, Casual, Indie, Simulation, Strategy</td>\n",
       "      <td>2018-01-04</td>\n",
       "      <td>4.99</td>\n",
       "      <td>Kotoshiro</td>\n",
       "    </tr>\n",
       "    <tr>\n",
       "      <th>88311</th>\n",
       "      <td>643980</td>\n",
       "      <td>Indie, RPG, Strategy</td>\n",
       "      <td>2018-01-04</td>\n",
       "      <td>Free To Play</td>\n",
       "      <td>Secret Level SRL</td>\n",
       "    </tr>\n",
       "    <tr>\n",
       "      <th>88312</th>\n",
       "      <td>670290</td>\n",
       "      <td>Casual, Indie, Simulation, Sports</td>\n",
       "      <td>2017-07-24</td>\n",
       "      <td>Free to Play</td>\n",
       "      <td>Poolians.com</td>\n",
       "    </tr>\n",
       "    <tr>\n",
       "      <th>88313</th>\n",
       "      <td>767400</td>\n",
       "      <td>Action, Adventure, Casual</td>\n",
       "      <td>2017-12-07</td>\n",
       "      <td>0.99</td>\n",
       "      <td>彼岸领域</td>\n",
       "    </tr>\n",
       "    <tr>\n",
       "      <th>88314</th>\n",
       "      <td>773570</td>\n",
       "      <td>Desconocido</td>\n",
       "      <td>NaN</td>\n",
       "      <td>2.99</td>\n",
       "      <td>NaN</td>\n",
       "    </tr>\n",
       "  </tbody>\n",
       "</table>\n",
       "</div>"
      ],
      "text/plain": [
       "       item_id                                       genres release_date  \\\n",
       "88310   761140  Action, Casual, Indie, Simulation, Strategy   2018-01-04   \n",
       "88311   643980                         Indie, RPG, Strategy   2018-01-04   \n",
       "88312   670290            Casual, Indie, Simulation, Sports   2017-07-24   \n",
       "88313   767400                    Action, Adventure, Casual   2017-12-07   \n",
       "88314   773570                                  Desconocido          NaN   \n",
       "\n",
       "              price         developer  \n",
       "88310          4.99         Kotoshiro  \n",
       "88311  Free To Play  Secret Level SRL  \n",
       "88312  Free to Play      Poolians.com  \n",
       "88313          0.99              彼岸领域  \n",
       "88314          2.99               NaN  "
      ]
     },
     "execution_count": 36,
     "metadata": {},
     "output_type": "execute_result"
    }
   ],
   "source": [
    "df_output_steam_json.head()"
   ]
  },
  {
   "cell_type": "markdown",
   "metadata": {},
   "source": [
    "RELEASE_DATE"
   ]
  },
  {
   "cell_type": "code",
   "execution_count": 37,
   "metadata": {},
   "outputs": [
    {
     "data": {
      "text/plain": [
       "2066"
      ]
     },
     "execution_count": 37,
     "metadata": {},
     "output_type": "execute_result"
    }
   ],
   "source": [
    "#observamos los registros nulos\n",
    "df_output_steam_json[df_output_steam_json[\"release_date\"].isna()].shape[0]"
   ]
  },
  {
   "cell_type": "markdown",
   "metadata": {},
   "source": [
    "Debido a que es muy dificil obtener un resultado CONFIABLE al tratar de inferir las FECHAS de LANZAMIENTO con el resto de la informacion disponible, se ha optado por imputar un valor especial a esos registros con fechas nulas.\n",
    "\n",
    "Se procedera a imputar 1900-01-01 a todos esos casos con el objetivo de no perder informacion relevante."
   ]
  },
  {
   "cell_type": "code",
   "execution_count": 38,
   "metadata": {},
   "outputs": [
    {
     "data": {
      "text/plain": [
       "0"
      ]
     },
     "execution_count": 38,
     "metadata": {},
     "output_type": "execute_result"
    }
   ],
   "source": [
    "#Previo a dicha imputacion comprobamos que esa fecha NO se este utilizando\n",
    "df_output_steam_json[df_output_steam_json[\"release_date\"].str.strip() == \"1900-01-01\"].shape[0]"
   ]
  },
  {
   "cell_type": "code",
   "execution_count": 39,
   "metadata": {},
   "outputs": [
    {
     "data": {
      "text/html": [
       "<div>\n",
       "<style scoped>\n",
       "    .dataframe tbody tr th:only-of-type {\n",
       "        vertical-align: middle;\n",
       "    }\n",
       "\n",
       "    .dataframe tbody tr th {\n",
       "        vertical-align: top;\n",
       "    }\n",
       "\n",
       "    .dataframe thead th {\n",
       "        text-align: right;\n",
       "    }\n",
       "</style>\n",
       "<table border=\"1\" class=\"dataframe\">\n",
       "  <thead>\n",
       "    <tr style=\"text-align: right;\">\n",
       "      <th></th>\n",
       "      <th>item_id</th>\n",
       "      <th>genres</th>\n",
       "      <th>release_date</th>\n",
       "      <th>price</th>\n",
       "      <th>developer</th>\n",
       "    </tr>\n",
       "  </thead>\n",
       "  <tbody>\n",
       "    <tr>\n",
       "      <th>88314</th>\n",
       "      <td>773570</td>\n",
       "      <td>Desconocido</td>\n",
       "      <td>NaN</td>\n",
       "      <td>2.99</td>\n",
       "      <td>NaN</td>\n",
       "    </tr>\n",
       "  </tbody>\n",
       "</table>\n",
       "</div>"
      ],
      "text/plain": [
       "       item_id       genres release_date price developer\n",
       "88314   773570  Desconocido          NaN  2.99       NaN"
      ]
     },
     "execution_count": 39,
     "metadata": {},
     "output_type": "execute_result"
    }
   ],
   "source": [
    "#Visualizo un registro para ver como imputa la fecha default\n",
    "df_output_steam_json[df_output_steam_json[\"release_date\"].isna()].head(1)"
   ]
  },
  {
   "cell_type": "code",
   "execution_count": 40,
   "metadata": {},
   "outputs": [],
   "source": [
    "# Asigna '1900-01-01' a los registros nulos en la columna \"release_date\"\n",
    "df_output_steam_json[\"release_date\"].fillna(pd.to_datetime(DEFAULT_DATE).date().strftime(\"%Y-%m-%d\"), inplace=True)"
   ]
  },
  {
   "cell_type": "code",
   "execution_count": 41,
   "metadata": {},
   "outputs": [
    {
     "data": {
      "text/plain": [
       "0"
      ]
     },
     "execution_count": 41,
     "metadata": {},
     "output_type": "execute_result"
    }
   ],
   "source": [
    "#observamos los registros nulos tras la imputacion\n",
    "df_output_steam_json[df_output_steam_json[\"release_date\"].isna()].shape[0]"
   ]
  },
  {
   "cell_type": "code",
   "execution_count": 42,
   "metadata": {},
   "outputs": [
    {
     "data": {
      "text/html": [
       "<div>\n",
       "<style scoped>\n",
       "    .dataframe tbody tr th:only-of-type {\n",
       "        vertical-align: middle;\n",
       "    }\n",
       "\n",
       "    .dataframe tbody tr th {\n",
       "        vertical-align: top;\n",
       "    }\n",
       "\n",
       "    .dataframe thead th {\n",
       "        text-align: right;\n",
       "    }\n",
       "</style>\n",
       "<table border=\"1\" class=\"dataframe\">\n",
       "  <thead>\n",
       "    <tr style=\"text-align: right;\">\n",
       "      <th></th>\n",
       "      <th>item_id</th>\n",
       "      <th>genres</th>\n",
       "      <th>release_date</th>\n",
       "      <th>price</th>\n",
       "      <th>developer</th>\n",
       "    </tr>\n",
       "  </thead>\n",
       "  <tbody>\n",
       "    <tr>\n",
       "      <th>88314</th>\n",
       "      <td>773570</td>\n",
       "      <td>Desconocido</td>\n",
       "      <td>1900-01-01</td>\n",
       "      <td>2.99</td>\n",
       "      <td>NaN</td>\n",
       "    </tr>\n",
       "  </tbody>\n",
       "</table>\n",
       "</div>"
      ],
      "text/plain": [
       "       item_id       genres release_date price developer\n",
       "88314   773570  Desconocido   1900-01-01  2.99       NaN"
      ]
     },
     "execution_count": 42,
     "metadata": {},
     "output_type": "execute_result"
    }
   ],
   "source": [
    "#Visualizo el registro anterior post imputacion de DEFAULT DATE\n",
    "df_output_steam_json[df_output_steam_json[\"item_id\"] == 773570]"
   ]
  },
  {
   "cell_type": "markdown",
   "metadata": {},
   "source": [
    "Necesitamos verificar la diversidad de posibilidades que nos podemos encontrar ya que manualmente hemos observado muchos tipos de fechas. \n",
    "\n",
    "Vamos a Realizar una separacion de los datos que no estan bajo el formato YYYY-MM-DD"
   ]
  },
  {
   "cell_type": "code",
   "execution_count": 43,
   "metadata": {},
   "outputs": [
    {
     "data": {
      "text/html": [
       "<div>\n",
       "<style scoped>\n",
       "    .dataframe tbody tr th:only-of-type {\n",
       "        vertical-align: middle;\n",
       "    }\n",
       "\n",
       "    .dataframe tbody tr th {\n",
       "        vertical-align: top;\n",
       "    }\n",
       "\n",
       "    .dataframe thead th {\n",
       "        text-align: right;\n",
       "    }\n",
       "</style>\n",
       "<table border=\"1\" class=\"dataframe\">\n",
       "  <thead>\n",
       "    <tr style=\"text-align: right;\">\n",
       "      <th></th>\n",
       "      <th>item_id</th>\n",
       "      <th>genres</th>\n",
       "      <th>release_date</th>\n",
       "      <th>price</th>\n",
       "      <th>developer</th>\n",
       "    </tr>\n",
       "  </thead>\n",
       "  <tbody>\n",
       "    <tr>\n",
       "      <th>88310</th>\n",
       "      <td>761140</td>\n",
       "      <td>Action, Casual, Indie, Simulation, Strategy</td>\n",
       "      <td>2018-01-04</td>\n",
       "      <td>4.99</td>\n",
       "      <td>Kotoshiro</td>\n",
       "    </tr>\n",
       "    <tr>\n",
       "      <th>88311</th>\n",
       "      <td>643980</td>\n",
       "      <td>Indie, RPG, Strategy</td>\n",
       "      <td>2018-01-04</td>\n",
       "      <td>Free To Play</td>\n",
       "      <td>Secret Level SRL</td>\n",
       "    </tr>\n",
       "    <tr>\n",
       "      <th>88312</th>\n",
       "      <td>670290</td>\n",
       "      <td>Casual, Indie, Simulation, Sports</td>\n",
       "      <td>2017-07-24</td>\n",
       "      <td>Free to Play</td>\n",
       "      <td>Poolians.com</td>\n",
       "    </tr>\n",
       "    <tr>\n",
       "      <th>88313</th>\n",
       "      <td>767400</td>\n",
       "      <td>Action, Adventure, Casual</td>\n",
       "      <td>2017-12-07</td>\n",
       "      <td>0.99</td>\n",
       "      <td>彼岸领域</td>\n",
       "    </tr>\n",
       "    <tr>\n",
       "      <th>88314</th>\n",
       "      <td>773570</td>\n",
       "      <td>Desconocido</td>\n",
       "      <td>1900-01-01</td>\n",
       "      <td>2.99</td>\n",
       "      <td>NaN</td>\n",
       "    </tr>\n",
       "  </tbody>\n",
       "</table>\n",
       "</div>"
      ],
      "text/plain": [
       "       item_id                                       genres release_date  \\\n",
       "88310   761140  Action, Casual, Indie, Simulation, Strategy   2018-01-04   \n",
       "88311   643980                         Indie, RPG, Strategy   2018-01-04   \n",
       "88312   670290            Casual, Indie, Simulation, Sports   2017-07-24   \n",
       "88313   767400                    Action, Adventure, Casual   2017-12-07   \n",
       "88314   773570                                  Desconocido   1900-01-01   \n",
       "\n",
       "              price         developer  \n",
       "88310          4.99         Kotoshiro  \n",
       "88311  Free To Play  Secret Level SRL  \n",
       "88312  Free to Play      Poolians.com  \n",
       "88313          0.99              彼岸领域  \n",
       "88314          2.99               NaN  "
      ]
     },
     "execution_count": 43,
     "metadata": {},
     "output_type": "execute_result"
    }
   ],
   "source": [
    "df_output_steam_json.head()"
   ]
  },
  {
   "cell_type": "code",
   "execution_count": 44,
   "metadata": {},
   "outputs": [],
   "source": [
    "#Casteamos a String\n",
    "df_output_steam_json['release_date'] = df_output_steam_json['release_date'].astype(str)\n",
    "\n",
    "# Aplica la función de conversión a la columna 'release_date'\n",
    "df_output_steam_json['converted_release_date'] = df_output_steam_json['release_date'].apply(convertReleaseFuzzy)"
   ]
  },
  {
   "cell_type": "markdown",
   "metadata": {},
   "source": [
    "VALIDAMOS QUE TODAS LAS FECHAS SE HAYAN TRATADO CORRECTAMENTE"
   ]
  },
  {
   "cell_type": "code",
   "execution_count": 45,
   "metadata": {},
   "outputs": [
    {
     "name": "stdout",
     "output_type": "stream",
     "text": [
      "Cantidad de Fechas que no pudieron ser tratadas:  0\n"
     ]
    }
   ],
   "source": [
    "# Filtra los registros que no se pudieron convertir\n",
    "failed_conversion_df = df_output_steam_json[df_output_steam_json['converted_release_date'].isna()]\n",
    "\n",
    "# Muestra el nuevo DataFrame con el conteo de valores\n",
    "print(\"Cantidad de Fechas que no pudieron ser tratadas: \", failed_conversion_df.shape[0])"
   ]
  },
  {
   "cell_type": "code",
   "execution_count": 46,
   "metadata": {},
   "outputs": [
    {
     "data": {
      "text/html": [
       "<div>\n",
       "<style scoped>\n",
       "    .dataframe tbody tr th:only-of-type {\n",
       "        vertical-align: middle;\n",
       "    }\n",
       "\n",
       "    .dataframe tbody tr th {\n",
       "        vertical-align: top;\n",
       "    }\n",
       "\n",
       "    .dataframe thead th {\n",
       "        text-align: right;\n",
       "    }\n",
       "</style>\n",
       "<table border=\"1\" class=\"dataframe\">\n",
       "  <thead>\n",
       "    <tr style=\"text-align: right;\">\n",
       "      <th></th>\n",
       "      <th>item_id</th>\n",
       "      <th>genres</th>\n",
       "      <th>release_date</th>\n",
       "      <th>price</th>\n",
       "      <th>developer</th>\n",
       "      <th>converted_release_date</th>\n",
       "    </tr>\n",
       "  </thead>\n",
       "  <tbody>\n",
       "    <tr>\n",
       "      <th>88314</th>\n",
       "      <td>773570</td>\n",
       "      <td>Desconocido</td>\n",
       "      <td>1900-01-01</td>\n",
       "      <td>2.99</td>\n",
       "      <td>NaN</td>\n",
       "      <td>1900-01-01</td>\n",
       "    </tr>\n",
       "    <tr>\n",
       "      <th>88321</th>\n",
       "      <td>724910</td>\n",
       "      <td>Desconocido</td>\n",
       "      <td>1900-01-01</td>\n",
       "      <td>Free</td>\n",
       "      <td>NaN</td>\n",
       "      <td>1900-01-01</td>\n",
       "    </tr>\n",
       "    <tr>\n",
       "      <th>88329</th>\n",
       "      <td>772590</td>\n",
       "      <td>Desconocido</td>\n",
       "      <td>1900-01-01</td>\n",
       "      <td>4.99</td>\n",
       "      <td>NaN</td>\n",
       "      <td>1900-01-01</td>\n",
       "    </tr>\n",
       "    <tr>\n",
       "      <th>88330</th>\n",
       "      <td>640250</td>\n",
       "      <td>Desconocido</td>\n",
       "      <td>1900-01-01</td>\n",
       "      <td>2.99</td>\n",
       "      <td>NaN</td>\n",
       "      <td>1900-01-01</td>\n",
       "    </tr>\n",
       "    <tr>\n",
       "      <th>88332</th>\n",
       "      <td>711440</td>\n",
       "      <td>Desconocido</td>\n",
       "      <td>1900-01-01</td>\n",
       "      <td>0.99</td>\n",
       "      <td>NaN</td>\n",
       "      <td>1900-01-01</td>\n",
       "    </tr>\n",
       "    <tr>\n",
       "      <th>...</th>\n",
       "      <td>...</td>\n",
       "      <td>...</td>\n",
       "      <td>...</td>\n",
       "      <td>...</td>\n",
       "      <td>...</td>\n",
       "      <td>...</td>\n",
       "    </tr>\n",
       "    <tr>\n",
       "      <th>120387</th>\n",
       "      <td>705860</td>\n",
       "      <td>Desconocido</td>\n",
       "      <td>1900-01-01</td>\n",
       "      <td>Free</td>\n",
       "      <td>NaN</td>\n",
       "      <td>1900-01-01</td>\n",
       "    </tr>\n",
       "    <tr>\n",
       "      <th>120394</th>\n",
       "      <td>729640</td>\n",
       "      <td>Action, Casual, Indie</td>\n",
       "      <td>1900-01-01</td>\n",
       "      <td>NaN</td>\n",
       "      <td>The BOMBFEST Team</td>\n",
       "      <td>1900-01-01</td>\n",
       "    </tr>\n",
       "    <tr>\n",
       "      <th>120395</th>\n",
       "      <td>755540</td>\n",
       "      <td>Desconocido</td>\n",
       "      <td>1900-01-01</td>\n",
       "      <td>NaN</td>\n",
       "      <td>NaN</td>\n",
       "      <td>1900-01-01</td>\n",
       "    </tr>\n",
       "    <tr>\n",
       "      <th>120398</th>\n",
       "      <td>708070</td>\n",
       "      <td>Action, Adventure, Indie</td>\n",
       "      <td>1900-01-01</td>\n",
       "      <td>NaN</td>\n",
       "      <td>rechargecomplete</td>\n",
       "      <td>1900-01-01</td>\n",
       "    </tr>\n",
       "    <tr>\n",
       "      <th>120444</th>\n",
       "      <td>681550</td>\n",
       "      <td>Desconocido</td>\n",
       "      <td>1900-01-01</td>\n",
       "      <td>4.99</td>\n",
       "      <td>NaN</td>\n",
       "      <td>1900-01-01</td>\n",
       "    </tr>\n",
       "  </tbody>\n",
       "</table>\n",
       "<p>2066 rows × 6 columns</p>\n",
       "</div>"
      ],
      "text/plain": [
       "        item_id                    genres release_date price  \\\n",
       "88314    773570               Desconocido   1900-01-01  2.99   \n",
       "88321    724910               Desconocido   1900-01-01  Free   \n",
       "88329    772590               Desconocido   1900-01-01  4.99   \n",
       "88330    640250               Desconocido   1900-01-01  2.99   \n",
       "88332    711440               Desconocido   1900-01-01  0.99   \n",
       "...         ...                       ...          ...   ...   \n",
       "120387   705860               Desconocido   1900-01-01  Free   \n",
       "120394   729640     Action, Casual, Indie   1900-01-01   NaN   \n",
       "120395   755540               Desconocido   1900-01-01   NaN   \n",
       "120398   708070  Action, Adventure, Indie   1900-01-01   NaN   \n",
       "120444   681550               Desconocido   1900-01-01  4.99   \n",
       "\n",
       "                developer converted_release_date  \n",
       "88314                 NaN             1900-01-01  \n",
       "88321                 NaN             1900-01-01  \n",
       "88329                 NaN             1900-01-01  \n",
       "88330                 NaN             1900-01-01  \n",
       "88332                 NaN             1900-01-01  \n",
       "...                   ...                    ...  \n",
       "120387                NaN             1900-01-01  \n",
       "120394  The BOMBFEST Team             1900-01-01  \n",
       "120395                NaN             1900-01-01  \n",
       "120398   rechargecomplete             1900-01-01  \n",
       "120444                NaN             1900-01-01  \n",
       "\n",
       "[2066 rows x 6 columns]"
      ]
     },
     "execution_count": 46,
     "metadata": {},
     "output_type": "execute_result"
    }
   ],
   "source": [
    "df_output_steam_json[df_output_steam_json['release_date'] == pd.to_datetime(DEFAULT_DATE).date().strftime(\"%Y-%m-%d\")]"
   ]
  },
  {
   "cell_type": "code",
   "execution_count": 47,
   "metadata": {},
   "outputs": [
    {
     "data": {
      "text/html": [
       "<div>\n",
       "<style scoped>\n",
       "    .dataframe tbody tr th:only-of-type {\n",
       "        vertical-align: middle;\n",
       "    }\n",
       "\n",
       "    .dataframe tbody tr th {\n",
       "        vertical-align: top;\n",
       "    }\n",
       "\n",
       "    .dataframe thead th {\n",
       "        text-align: right;\n",
       "    }\n",
       "</style>\n",
       "<table border=\"1\" class=\"dataframe\">\n",
       "  <thead>\n",
       "    <tr style=\"text-align: right;\">\n",
       "      <th></th>\n",
       "      <th>item_id</th>\n",
       "      <th>genres</th>\n",
       "      <th>release_date</th>\n",
       "      <th>price</th>\n",
       "      <th>developer</th>\n",
       "      <th>converted_release_date</th>\n",
       "    </tr>\n",
       "  </thead>\n",
       "  <tbody>\n",
       "    <tr>\n",
       "      <th>88354</th>\n",
       "      <td>714020</td>\n",
       "      <td>Adventure, RPG</td>\n",
       "      <td>Beta测试已开启</td>\n",
       "      <td>NaN</td>\n",
       "      <td>zha7,Phaedruns,Yingke Wu</td>\n",
       "      <td>1900-01-01</td>\n",
       "    </tr>\n",
       "    <tr>\n",
       "      <th>95499</th>\n",
       "      <td>504690</td>\n",
       "      <td>Adventure, Casual, Indie</td>\n",
       "      <td>TBA</td>\n",
       "      <td>NaN</td>\n",
       "      <td>Alterego Games,Digital Forest</td>\n",
       "      <td>1900-01-01</td>\n",
       "    </tr>\n",
       "    <tr>\n",
       "      <th>96648</th>\n",
       "      <td>533800</td>\n",
       "      <td>Indie, Simulation</td>\n",
       "      <td>When it's done</td>\n",
       "      <td>NaN</td>\n",
       "      <td>Steven Colling</td>\n",
       "      <td>1900-01-01</td>\n",
       "    </tr>\n",
       "    <tr>\n",
       "      <th>97645</th>\n",
       "      <td>618560</td>\n",
       "      <td>Action, Adventure, Indie</td>\n",
       "      <td>TBA</td>\n",
       "      <td>NaN</td>\n",
       "      <td>Wisp Entertainment</td>\n",
       "      <td>1900-01-01</td>\n",
       "    </tr>\n",
       "    <tr>\n",
       "      <th>98793</th>\n",
       "      <td>658340</td>\n",
       "      <td>Indie</td>\n",
       "      <td>14 July</td>\n",
       "      <td>NaN</td>\n",
       "      <td>Grotta Game Studio</td>\n",
       "      <td>1900-01-01</td>\n",
       "    </tr>\n",
       "    <tr>\n",
       "      <th>99652</th>\n",
       "      <td>601380</td>\n",
       "      <td>Action, Adventure, Indie</td>\n",
       "      <td>To be Announced</td>\n",
       "      <td>NaN</td>\n",
       "      <td>Phoenix Interactive Studio</td>\n",
       "      <td>1900-01-01</td>\n",
       "    </tr>\n",
       "    <tr>\n",
       "      <th>100004</th>\n",
       "      <td>606000</td>\n",
       "      <td>Action, Adventure, Indie, RPG</td>\n",
       "      <td>TBA</td>\n",
       "      <td>NaN</td>\n",
       "      <td>Monster Couch</td>\n",
       "      <td>1900-01-01</td>\n",
       "    </tr>\n",
       "    <tr>\n",
       "      <th>100146</th>\n",
       "      <td>555980</td>\n",
       "      <td>Indie, RPG</td>\n",
       "      <td>TBD</td>\n",
       "      <td>NaN</td>\n",
       "      <td>LEVER Software</td>\n",
       "      <td>1900-01-01</td>\n",
       "    </tr>\n",
       "    <tr>\n",
       "      <th>100850</th>\n",
       "      <td>692260</td>\n",
       "      <td>Adventure, Indie, RPG, Simulation, Strategy</td>\n",
       "      <td>TBD</td>\n",
       "      <td>NaN</td>\n",
       "      <td>Siberian Digital</td>\n",
       "      <td>1900-01-01</td>\n",
       "    </tr>\n",
       "    <tr>\n",
       "      <th>101259</th>\n",
       "      <td>752570</td>\n",
       "      <td>Adventure, Casual</td>\n",
       "      <td>2018年初頭発売予定</td>\n",
       "      <td>NaN</td>\n",
       "      <td>Future Tech Lab Co.,Ltd.</td>\n",
       "      <td>1900-01-01</td>\n",
       "    </tr>\n",
       "    <tr>\n",
       "      <th>101306</th>\n",
       "      <td>772260</td>\n",
       "      <td>Action, Casual</td>\n",
       "      <td>Please wait warmly</td>\n",
       "      <td>NaN</td>\n",
       "      <td>NitorInc. Collab</td>\n",
       "      <td>1900-01-01</td>\n",
       "    </tr>\n",
       "    <tr>\n",
       "      <th>101318</th>\n",
       "      <td>503490</td>\n",
       "      <td>Action, Indie, RPG</td>\n",
       "      <td>early access</td>\n",
       "      <td>NaN</td>\n",
       "      <td>gillenew,Fraccaro</td>\n",
       "      <td>1900-01-01</td>\n",
       "    </tr>\n",
       "    <tr>\n",
       "      <th>101456</th>\n",
       "      <td>595500</td>\n",
       "      <td>Action, Adventure, Indie</td>\n",
       "      <td>TBD</td>\n",
       "      <td>NaN</td>\n",
       "      <td>GalaxyTrail</td>\n",
       "      <td>1900-01-01</td>\n",
       "    </tr>\n",
       "    <tr>\n",
       "      <th>101602</th>\n",
       "      <td>704450</td>\n",
       "      <td>RPG</td>\n",
       "      <td>TBA</td>\n",
       "      <td>NaN</td>\n",
       "      <td>Beamdog</td>\n",
       "      <td>1900-01-01</td>\n",
       "    </tr>\n",
       "    <tr>\n",
       "      <th>101606</th>\n",
       "      <td>737002</td>\n",
       "      <td>RPG</td>\n",
       "      <td>TBA</td>\n",
       "      <td>NaN</td>\n",
       "      <td>Beamdog</td>\n",
       "      <td>1900-01-01</td>\n",
       "    </tr>\n",
       "    <tr>\n",
       "      <th>101607</th>\n",
       "      <td>737001</td>\n",
       "      <td>RPG</td>\n",
       "      <td>TBA</td>\n",
       "      <td>NaN</td>\n",
       "      <td>Beamdog</td>\n",
       "      <td>1900-01-01</td>\n",
       "    </tr>\n",
       "    <tr>\n",
       "      <th>101608</th>\n",
       "      <td>737000</td>\n",
       "      <td>RPG</td>\n",
       "      <td>TBA</td>\n",
       "      <td>NaN</td>\n",
       "      <td>Beamdog</td>\n",
       "      <td>1900-01-01</td>\n",
       "    </tr>\n",
       "    <tr>\n",
       "      <th>101609</th>\n",
       "      <td>738710</td>\n",
       "      <td>RPG</td>\n",
       "      <td>TBA</td>\n",
       "      <td>NaN</td>\n",
       "      <td>Beamdog</td>\n",
       "      <td>1900-01-01</td>\n",
       "    </tr>\n",
       "    <tr>\n",
       "      <th>101610</th>\n",
       "      <td>744680</td>\n",
       "      <td>RPG</td>\n",
       "      <td>TBA</td>\n",
       "      <td>NaN</td>\n",
       "      <td>Beamdog</td>\n",
       "      <td>1900-01-01</td>\n",
       "    </tr>\n",
       "    <tr>\n",
       "      <th>101625</th>\n",
       "      <td>738711</td>\n",
       "      <td>RPG</td>\n",
       "      <td>TBA</td>\n",
       "      <td>NaN</td>\n",
       "      <td>Beamdog</td>\n",
       "      <td>1900-01-01</td>\n",
       "    </tr>\n",
       "    <tr>\n",
       "      <th>101734</th>\n",
       "      <td>677180</td>\n",
       "      <td>Action, Indie, Massively Multiplayer</td>\n",
       "      <td>TBA</td>\n",
       "      <td>NaN</td>\n",
       "      <td>Brain Stone GmbH</td>\n",
       "      <td>1900-01-01</td>\n",
       "    </tr>\n",
       "    <tr>\n",
       "      <th>101738</th>\n",
       "      <td>710190</td>\n",
       "      <td>Casual, Indie</td>\n",
       "      <td>预热群52756441</td>\n",
       "      <td>NaN</td>\n",
       "      <td>一次元创作组</td>\n",
       "      <td>1900-01-01</td>\n",
       "    </tr>\n",
       "    <tr>\n",
       "      <th>101739</th>\n",
       "      <td>377300</td>\n",
       "      <td>Action, Indie, Simulation, Strategy</td>\n",
       "      <td>TBA</td>\n",
       "      <td>NaN</td>\n",
       "      <td>fragOut Studio</td>\n",
       "      <td>1900-01-01</td>\n",
       "    </tr>\n",
       "    <tr>\n",
       "      <th>101806</th>\n",
       "      <td>758090</td>\n",
       "      <td>Adventure</td>\n",
       "      <td>2018年1月</td>\n",
       "      <td>NaN</td>\n",
       "      <td>Lose</td>\n",
       "      <td>1900-01-01</td>\n",
       "    </tr>\n",
       "    <tr>\n",
       "      <th>101924</th>\n",
       "      <td>679240</td>\n",
       "      <td>Action, Adventure, Indie, Simulation</td>\n",
       "      <td>0̵1̴0̵0̶1̷0̶0̵0̴ ̴0̶0̶1̶1̶0̷0̶1̵1̴ ̸0̶0̶1̶1̵0̶...</td>\n",
       "      <td>NaN</td>\n",
       "      <td>u̷n̸k̴n̶o̴w̶n̵</td>\n",
       "      <td>1900-01-01</td>\n",
       "    </tr>\n",
       "    <tr>\n",
       "      <th>102122</th>\n",
       "      <td>622820</td>\n",
       "      <td>Action, Casual, Indie</td>\n",
       "      <td>TBD</td>\n",
       "      <td>NaN</td>\n",
       "      <td>HALUNAZI GAMES</td>\n",
       "      <td>1900-01-01</td>\n",
       "    </tr>\n",
       "    <tr>\n",
       "      <th>102159</th>\n",
       "      <td>424030</td>\n",
       "      <td>Action, Indie, Simulation</td>\n",
       "      <td>Not yet available</td>\n",
       "      <td>NaN</td>\n",
       "      <td>Campfire Games</td>\n",
       "      <td>1900-01-01</td>\n",
       "    </tr>\n",
       "    <tr>\n",
       "      <th>102241</th>\n",
       "      <td>711700</td>\n",
       "      <td>Action, Adventure, Casual, Indie, RPG, Simulat...</td>\n",
       "      <td>C'est bientôt...                    (ou pas)</td>\n",
       "      <td>NaN</td>\n",
       "      <td>Neosia Entertainment</td>\n",
       "      <td>1900-01-01</td>\n",
       "    </tr>\n",
       "    <tr>\n",
       "      <th>102576</th>\n",
       "      <td>632470</td>\n",
       "      <td>RPG</td>\n",
       "      <td>TBA</td>\n",
       "      <td>NaN</td>\n",
       "      <td>ZA/UM</td>\n",
       "      <td>1900-01-01</td>\n",
       "    </tr>\n",
       "    <tr>\n",
       "      <th>102662</th>\n",
       "      <td>633060</td>\n",
       "      <td>Adventure, Indie, Simulation</td>\n",
       "      <td>Datachunks conflicted. Be vigiliant.</td>\n",
       "      <td>NaN</td>\n",
       "      <td>Osmotic Studios</td>\n",
       "      <td>1900-01-01</td>\n",
       "    </tr>\n",
       "    <tr>\n",
       "      <th>102882</th>\n",
       "      <td>701630</td>\n",
       "      <td>Action, Indie</td>\n",
       "      <td>Demo is available now!</td>\n",
       "      <td>NaN</td>\n",
       "      <td>Obscure Cloud</td>\n",
       "      <td>1900-01-01</td>\n",
       "    </tr>\n",
       "    <tr>\n",
       "      <th>102927</th>\n",
       "      <td>741730</td>\n",
       "      <td>Adventure, Indie</td>\n",
       "      <td>When it's done</td>\n",
       "      <td>NaN</td>\n",
       "      <td>Backyard Team</td>\n",
       "      <td>1900-01-01</td>\n",
       "    </tr>\n",
       "    <tr>\n",
       "      <th>103219</th>\n",
       "      <td>717780</td>\n",
       "      <td>Action, Adventure, Casual, Indie, Racing</td>\n",
       "      <td>Play Beta in demo!</td>\n",
       "      <td>NaN</td>\n",
       "      <td>Nonce Inc.</td>\n",
       "      <td>1900-01-01</td>\n",
       "    </tr>\n",
       "    <tr>\n",
       "      <th>104200</th>\n",
       "      <td>638470</td>\n",
       "      <td>Action, Indie</td>\n",
       "      <td>To be announced</td>\n",
       "      <td>NaN</td>\n",
       "      <td>Hyper Games</td>\n",
       "      <td>1900-01-01</td>\n",
       "    </tr>\n",
       "    <tr>\n",
       "      <th>104204</th>\n",
       "      <td>582460</td>\n",
       "      <td>Indie, Strategy</td>\n",
       "      <td>When it is finished</td>\n",
       "      <td>NaN</td>\n",
       "      <td>Everook</td>\n",
       "      <td>1900-01-01</td>\n",
       "    </tr>\n",
       "    <tr>\n",
       "      <th>104571</th>\n",
       "      <td>666150</td>\n",
       "      <td>Indie, Simulation, Strategy</td>\n",
       "      <td>Release Date TBA</td>\n",
       "      <td>NaN</td>\n",
       "      <td>Shadow Raven Studios</td>\n",
       "      <td>1900-01-01</td>\n",
       "    </tr>\n",
       "    <tr>\n",
       "      <th>105389</th>\n",
       "      <td>487500</td>\n",
       "      <td>Indie</td>\n",
       "      <td>When it is ready</td>\n",
       "      <td>NaN</td>\n",
       "      <td>ALICE IN DISSONANCE</td>\n",
       "      <td>1900-01-01</td>\n",
       "    </tr>\n",
       "    <tr>\n",
       "      <th>105801</th>\n",
       "      <td>634810</td>\n",
       "      <td>Action, Adventure</td>\n",
       "      <td>TBA</td>\n",
       "      <td>NaN</td>\n",
       "      <td>Waraní Studios</td>\n",
       "      <td>1900-01-01</td>\n",
       "    </tr>\n",
       "    <tr>\n",
       "      <th>106402</th>\n",
       "      <td>382560</td>\n",
       "      <td>Action, Adventure, Indie</td>\n",
       "      <td>To Be Announced</td>\n",
       "      <td>NaN</td>\n",
       "      <td>Klei Entertainment</td>\n",
       "      <td>1900-01-01</td>\n",
       "    </tr>\n",
       "    <tr>\n",
       "      <th>107047</th>\n",
       "      <td>603930</td>\n",
       "      <td>Action, Indie</td>\n",
       "      <td>TBA</td>\n",
       "      <td>NaN</td>\n",
       "      <td>Causal Bit Games Inc.</td>\n",
       "      <td>1900-01-01</td>\n",
       "    </tr>\n",
       "    <tr>\n",
       "      <th>108051</th>\n",
       "      <td>508460</td>\n",
       "      <td>Action, Strategy</td>\n",
       "      <td>Not yet available</td>\n",
       "      <td>NaN</td>\n",
       "      <td>Eierkop-Games</td>\n",
       "      <td>1900-01-01</td>\n",
       "    </tr>\n",
       "    <tr>\n",
       "      <th>112405</th>\n",
       "      <td>366580</td>\n",
       "      <td>Adventure, Indie, Strategy</td>\n",
       "      <td>TBA</td>\n",
       "      <td>NaN</td>\n",
       "      <td>FBN Team,BDG Studios</td>\n",
       "      <td>1900-01-01</td>\n",
       "    </tr>\n",
       "    <tr>\n",
       "      <th>112781</th>\n",
       "      <td>282370</td>\n",
       "      <td>Action, Indie</td>\n",
       "      <td>TBD</td>\n",
       "      <td>NaN</td>\n",
       "      <td>Unknown Worlds Entertainment</td>\n",
       "      <td>1900-01-01</td>\n",
       "    </tr>\n",
       "    <tr>\n",
       "      <th>114236</th>\n",
       "      <td>349710</td>\n",
       "      <td>Action, Casual, Indie</td>\n",
       "      <td>When it's done!</td>\n",
       "      <td>NaN</td>\n",
       "      <td>Jamhammer Games Inc.</td>\n",
       "      <td>1900-01-01</td>\n",
       "    </tr>\n",
       "    <tr>\n",
       "      <th>120299</th>\n",
       "      <td>454940</td>\n",
       "      <td>Action, Adventure, Indie</td>\n",
       "      <td>TBD</td>\n",
       "      <td>NaN</td>\n",
       "      <td>CRAZY SECTOR</td>\n",
       "      <td>1900-01-01</td>\n",
       "    </tr>\n",
       "  </tbody>\n",
       "</table>\n",
       "</div>"
      ],
      "text/plain": [
       "        item_id                                             genres  \\\n",
       "88354    714020                                     Adventure, RPG   \n",
       "95499    504690                           Adventure, Casual, Indie   \n",
       "96648    533800                                  Indie, Simulation   \n",
       "97645    618560                           Action, Adventure, Indie   \n",
       "98793    658340                                              Indie   \n",
       "99652    601380                           Action, Adventure, Indie   \n",
       "100004   606000                      Action, Adventure, Indie, RPG   \n",
       "100146   555980                                         Indie, RPG   \n",
       "100850   692260        Adventure, Indie, RPG, Simulation, Strategy   \n",
       "101259   752570                                  Adventure, Casual   \n",
       "101306   772260                                     Action, Casual   \n",
       "101318   503490                                 Action, Indie, RPG   \n",
       "101456   595500                           Action, Adventure, Indie   \n",
       "101602   704450                                                RPG   \n",
       "101606   737002                                                RPG   \n",
       "101607   737001                                                RPG   \n",
       "101608   737000                                                RPG   \n",
       "101609   738710                                                RPG   \n",
       "101610   744680                                                RPG   \n",
       "101625   738711                                                RPG   \n",
       "101734   677180               Action, Indie, Massively Multiplayer   \n",
       "101738   710190                                      Casual, Indie   \n",
       "101739   377300                Action, Indie, Simulation, Strategy   \n",
       "101806   758090                                          Adventure   \n",
       "101924   679240               Action, Adventure, Indie, Simulation   \n",
       "102122   622820                              Action, Casual, Indie   \n",
       "102159   424030                          Action, Indie, Simulation   \n",
       "102241   711700  Action, Adventure, Casual, Indie, RPG, Simulat...   \n",
       "102576   632470                                                RPG   \n",
       "102662   633060                       Adventure, Indie, Simulation   \n",
       "102882   701630                                      Action, Indie   \n",
       "102927   741730                                   Adventure, Indie   \n",
       "103219   717780           Action, Adventure, Casual, Indie, Racing   \n",
       "104200   638470                                      Action, Indie   \n",
       "104204   582460                                    Indie, Strategy   \n",
       "104571   666150                        Indie, Simulation, Strategy   \n",
       "105389   487500                                              Indie   \n",
       "105801   634810                                  Action, Adventure   \n",
       "106402   382560                           Action, Adventure, Indie   \n",
       "107047   603930                                      Action, Indie   \n",
       "108051   508460                                   Action, Strategy   \n",
       "112405   366580                         Adventure, Indie, Strategy   \n",
       "112781   282370                                      Action, Indie   \n",
       "114236   349710                              Action, Casual, Indie   \n",
       "120299   454940                           Action, Adventure, Indie   \n",
       "\n",
       "                                             release_date price  \\\n",
       "88354                                           Beta测试已开启   NaN   \n",
       "95499                                                 TBA   NaN   \n",
       "96648                                      When it's done   NaN   \n",
       "97645                                                 TBA   NaN   \n",
       "98793                                             14 July   NaN   \n",
       "99652                                     To be Announced   NaN   \n",
       "100004                                                TBA   NaN   \n",
       "100146                                                TBD   NaN   \n",
       "100850                                                TBD   NaN   \n",
       "101259                                        2018年初頭発売予定   NaN   \n",
       "101306                                 Please wait warmly   NaN   \n",
       "101318                                       early access   NaN   \n",
       "101456                                                TBD   NaN   \n",
       "101602                                                TBA   NaN   \n",
       "101606                                                TBA   NaN   \n",
       "101607                                                TBA   NaN   \n",
       "101608                                                TBA   NaN   \n",
       "101609                                                TBA   NaN   \n",
       "101610                                                TBA   NaN   \n",
       "101625                                                TBA   NaN   \n",
       "101734                                                TBA   NaN   \n",
       "101738                                        预热群52756441   NaN   \n",
       "101739                                                TBA   NaN   \n",
       "101806                                            2018年1月   NaN   \n",
       "101924  0̵1̴0̵0̶1̷0̶0̵0̴ ̴0̶0̶1̶1̶0̷0̶1̵1̴ ̸0̶0̶1̶1̵0̶...   NaN   \n",
       "102122                                                TBD   NaN   \n",
       "102159                                  Not yet available   NaN   \n",
       "102241       C'est bientôt...                    (ou pas)   NaN   \n",
       "102576                                                TBA   NaN   \n",
       "102662               Datachunks conflicted. Be vigiliant.   NaN   \n",
       "102882                             Demo is available now!   NaN   \n",
       "102927                                     When it's done   NaN   \n",
       "103219                                 Play Beta in demo!   NaN   \n",
       "104200                                    To be announced   NaN   \n",
       "104204                                When it is finished   NaN   \n",
       "104571                                   Release Date TBA   NaN   \n",
       "105389                                   When it is ready   NaN   \n",
       "105801                                                TBA   NaN   \n",
       "106402                                    To Be Announced   NaN   \n",
       "107047                                                TBA   NaN   \n",
       "108051                                  Not yet available   NaN   \n",
       "112405                                                TBA   NaN   \n",
       "112781                                                TBD   NaN   \n",
       "114236                                    When it's done!   NaN   \n",
       "120299                                                TBD   NaN   \n",
       "\n",
       "                            developer converted_release_date  \n",
       "88354        zha7,Phaedruns,Yingke Wu             1900-01-01  \n",
       "95499   Alterego Games,Digital Forest             1900-01-01  \n",
       "96648                  Steven Colling             1900-01-01  \n",
       "97645              Wisp Entertainment             1900-01-01  \n",
       "98793              Grotta Game Studio             1900-01-01  \n",
       "99652      Phoenix Interactive Studio             1900-01-01  \n",
       "100004                  Monster Couch             1900-01-01  \n",
       "100146                 LEVER Software             1900-01-01  \n",
       "100850               Siberian Digital             1900-01-01  \n",
       "101259       Future Tech Lab Co.,Ltd.             1900-01-01  \n",
       "101306               NitorInc. Collab             1900-01-01  \n",
       "101318              gillenew,Fraccaro             1900-01-01  \n",
       "101456                    GalaxyTrail             1900-01-01  \n",
       "101602                        Beamdog             1900-01-01  \n",
       "101606                        Beamdog             1900-01-01  \n",
       "101607                        Beamdog             1900-01-01  \n",
       "101608                        Beamdog             1900-01-01  \n",
       "101609                        Beamdog             1900-01-01  \n",
       "101610                        Beamdog             1900-01-01  \n",
       "101625                        Beamdog             1900-01-01  \n",
       "101734               Brain Stone GmbH             1900-01-01  \n",
       "101738                         一次元创作组             1900-01-01  \n",
       "101739                 fragOut Studio             1900-01-01  \n",
       "101806                           Lose             1900-01-01  \n",
       "101924                 u̷n̸k̴n̶o̴w̶n̵             1900-01-01  \n",
       "102122                 HALUNAZI GAMES             1900-01-01  \n",
       "102159                 Campfire Games             1900-01-01  \n",
       "102241           Neosia Entertainment             1900-01-01  \n",
       "102576                          ZA/UM             1900-01-01  \n",
       "102662                Osmotic Studios             1900-01-01  \n",
       "102882                  Obscure Cloud             1900-01-01  \n",
       "102927                  Backyard Team             1900-01-01  \n",
       "103219                     Nonce Inc.             1900-01-01  \n",
       "104200                    Hyper Games             1900-01-01  \n",
       "104204                        Everook             1900-01-01  \n",
       "104571           Shadow Raven Studios             1900-01-01  \n",
       "105389            ALICE IN DISSONANCE             1900-01-01  \n",
       "105801                 Waraní Studios             1900-01-01  \n",
       "106402             Klei Entertainment             1900-01-01  \n",
       "107047          Causal Bit Games Inc.             1900-01-01  \n",
       "108051                  Eierkop-Games             1900-01-01  \n",
       "112405           FBN Team,BDG Studios             1900-01-01  \n",
       "112781   Unknown Worlds Entertainment             1900-01-01  \n",
       "114236           Jamhammer Games Inc.             1900-01-01  \n",
       "120299                   CRAZY SECTOR             1900-01-01  "
      ]
     },
     "execution_count": 47,
     "metadata": {},
     "output_type": "execute_result"
    }
   ],
   "source": [
    "df_output_steam_json[(df_output_steam_json['converted_release_date'] == DEFAULT_DATE) & (df_output_steam_json['release_date'] != DEFAULT_DATE)]"
   ]
  },
  {
   "cell_type": "code",
   "execution_count": 48,
   "metadata": {},
   "outputs": [
    {
     "data": {
      "text/html": [
       "<div>\n",
       "<style scoped>\n",
       "    .dataframe tbody tr th:only-of-type {\n",
       "        vertical-align: middle;\n",
       "    }\n",
       "\n",
       "    .dataframe tbody tr th {\n",
       "        vertical-align: top;\n",
       "    }\n",
       "\n",
       "    .dataframe thead th {\n",
       "        text-align: right;\n",
       "    }\n",
       "</style>\n",
       "<table border=\"1\" class=\"dataframe\">\n",
       "  <thead>\n",
       "    <tr style=\"text-align: right;\">\n",
       "      <th></th>\n",
       "      <th>item_id</th>\n",
       "      <th>genres</th>\n",
       "      <th>release_date</th>\n",
       "      <th>price</th>\n",
       "      <th>developer</th>\n",
       "      <th>converted_release_date</th>\n",
       "    </tr>\n",
       "  </thead>\n",
       "  <tbody>\n",
       "    <tr>\n",
       "      <th>88310</th>\n",
       "      <td>761140</td>\n",
       "      <td>Action, Casual, Indie, Simulation, Strategy</td>\n",
       "      <td>2018-01-04</td>\n",
       "      <td>4.99</td>\n",
       "      <td>Kotoshiro</td>\n",
       "      <td>2018-01-04</td>\n",
       "    </tr>\n",
       "    <tr>\n",
       "      <th>88311</th>\n",
       "      <td>643980</td>\n",
       "      <td>Indie, RPG, Strategy</td>\n",
       "      <td>2018-01-04</td>\n",
       "      <td>Free To Play</td>\n",
       "      <td>Secret Level SRL</td>\n",
       "      <td>2018-01-04</td>\n",
       "    </tr>\n",
       "    <tr>\n",
       "      <th>88312</th>\n",
       "      <td>670290</td>\n",
       "      <td>Casual, Indie, Simulation, Sports</td>\n",
       "      <td>2017-07-24</td>\n",
       "      <td>Free to Play</td>\n",
       "      <td>Poolians.com</td>\n",
       "      <td>2017-07-24</td>\n",
       "    </tr>\n",
       "    <tr>\n",
       "      <th>88313</th>\n",
       "      <td>767400</td>\n",
       "      <td>Action, Adventure, Casual</td>\n",
       "      <td>2017-12-07</td>\n",
       "      <td>0.99</td>\n",
       "      <td>彼岸领域</td>\n",
       "      <td>2017-12-07</td>\n",
       "    </tr>\n",
       "    <tr>\n",
       "      <th>88314</th>\n",
       "      <td>773570</td>\n",
       "      <td>Desconocido</td>\n",
       "      <td>1900-01-01</td>\n",
       "      <td>2.99</td>\n",
       "      <td>NaN</td>\n",
       "      <td>1900-01-01</td>\n",
       "    </tr>\n",
       "  </tbody>\n",
       "</table>\n",
       "</div>"
      ],
      "text/plain": [
       "       item_id                                       genres release_date  \\\n",
       "88310   761140  Action, Casual, Indie, Simulation, Strategy   2018-01-04   \n",
       "88311   643980                         Indie, RPG, Strategy   2018-01-04   \n",
       "88312   670290            Casual, Indie, Simulation, Sports   2017-07-24   \n",
       "88313   767400                    Action, Adventure, Casual   2017-12-07   \n",
       "88314   773570                                  Desconocido   1900-01-01   \n",
       "\n",
       "              price         developer converted_release_date  \n",
       "88310          4.99         Kotoshiro             2018-01-04  \n",
       "88311  Free To Play  Secret Level SRL             2018-01-04  \n",
       "88312  Free to Play      Poolians.com             2017-07-24  \n",
       "88313          0.99              彼岸领域             2017-12-07  \n",
       "88314          2.99               NaN             1900-01-01  "
      ]
     },
     "execution_count": 48,
     "metadata": {},
     "output_type": "execute_result"
    }
   ],
   "source": [
    "df_output_steam_json.head()"
   ]
  },
  {
   "cell_type": "code",
   "execution_count": 49,
   "metadata": {},
   "outputs": [],
   "source": [
    "#Asignamos una columna a la otra\n",
    "df_output_steam_json['release_date'] = df_output_steam_json['converted_release_date']\n",
    "#eliminamos Columna intermedia \n",
    "df_output_steam_json.drop(columns=['converted_release_date'], inplace=True)"
   ]
  },
  {
   "cell_type": "markdown",
   "metadata": {},
   "source": [
    "GENERAMOS COLUMNA YEAR que nos sera util para los endpoints"
   ]
  },
  {
   "cell_type": "code",
   "execution_count": 50,
   "metadata": {},
   "outputs": [],
   "source": [
    "# Extraer el año de la columna 'release_date'\n",
    "df_output_steam_json['year'] = df_output_steam_json['release_date'].str[:4]\n",
    "\n",
    "# Convertir la columna 'year' a tipo numérico\n",
    "df_output_steam_json['year'] = pd.to_numeric(df_output_steam_json['year'], errors='coerce')"
   ]
  },
  {
   "cell_type": "code",
   "execution_count": 51,
   "metadata": {},
   "outputs": [],
   "source": [
    "#convertimos a String\n",
    "df_output_steam_json['release_date'] = df_output_steam_json['release_date'].astype(str)"
   ]
  },
  {
   "cell_type": "code",
   "execution_count": 52,
   "metadata": {},
   "outputs": [
    {
     "data": {
      "text/html": [
       "<div>\n",
       "<style scoped>\n",
       "    .dataframe tbody tr th:only-of-type {\n",
       "        vertical-align: middle;\n",
       "    }\n",
       "\n",
       "    .dataframe tbody tr th {\n",
       "        vertical-align: top;\n",
       "    }\n",
       "\n",
       "    .dataframe thead th {\n",
       "        text-align: right;\n",
       "    }\n",
       "</style>\n",
       "<table border=\"1\" class=\"dataframe\">\n",
       "  <thead>\n",
       "    <tr style=\"text-align: right;\">\n",
       "      <th></th>\n",
       "      <th>item_id</th>\n",
       "      <th>genres</th>\n",
       "      <th>release_date</th>\n",
       "      <th>price</th>\n",
       "      <th>developer</th>\n",
       "      <th>year</th>\n",
       "    </tr>\n",
       "  </thead>\n",
       "  <tbody>\n",
       "    <tr>\n",
       "      <th>88310</th>\n",
       "      <td>761140</td>\n",
       "      <td>Action, Casual, Indie, Simulation, Strategy</td>\n",
       "      <td>2018-01-04</td>\n",
       "      <td>4.99</td>\n",
       "      <td>Kotoshiro</td>\n",
       "      <td>2018</td>\n",
       "    </tr>\n",
       "    <tr>\n",
       "      <th>88311</th>\n",
       "      <td>643980</td>\n",
       "      <td>Indie, RPG, Strategy</td>\n",
       "      <td>2018-01-04</td>\n",
       "      <td>Free To Play</td>\n",
       "      <td>Secret Level SRL</td>\n",
       "      <td>2018</td>\n",
       "    </tr>\n",
       "    <tr>\n",
       "      <th>88312</th>\n",
       "      <td>670290</td>\n",
       "      <td>Casual, Indie, Simulation, Sports</td>\n",
       "      <td>2017-07-24</td>\n",
       "      <td>Free to Play</td>\n",
       "      <td>Poolians.com</td>\n",
       "      <td>2017</td>\n",
       "    </tr>\n",
       "    <tr>\n",
       "      <th>88313</th>\n",
       "      <td>767400</td>\n",
       "      <td>Action, Adventure, Casual</td>\n",
       "      <td>2017-12-07</td>\n",
       "      <td>0.99</td>\n",
       "      <td>彼岸领域</td>\n",
       "      <td>2017</td>\n",
       "    </tr>\n",
       "    <tr>\n",
       "      <th>88314</th>\n",
       "      <td>773570</td>\n",
       "      <td>Desconocido</td>\n",
       "      <td>1900-01-01</td>\n",
       "      <td>2.99</td>\n",
       "      <td>NaN</td>\n",
       "      <td>1900</td>\n",
       "    </tr>\n",
       "  </tbody>\n",
       "</table>\n",
       "</div>"
      ],
      "text/plain": [
       "       item_id                                       genres release_date  \\\n",
       "88310   761140  Action, Casual, Indie, Simulation, Strategy   2018-01-04   \n",
       "88311   643980                         Indie, RPG, Strategy   2018-01-04   \n",
       "88312   670290            Casual, Indie, Simulation, Sports   2017-07-24   \n",
       "88313   767400                    Action, Adventure, Casual   2017-12-07   \n",
       "88314   773570                                  Desconocido   1900-01-01   \n",
       "\n",
       "              price         developer  year  \n",
       "88310          4.99         Kotoshiro  2018  \n",
       "88311  Free To Play  Secret Level SRL  2018  \n",
       "88312  Free to Play      Poolians.com  2017  \n",
       "88313          0.99              彼岸领域  2017  \n",
       "88314          2.99               NaN  1900  "
      ]
     },
     "execution_count": 52,
     "metadata": {},
     "output_type": "execute_result"
    }
   ],
   "source": [
    "df_output_steam_json.head()"
   ]
  },
  {
   "cell_type": "markdown",
   "metadata": {},
   "source": [
    "PRICE"
   ]
  },
  {
   "cell_type": "code",
   "execution_count": 53,
   "metadata": {},
   "outputs": [],
   "source": [
    "# Convierte la columna 'price' a numérica, y los valores no válidos se convierten en NaN\n",
    "df_output_steam_json['price_convertidos'] = pd.to_numeric(df_output_steam_json['price'], errors='coerce')"
   ]
  },
  {
   "cell_type": "code",
   "execution_count": 54,
   "metadata": {},
   "outputs": [
    {
     "data": {
      "text/html": [
       "<div>\n",
       "<style scoped>\n",
       "    .dataframe tbody tr th:only-of-type {\n",
       "        vertical-align: middle;\n",
       "    }\n",
       "\n",
       "    .dataframe tbody tr th {\n",
       "        vertical-align: top;\n",
       "    }\n",
       "\n",
       "    .dataframe thead th {\n",
       "        text-align: right;\n",
       "    }\n",
       "</style>\n",
       "<table border=\"1\" class=\"dataframe\">\n",
       "  <thead>\n",
       "    <tr style=\"text-align: right;\">\n",
       "      <th></th>\n",
       "      <th>item_id</th>\n",
       "      <th>genres</th>\n",
       "      <th>release_date</th>\n",
       "      <th>price</th>\n",
       "      <th>developer</th>\n",
       "      <th>year</th>\n",
       "      <th>price_convertidos</th>\n",
       "    </tr>\n",
       "  </thead>\n",
       "  <tbody>\n",
       "    <tr>\n",
       "      <th>88310</th>\n",
       "      <td>761140</td>\n",
       "      <td>Action, Casual, Indie, Simulation, Strategy</td>\n",
       "      <td>2018-01-04</td>\n",
       "      <td>4.99</td>\n",
       "      <td>Kotoshiro</td>\n",
       "      <td>2018</td>\n",
       "      <td>4.99</td>\n",
       "    </tr>\n",
       "  </tbody>\n",
       "</table>\n",
       "</div>"
      ],
      "text/plain": [
       "       item_id                                       genres release_date  \\\n",
       "88310   761140  Action, Casual, Indie, Simulation, Strategy   2018-01-04   \n",
       "\n",
       "      price  developer  year  price_convertidos  \n",
       "88310  4.99  Kotoshiro  2018               4.99  "
      ]
     },
     "execution_count": 54,
     "metadata": {},
     "output_type": "execute_result"
    }
   ],
   "source": [
    "df_output_steam_json[df_output_steam_json['item_id'] == 761140]"
   ]
  },
  {
   "cell_type": "code",
   "execution_count": 55,
   "metadata": {},
   "outputs": [
    {
     "data": {
      "text/html": [
       "<div>\n",
       "<style scoped>\n",
       "    .dataframe tbody tr th:only-of-type {\n",
       "        vertical-align: middle;\n",
       "    }\n",
       "\n",
       "    .dataframe tbody tr th {\n",
       "        vertical-align: top;\n",
       "    }\n",
       "\n",
       "    .dataframe thead th {\n",
       "        text-align: right;\n",
       "    }\n",
       "</style>\n",
       "<table border=\"1\" class=\"dataframe\">\n",
       "  <thead>\n",
       "    <tr style=\"text-align: right;\">\n",
       "      <th></th>\n",
       "      <th>item_id</th>\n",
       "      <th>genres</th>\n",
       "      <th>release_date</th>\n",
       "      <th>price</th>\n",
       "      <th>developer</th>\n",
       "      <th>year</th>\n",
       "      <th>price_convertidos</th>\n",
       "    </tr>\n",
       "  </thead>\n",
       "  <tbody>\n",
       "    <tr>\n",
       "      <th>88311</th>\n",
       "      <td>643980</td>\n",
       "      <td>Indie, RPG, Strategy</td>\n",
       "      <td>2018-01-04</td>\n",
       "      <td>Free To Play</td>\n",
       "      <td>Secret Level SRL</td>\n",
       "      <td>2018</td>\n",
       "      <td>NaN</td>\n",
       "    </tr>\n",
       "    <tr>\n",
       "      <th>88312</th>\n",
       "      <td>670290</td>\n",
       "      <td>Casual, Indie, Simulation, Sports</td>\n",
       "      <td>2017-07-24</td>\n",
       "      <td>Free to Play</td>\n",
       "      <td>Poolians.com</td>\n",
       "      <td>2017</td>\n",
       "      <td>NaN</td>\n",
       "    </tr>\n",
       "    <tr>\n",
       "      <th>88319</th>\n",
       "      <td>768800</td>\n",
       "      <td>Casual, Indie, Racing, Simulation</td>\n",
       "      <td>2018-01-04</td>\n",
       "      <td>NaN</td>\n",
       "      <td>RewindApp</td>\n",
       "      <td>2018</td>\n",
       "      <td>NaN</td>\n",
       "    </tr>\n",
       "    <tr>\n",
       "      <th>88320</th>\n",
       "      <td>768570</td>\n",
       "      <td>Action, Indie, Simulation</td>\n",
       "      <td>1900-07-01</td>\n",
       "      <td>NaN</td>\n",
       "      <td>Qucheza</td>\n",
       "      <td>1900</td>\n",
       "      <td>NaN</td>\n",
       "    </tr>\n",
       "    <tr>\n",
       "      <th>88321</th>\n",
       "      <td>724910</td>\n",
       "      <td>Desconocido</td>\n",
       "      <td>1900-01-01</td>\n",
       "      <td>Free</td>\n",
       "      <td>NaN</td>\n",
       "      <td>1900</td>\n",
       "      <td>NaN</td>\n",
       "    </tr>\n",
       "  </tbody>\n",
       "</table>\n",
       "</div>"
      ],
      "text/plain": [
       "       item_id                             genres release_date         price  \\\n",
       "88311   643980               Indie, RPG, Strategy   2018-01-04  Free To Play   \n",
       "88312   670290  Casual, Indie, Simulation, Sports   2017-07-24  Free to Play   \n",
       "88319   768800  Casual, Indie, Racing, Simulation   2018-01-04           NaN   \n",
       "88320   768570          Action, Indie, Simulation   1900-07-01           NaN   \n",
       "88321   724910                        Desconocido   1900-01-01          Free   \n",
       "\n",
       "              developer  year  price_convertidos  \n",
       "88311  Secret Level SRL  2018                NaN  \n",
       "88312      Poolians.com  2017                NaN  \n",
       "88319         RewindApp  2018                NaN  \n",
       "88320           Qucheza  1900                NaN  \n",
       "88321               NaN  1900                NaN  "
      ]
     },
     "execution_count": 55,
     "metadata": {},
     "output_type": "execute_result"
    }
   ],
   "source": [
    "#vemos que price tenian aquellos que no hemos podido convertir para ver como tratarlos\n",
    "df_output_steam_json[df_output_steam_json['price_convertidos'].isna()].head()"
   ]
  },
  {
   "cell_type": "code",
   "execution_count": 56,
   "metadata": {},
   "outputs": [
    {
     "data": {
      "text/plain": [
       "array(['Free To Play', 'Free to Play', nan, 'Free', 'Free Demo',\n",
       "       'Play for Free!', 'Install Now', 'Play WARMACHINE: Tactics Demo',\n",
       "       'Free Mod', 'Install Theme', 'Third-party', 'Play Now',\n",
       "       'Free HITMAN™ Holiday Pack', 'Play the Demo',\n",
       "       'Starting at $499.00', 'Starting at $449.00', 'Free to Try',\n",
       "       'Free Movie', 'Free to Use'], dtype=object)"
      ]
     },
     "execution_count": 56,
     "metadata": {},
     "output_type": "execute_result"
    }
   ],
   "source": [
    "#nos quedamos con los valores unicos de esos Prices extraños\n",
    "df_output_steam_json[df_output_steam_json['price_convertidos'].isna()]['price'].unique()"
   ]
  },
  {
   "cell_type": "markdown",
   "metadata": {},
   "source": [
    "Realizamos las transformaciones de esos casos extraños"
   ]
  },
  {
   "cell_type": "code",
   "execution_count": 57,
   "metadata": {},
   "outputs": [],
   "source": [
    "#Casos con Starting at $\n",
    "df_output_steam_json['price'] = df_output_steam_json['price'].apply(lambda x: x.replace('Starting at $', '') if isinstance(x, str) and 'Starting at $' in x else x)"
   ]
  },
  {
   "cell_type": "code",
   "execution_count": 58,
   "metadata": {},
   "outputs": [],
   "source": [
    "#Modificamos los FREE\n",
    "# Utiliza str.contains() para identificar registros que contienen \"free\" (sin importar mayúsculas o minúsculas)\n",
    "# Modifica los registros que cumplen con la condición a 0.0\n",
    "df_output_steam_json.loc[df_output_steam_json['price'].str.contains('free', case=False, na=False), 'price'] = 0.0"
   ]
  },
  {
   "cell_type": "markdown",
   "metadata": {},
   "source": [
    "Volvemos a aplicar la conversion..."
   ]
  },
  {
   "cell_type": "code",
   "execution_count": 59,
   "metadata": {},
   "outputs": [],
   "source": [
    "# Convierte la columna 'price' a numérica, y los valores no válidos se convierten en NaN\n",
    "df_output_steam_json['price_convertidos'] = pd.to_numeric(df_output_steam_json['price'], errors='coerce')"
   ]
  },
  {
   "cell_type": "code",
   "execution_count": 60,
   "metadata": {},
   "outputs": [
    {
     "data": {
      "text/plain": [
       "array([nan, 'Install Now', 'Play WARMACHINE: Tactics Demo',\n",
       "       'Install Theme', 'Third-party', 'Play Now', 'Play the Demo'],\n",
       "      dtype=object)"
      ]
     },
     "execution_count": 60,
     "metadata": {},
     "output_type": "execute_result"
    }
   ],
   "source": [
    "#nos quedamos con los valores unicos de esos Prices extraños\n",
    "df_output_steam_json[df_output_steam_json['price_convertidos'].isna()]['price'].unique()"
   ]
  },
  {
   "cell_type": "markdown",
   "metadata": {},
   "source": [
    "ASUMIMOS COMO AUSENCIA DE INFORMACION PARA ESOS CASOS, CON LO CUAL QUEDARAN CON NaN luego de la transformacion."
   ]
  },
  {
   "cell_type": "code",
   "execution_count": 61,
   "metadata": {},
   "outputs": [],
   "source": [
    "df_output_steam_json['price'] = df_output_steam_json['price_convertidos']\n",
    "df_output_steam_json.drop('price_convertidos', axis=1, inplace=True)"
   ]
  },
  {
   "cell_type": "code",
   "execution_count": 62,
   "metadata": {},
   "outputs": [
    {
     "data": {
      "text/html": [
       "<div>\n",
       "<style scoped>\n",
       "    .dataframe tbody tr th:only-of-type {\n",
       "        vertical-align: middle;\n",
       "    }\n",
       "\n",
       "    .dataframe tbody tr th {\n",
       "        vertical-align: top;\n",
       "    }\n",
       "\n",
       "    .dataframe thead th {\n",
       "        text-align: right;\n",
       "    }\n",
       "</style>\n",
       "<table border=\"1\" class=\"dataframe\">\n",
       "  <thead>\n",
       "    <tr style=\"text-align: right;\">\n",
       "      <th></th>\n",
       "      <th>item_id</th>\n",
       "      <th>genres</th>\n",
       "      <th>release_date</th>\n",
       "      <th>price</th>\n",
       "      <th>developer</th>\n",
       "      <th>year</th>\n",
       "    </tr>\n",
       "  </thead>\n",
       "  <tbody>\n",
       "    <tr>\n",
       "      <th>88310</th>\n",
       "      <td>761140</td>\n",
       "      <td>Action, Casual, Indie, Simulation, Strategy</td>\n",
       "      <td>2018-01-04</td>\n",
       "      <td>4.99</td>\n",
       "      <td>Kotoshiro</td>\n",
       "      <td>2018</td>\n",
       "    </tr>\n",
       "    <tr>\n",
       "      <th>88311</th>\n",
       "      <td>643980</td>\n",
       "      <td>Indie, RPG, Strategy</td>\n",
       "      <td>2018-01-04</td>\n",
       "      <td>0.00</td>\n",
       "      <td>Secret Level SRL</td>\n",
       "      <td>2018</td>\n",
       "    </tr>\n",
       "    <tr>\n",
       "      <th>88312</th>\n",
       "      <td>670290</td>\n",
       "      <td>Casual, Indie, Simulation, Sports</td>\n",
       "      <td>2017-07-24</td>\n",
       "      <td>0.00</td>\n",
       "      <td>Poolians.com</td>\n",
       "      <td>2017</td>\n",
       "    </tr>\n",
       "    <tr>\n",
       "      <th>88313</th>\n",
       "      <td>767400</td>\n",
       "      <td>Action, Adventure, Casual</td>\n",
       "      <td>2017-12-07</td>\n",
       "      <td>0.99</td>\n",
       "      <td>彼岸领域</td>\n",
       "      <td>2017</td>\n",
       "    </tr>\n",
       "    <tr>\n",
       "      <th>88314</th>\n",
       "      <td>773570</td>\n",
       "      <td>Desconocido</td>\n",
       "      <td>1900-01-01</td>\n",
       "      <td>2.99</td>\n",
       "      <td>NaN</td>\n",
       "      <td>1900</td>\n",
       "    </tr>\n",
       "  </tbody>\n",
       "</table>\n",
       "</div>"
      ],
      "text/plain": [
       "       item_id                                       genres release_date  \\\n",
       "88310   761140  Action, Casual, Indie, Simulation, Strategy   2018-01-04   \n",
       "88311   643980                         Indie, RPG, Strategy   2018-01-04   \n",
       "88312   670290            Casual, Indie, Simulation, Sports   2017-07-24   \n",
       "88313   767400                    Action, Adventure, Casual   2017-12-07   \n",
       "88314   773570                                  Desconocido   1900-01-01   \n",
       "\n",
       "       price         developer  year  \n",
       "88310   4.99         Kotoshiro  2018  \n",
       "88311   0.00  Secret Level SRL  2018  \n",
       "88312   0.00      Poolians.com  2017  \n",
       "88313   0.99              彼岸领域  2017  \n",
       "88314   2.99               NaN  1900  "
      ]
     },
     "execution_count": 62,
     "metadata": {},
     "output_type": "execute_result"
    }
   ],
   "source": [
    "df_output_steam_json.head()"
   ]
  },
  {
   "cell_type": "code",
   "execution_count": 63,
   "metadata": {},
   "outputs": [
    {
     "data": {
      "text/html": [
       "<div>\n",
       "<style scoped>\n",
       "    .dataframe tbody tr th:only-of-type {\n",
       "        vertical-align: middle;\n",
       "    }\n",
       "\n",
       "    .dataframe tbody tr th {\n",
       "        vertical-align: top;\n",
       "    }\n",
       "\n",
       "    .dataframe thead th {\n",
       "        text-align: right;\n",
       "    }\n",
       "</style>\n",
       "<table border=\"1\" class=\"dataframe\">\n",
       "  <thead>\n",
       "    <tr style=\"text-align: right;\">\n",
       "      <th></th>\n",
       "      <th>item_id</th>\n",
       "      <th>genres</th>\n",
       "      <th>release_date</th>\n",
       "      <th>price</th>\n",
       "      <th>developer</th>\n",
       "      <th>year</th>\n",
       "    </tr>\n",
       "  </thead>\n",
       "  <tbody>\n",
       "    <tr>\n",
       "      <th>88310</th>\n",
       "      <td>761140</td>\n",
       "      <td>Action, Casual, Indie, Simulation, Strategy</td>\n",
       "      <td>2018-01-04</td>\n",
       "      <td>4.99</td>\n",
       "      <td>Kotoshiro</td>\n",
       "      <td>2018</td>\n",
       "    </tr>\n",
       "  </tbody>\n",
       "</table>\n",
       "</div>"
      ],
      "text/plain": [
       "       item_id                                       genres release_date  \\\n",
       "88310   761140  Action, Casual, Indie, Simulation, Strategy   2018-01-04   \n",
       "\n",
       "       price  developer  year  \n",
       "88310   4.99  Kotoshiro  2018  "
      ]
     },
     "execution_count": 63,
     "metadata": {},
     "output_type": "execute_result"
    }
   ],
   "source": [
    "df_output_steam_json[df_output_steam_json['item_id'] == 761140]"
   ]
  },
  {
   "cell_type": "markdown",
   "metadata": {},
   "source": [
    "DEVELOPER"
   ]
  },
  {
   "cell_type": "code",
   "execution_count": 64,
   "metadata": {},
   "outputs": [
    {
     "data": {
      "text/html": [
       "<div>\n",
       "<style scoped>\n",
       "    .dataframe tbody tr th:only-of-type {\n",
       "        vertical-align: middle;\n",
       "    }\n",
       "\n",
       "    .dataframe tbody tr th {\n",
       "        vertical-align: top;\n",
       "    }\n",
       "\n",
       "    .dataframe thead th {\n",
       "        text-align: right;\n",
       "    }\n",
       "</style>\n",
       "<table border=\"1\" class=\"dataframe\">\n",
       "  <thead>\n",
       "    <tr style=\"text-align: right;\">\n",
       "      <th></th>\n",
       "      <th>item_id</th>\n",
       "      <th>genres</th>\n",
       "      <th>release_date</th>\n",
       "      <th>price</th>\n",
       "      <th>developer</th>\n",
       "      <th>year</th>\n",
       "    </tr>\n",
       "  </thead>\n",
       "  <tbody>\n",
       "    <tr>\n",
       "      <th>88314</th>\n",
       "      <td>773570</td>\n",
       "      <td>Desconocido</td>\n",
       "      <td>1900-01-01</td>\n",
       "      <td>2.99</td>\n",
       "      <td>NaN</td>\n",
       "      <td>1900</td>\n",
       "    </tr>\n",
       "    <tr>\n",
       "      <th>88321</th>\n",
       "      <td>724910</td>\n",
       "      <td>Desconocido</td>\n",
       "      <td>1900-01-01</td>\n",
       "      <td>0.00</td>\n",
       "      <td>NaN</td>\n",
       "      <td>1900</td>\n",
       "    </tr>\n",
       "    <tr>\n",
       "      <th>88329</th>\n",
       "      <td>772590</td>\n",
       "      <td>Desconocido</td>\n",
       "      <td>1900-01-01</td>\n",
       "      <td>4.99</td>\n",
       "      <td>NaN</td>\n",
       "      <td>1900</td>\n",
       "    </tr>\n",
       "    <tr>\n",
       "      <th>88330</th>\n",
       "      <td>640250</td>\n",
       "      <td>Desconocido</td>\n",
       "      <td>1900-01-01</td>\n",
       "      <td>2.99</td>\n",
       "      <td>NaN</td>\n",
       "      <td>1900</td>\n",
       "    </tr>\n",
       "    <tr>\n",
       "      <th>88332</th>\n",
       "      <td>711440</td>\n",
       "      <td>Desconocido</td>\n",
       "      <td>1900-01-01</td>\n",
       "      <td>0.99</td>\n",
       "      <td>NaN</td>\n",
       "      <td>1900</td>\n",
       "    </tr>\n",
       "    <tr>\n",
       "      <th>...</th>\n",
       "      <td>...</td>\n",
       "      <td>...</td>\n",
       "      <td>...</td>\n",
       "      <td>...</td>\n",
       "      <td>...</td>\n",
       "      <td>...</td>\n",
       "    </tr>\n",
       "    <tr>\n",
       "      <th>120428</th>\n",
       "      <td>775640</td>\n",
       "      <td>Desconocido</td>\n",
       "      <td>2018-01-03</td>\n",
       "      <td>3.99</td>\n",
       "      <td>NaN</td>\n",
       "      <td>2018</td>\n",
       "    </tr>\n",
       "    <tr>\n",
       "      <th>120429</th>\n",
       "      <td>777930</td>\n",
       "      <td>Desconocido</td>\n",
       "      <td>2018-01-03</td>\n",
       "      <td>3.99</td>\n",
       "      <td>NaN</td>\n",
       "      <td>2018</td>\n",
       "    </tr>\n",
       "    <tr>\n",
       "      <th>120430</th>\n",
       "      <td>775370</td>\n",
       "      <td>Desconocido</td>\n",
       "      <td>2016-11-19</td>\n",
       "      <td>4.99</td>\n",
       "      <td>NaN</td>\n",
       "      <td>2016</td>\n",
       "    </tr>\n",
       "    <tr>\n",
       "      <th>120431</th>\n",
       "      <td>777950</td>\n",
       "      <td>Desconocido</td>\n",
       "      <td>2018-01-03</td>\n",
       "      <td>0.00</td>\n",
       "      <td>NaN</td>\n",
       "      <td>2018</td>\n",
       "    </tr>\n",
       "    <tr>\n",
       "      <th>120444</th>\n",
       "      <td>681550</td>\n",
       "      <td>Desconocido</td>\n",
       "      <td>1900-01-01</td>\n",
       "      <td>4.99</td>\n",
       "      <td>NaN</td>\n",
       "      <td>1900</td>\n",
       "    </tr>\n",
       "  </tbody>\n",
       "</table>\n",
       "<p>3298 rows × 6 columns</p>\n",
       "</div>"
      ],
      "text/plain": [
       "        item_id       genres release_date  price developer  year\n",
       "88314    773570  Desconocido   1900-01-01   2.99       NaN  1900\n",
       "88321    724910  Desconocido   1900-01-01   0.00       NaN  1900\n",
       "88329    772590  Desconocido   1900-01-01   4.99       NaN  1900\n",
       "88330    640250  Desconocido   1900-01-01   2.99       NaN  1900\n",
       "88332    711440  Desconocido   1900-01-01   0.99       NaN  1900\n",
       "...         ...          ...          ...    ...       ...   ...\n",
       "120428   775640  Desconocido   2018-01-03   3.99       NaN  2018\n",
       "120429   777930  Desconocido   2018-01-03   3.99       NaN  2018\n",
       "120430   775370  Desconocido   2016-11-19   4.99       NaN  2016\n",
       "120431   777950  Desconocido   2018-01-03   0.00       NaN  2018\n",
       "120444   681550  Desconocido   1900-01-01   4.99       NaN  1900\n",
       "\n",
       "[3298 rows x 6 columns]"
      ]
     },
     "execution_count": 64,
     "metadata": {},
     "output_type": "execute_result"
    }
   ],
   "source": [
    "#Visualizamos algunos registros con DEVELOPER nulo\n",
    "df_output_steam_json[df_output_steam_json['developer'].isna()]"
   ]
  },
  {
   "cell_type": "code",
   "execution_count": 65,
   "metadata": {},
   "outputs": [
    {
     "data": {
      "text/plain": [
       "3298"
      ]
     },
     "execution_count": 65,
     "metadata": {},
     "output_type": "execute_result"
    }
   ],
   "source": [
    "#Cantidad total de nulos en columna DEVELOPER previo a la imputacion\n",
    "df_output_steam_json[df_output_steam_json['developer'].isna()].shape[0]"
   ]
  },
  {
   "cell_type": "code",
   "execution_count": 66,
   "metadata": {},
   "outputs": [],
   "source": [
    "# Verifica y asigna \"Desconocido\" a registros nulos en la columna \"developer\"\n",
    "df_output_steam_json['developer'] = df_output_steam_json['developer'].apply(lambda x: \"Desconocido\" if pd.isna(x) else x)"
   ]
  },
  {
   "cell_type": "code",
   "execution_count": 67,
   "metadata": {},
   "outputs": [
    {
     "data": {
      "text/plain": [
       "0"
      ]
     },
     "execution_count": 67,
     "metadata": {},
     "output_type": "execute_result"
    }
   ],
   "source": [
    "#Cantidad total de nulos en columna DEVELOPER luego de la imputacion\n",
    "df_output_steam_json[df_output_steam_json['developer'].isna()].shape[0]"
   ]
  },
  {
   "cell_type": "code",
   "execution_count": 68,
   "metadata": {},
   "outputs": [
    {
     "data": {
      "text/html": [
       "<div>\n",
       "<style scoped>\n",
       "    .dataframe tbody tr th:only-of-type {\n",
       "        vertical-align: middle;\n",
       "    }\n",
       "\n",
       "    .dataframe tbody tr th {\n",
       "        vertical-align: top;\n",
       "    }\n",
       "\n",
       "    .dataframe thead th {\n",
       "        text-align: right;\n",
       "    }\n",
       "</style>\n",
       "<table border=\"1\" class=\"dataframe\">\n",
       "  <thead>\n",
       "    <tr style=\"text-align: right;\">\n",
       "      <th></th>\n",
       "      <th>item_id</th>\n",
       "      <th>genres</th>\n",
       "      <th>release_date</th>\n",
       "      <th>price</th>\n",
       "      <th>developer</th>\n",
       "      <th>year</th>\n",
       "    </tr>\n",
       "  </thead>\n",
       "  <tbody>\n",
       "    <tr>\n",
       "      <th>88310</th>\n",
       "      <td>761140</td>\n",
       "      <td>Action, Casual, Indie, Simulation, Strategy</td>\n",
       "      <td>2018-01-04</td>\n",
       "      <td>4.99</td>\n",
       "      <td>Kotoshiro</td>\n",
       "      <td>2018</td>\n",
       "    </tr>\n",
       "    <tr>\n",
       "      <th>88311</th>\n",
       "      <td>643980</td>\n",
       "      <td>Indie, RPG, Strategy</td>\n",
       "      <td>2018-01-04</td>\n",
       "      <td>0.00</td>\n",
       "      <td>Secret Level SRL</td>\n",
       "      <td>2018</td>\n",
       "    </tr>\n",
       "    <tr>\n",
       "      <th>88312</th>\n",
       "      <td>670290</td>\n",
       "      <td>Casual, Indie, Simulation, Sports</td>\n",
       "      <td>2017-07-24</td>\n",
       "      <td>0.00</td>\n",
       "      <td>Poolians.com</td>\n",
       "      <td>2017</td>\n",
       "    </tr>\n",
       "    <tr>\n",
       "      <th>88313</th>\n",
       "      <td>767400</td>\n",
       "      <td>Action, Adventure, Casual</td>\n",
       "      <td>2017-12-07</td>\n",
       "      <td>0.99</td>\n",
       "      <td>彼岸领域</td>\n",
       "      <td>2017</td>\n",
       "    </tr>\n",
       "    <tr>\n",
       "      <th>88314</th>\n",
       "      <td>773570</td>\n",
       "      <td>Desconocido</td>\n",
       "      <td>1900-01-01</td>\n",
       "      <td>2.99</td>\n",
       "      <td>Desconocido</td>\n",
       "      <td>1900</td>\n",
       "    </tr>\n",
       "  </tbody>\n",
       "</table>\n",
       "</div>"
      ],
      "text/plain": [
       "       item_id                                       genres release_date  \\\n",
       "88310   761140  Action, Casual, Indie, Simulation, Strategy   2018-01-04   \n",
       "88311   643980                         Indie, RPG, Strategy   2018-01-04   \n",
       "88312   670290            Casual, Indie, Simulation, Sports   2017-07-24   \n",
       "88313   767400                    Action, Adventure, Casual   2017-12-07   \n",
       "88314   773570                                  Desconocido   1900-01-01   \n",
       "\n",
       "       price         developer  year  \n",
       "88310   4.99         Kotoshiro  2018  \n",
       "88311   0.00  Secret Level SRL  2018  \n",
       "88312   0.00      Poolians.com  2017  \n",
       "88313   0.99              彼岸领域  2017  \n",
       "88314   2.99       Desconocido  1900  "
      ]
     },
     "execution_count": 68,
     "metadata": {},
     "output_type": "execute_result"
    }
   ],
   "source": [
    "#Visualizamos algunos registros\n",
    "df_output_steam_json.head()"
   ]
  },
  {
   "cell_type": "code",
   "execution_count": 69,
   "metadata": {},
   "outputs": [
    {
     "data": {
      "text/plain": [
       "10993"
      ]
     },
     "execution_count": 69,
     "metadata": {},
     "output_type": "execute_result"
    }
   ],
   "source": [
    "#Cantidad de Developers diferentes\n",
    "df_output_steam_json['developer'].unique().shape[0]"
   ]
  },
  {
   "cell_type": "code",
   "execution_count": 70,
   "metadata": {},
   "outputs": [],
   "source": [
    "df_output_steam_json['developer'] = df_output_steam_json['developer'].str.strip()"
   ]
  },
  {
   "cell_type": "code",
   "execution_count": 71,
   "metadata": {},
   "outputs": [
    {
     "data": {
      "text/plain": [
       "10993"
      ]
     },
     "execution_count": 71,
     "metadata": {},
     "output_type": "execute_result"
    }
   ],
   "source": [
    "#Cantidad de Developers diferentes\n",
    "df_output_steam_json['developer'].unique().shape[0]"
   ]
  },
  {
   "cell_type": "markdown",
   "metadata": {},
   "source": [
    "UNA VEZ FINALIZADAS TODAS LAS TRANSFORMACIONES VOLVEMOS A ELIMINAR DUPLICADOS POR LAS DUDAS"
   ]
  },
  {
   "cell_type": "code",
   "execution_count": 72,
   "metadata": {},
   "outputs": [
    {
     "data": {
      "text/plain": [
       "32133"
      ]
     },
     "execution_count": 72,
     "metadata": {},
     "output_type": "execute_result"
    }
   ],
   "source": [
    "#Vemos cantidad de Registros antes de la eliminacion\n",
    "df_output_steam_json.shape[0]"
   ]
  },
  {
   "cell_type": "code",
   "execution_count": 73,
   "metadata": {},
   "outputs": [],
   "source": [
    "# Elimina registros duplicados en el DataFrame\n",
    "df_output_steam_json.drop_duplicates(inplace=True)"
   ]
  },
  {
   "cell_type": "code",
   "execution_count": 74,
   "metadata": {},
   "outputs": [
    {
     "data": {
      "text/plain": [
       "32132"
      ]
     },
     "execution_count": 74,
     "metadata": {},
     "output_type": "execute_result"
    }
   ],
   "source": [
    "#Vemos cantidad de Registros despues de la eliminacion\n",
    "df_output_steam_json.shape[0]"
   ]
  },
  {
   "cell_type": "code",
   "execution_count": 75,
   "metadata": {},
   "outputs": [],
   "source": [
    "#Reseteamos indices\n",
    "df_output_steam_json.reset_index(drop=True, inplace=True)"
   ]
  },
  {
   "cell_type": "code",
   "execution_count": 76,
   "metadata": {},
   "outputs": [],
   "source": [
    "#Convertimos a string\n",
    "df_output_steam_json['developer'] = df_output_steam_json['developer'].astype(str)"
   ]
  },
  {
   "cell_type": "markdown",
   "metadata": {},
   "source": [
    ".\n",
    "\n",
    ".\n",
    "\n",
    "."
   ]
  },
  {
   "cell_type": "markdown",
   "metadata": {},
   "source": [
    "# USER REVIEWS"
   ]
  },
  {
   "cell_type": "markdown",
   "metadata": {},
   "source": [
    "Establecemos las columnas relevantes para el MVP"
   ]
  },
  {
   "cell_type": "code",
   "execution_count": 77,
   "metadata": {},
   "outputs": [],
   "source": [
    "cols_user_reviews = [\"user_id\", \"posted\", \"item_id\", \"recommend\", \"review\"]"
   ]
  },
  {
   "cell_type": "markdown",
   "metadata": {},
   "source": [
    "LECTURA"
   ]
  },
  {
   "cell_type": "code",
   "execution_count": 78,
   "metadata": {},
   "outputs": [],
   "source": [
    "#Lectura previa al particionamiento\n",
    "#df_user_reviews_entero = leerJsonGz(\"Datos/\", \"user_reviews.json.gz\",1)"
   ]
  },
  {
   "cell_type": "code",
   "execution_count": 79,
   "metadata": {},
   "outputs": [],
   "source": [
    "#Lectura y union de particiones\n",
    "df_user_reviews = leerJsonGzPart(\"Datos/Particiones/\",\"user_reviews.json.gz\",0,3)"
   ]
  },
  {
   "cell_type": "code",
   "execution_count": 80,
   "metadata": {},
   "outputs": [],
   "source": [
    "#Se comprobo que el particionamiento ha funcionado\n",
    "#print(\"Shape Lectura Completa    : \",df_user_reviews_entero.shape)\n",
    "#print(\"Shape Lectura Particionada: \",df_user_reviews.shape)"
   ]
  },
  {
   "cell_type": "code",
   "execution_count": 81,
   "metadata": {},
   "outputs": [
    {
     "data": {
      "text/html": [
       "<div>\n",
       "<style scoped>\n",
       "    .dataframe tbody tr th:only-of-type {\n",
       "        vertical-align: middle;\n",
       "    }\n",
       "\n",
       "    .dataframe tbody tr th {\n",
       "        vertical-align: top;\n",
       "    }\n",
       "\n",
       "    .dataframe thead th {\n",
       "        text-align: right;\n",
       "    }\n",
       "</style>\n",
       "<table border=\"1\" class=\"dataframe\">\n",
       "  <thead>\n",
       "    <tr style=\"text-align: right;\">\n",
       "      <th></th>\n",
       "      <th>user_id</th>\n",
       "      <th>user_url</th>\n",
       "      <th>reviews</th>\n",
       "    </tr>\n",
       "  </thead>\n",
       "  <tbody>\n",
       "    <tr>\n",
       "      <th>0</th>\n",
       "      <td>76561197970982479</td>\n",
       "      <td>http://steamcommunity.com/profiles/76561197970...</td>\n",
       "      <td>[{'funny': '', 'posted': 'Posted November 5, 2...</td>\n",
       "    </tr>\n",
       "    <tr>\n",
       "      <th>1</th>\n",
       "      <td>js41637</td>\n",
       "      <td>http://steamcommunity.com/id/js41637</td>\n",
       "      <td>[{'funny': '', 'posted': 'Posted June 24, 2014...</td>\n",
       "    </tr>\n",
       "    <tr>\n",
       "      <th>2</th>\n",
       "      <td>evcentric</td>\n",
       "      <td>http://steamcommunity.com/id/evcentric</td>\n",
       "      <td>[{'funny': '', 'posted': 'Posted February 3.',...</td>\n",
       "    </tr>\n",
       "    <tr>\n",
       "      <th>3</th>\n",
       "      <td>doctr</td>\n",
       "      <td>http://steamcommunity.com/id/doctr</td>\n",
       "      <td>[{'funny': '', 'posted': 'Posted October 14, 2...</td>\n",
       "    </tr>\n",
       "    <tr>\n",
       "      <th>4</th>\n",
       "      <td>maplemage</td>\n",
       "      <td>http://steamcommunity.com/id/maplemage</td>\n",
       "      <td>[{'funny': '3 people found this review funny',...</td>\n",
       "    </tr>\n",
       "  </tbody>\n",
       "</table>\n",
       "</div>"
      ],
      "text/plain": [
       "             user_id                                           user_url  \\\n",
       "0  76561197970982479  http://steamcommunity.com/profiles/76561197970...   \n",
       "1            js41637               http://steamcommunity.com/id/js41637   \n",
       "2          evcentric             http://steamcommunity.com/id/evcentric   \n",
       "3              doctr                 http://steamcommunity.com/id/doctr   \n",
       "4          maplemage             http://steamcommunity.com/id/maplemage   \n",
       "\n",
       "                                             reviews  \n",
       "0  [{'funny': '', 'posted': 'Posted November 5, 2...  \n",
       "1  [{'funny': '', 'posted': 'Posted June 24, 2014...  \n",
       "2  [{'funny': '', 'posted': 'Posted February 3.',...  \n",
       "3  [{'funny': '', 'posted': 'Posted October 14, 2...  \n",
       "4  [{'funny': '3 people found this review funny',...  "
      ]
     },
     "execution_count": 81,
     "metadata": {},
     "output_type": "execute_result"
    }
   ],
   "source": [
    "#visualizamos DF\n",
    "df_user_reviews.head()"
   ]
  },
  {
   "cell_type": "markdown",
   "metadata": {},
   "source": [
    "DESANIDAMOS\n",
    "\n",
    "Invoca a la funcion que desanida los json. En este caso, abrira en tantas columnas como claves tengan los diccionarios que estan dentro de la estructura REVIEWS"
   ]
  },
  {
   "cell_type": "code",
   "execution_count": 82,
   "metadata": {},
   "outputs": [
    {
     "name": "stdout",
     "output_type": "stream",
     "text": [
      "Cantidad de Registros sin desanidar:  25799\n",
      "Cantidad de Columnas  sin desanidar:  3\n"
     ]
    }
   ],
   "source": [
    "print(\"Cantidad de Registros sin desanidar: \", df_user_reviews.shape[0])\n",
    "print(\"Cantidad de Columnas  sin desanidar: \", df_user_reviews.shape[1])"
   ]
  },
  {
   "cell_type": "code",
   "execution_count": 83,
   "metadata": {},
   "outputs": [
    {
     "data": {
      "text/html": [
       "<div>\n",
       "<style scoped>\n",
       "    .dataframe tbody tr th:only-of-type {\n",
       "        vertical-align: middle;\n",
       "    }\n",
       "\n",
       "    .dataframe tbody tr th {\n",
       "        vertical-align: top;\n",
       "    }\n",
       "\n",
       "    .dataframe thead th {\n",
       "        text-align: right;\n",
       "    }\n",
       "</style>\n",
       "<table border=\"1\" class=\"dataframe\">\n",
       "  <thead>\n",
       "    <tr style=\"text-align: right;\">\n",
       "      <th></th>\n",
       "      <th>user_id</th>\n",
       "      <th>user_url</th>\n",
       "      <th>funny</th>\n",
       "      <th>posted</th>\n",
       "      <th>last_edited</th>\n",
       "      <th>item_id</th>\n",
       "      <th>helpful</th>\n",
       "      <th>recommend</th>\n",
       "      <th>review</th>\n",
       "    </tr>\n",
       "  </thead>\n",
       "  <tbody>\n",
       "    <tr>\n",
       "      <th>0</th>\n",
       "      <td>76561197970982479</td>\n",
       "      <td>http://steamcommunity.com/profiles/76561197970...</td>\n",
       "      <td></td>\n",
       "      <td>Posted November 5, 2011.</td>\n",
       "      <td></td>\n",
       "      <td>1250</td>\n",
       "      <td>No ratings yet</td>\n",
       "      <td>True</td>\n",
       "      <td>Simple yet with great replayability. In my opi...</td>\n",
       "    </tr>\n",
       "    <tr>\n",
       "      <th>1</th>\n",
       "      <td>76561197970982479</td>\n",
       "      <td>http://steamcommunity.com/profiles/76561197970...</td>\n",
       "      <td></td>\n",
       "      <td>Posted July 15, 2011.</td>\n",
       "      <td></td>\n",
       "      <td>22200</td>\n",
       "      <td>No ratings yet</td>\n",
       "      <td>True</td>\n",
       "      <td>It's unique and worth a playthrough.</td>\n",
       "    </tr>\n",
       "    <tr>\n",
       "      <th>2</th>\n",
       "      <td>76561197970982479</td>\n",
       "      <td>http://steamcommunity.com/profiles/76561197970...</td>\n",
       "      <td></td>\n",
       "      <td>Posted April 21, 2011.</td>\n",
       "      <td></td>\n",
       "      <td>43110</td>\n",
       "      <td>No ratings yet</td>\n",
       "      <td>True</td>\n",
       "      <td>Great atmosphere. The gunplay can be a bit chu...</td>\n",
       "    </tr>\n",
       "    <tr>\n",
       "      <th>3</th>\n",
       "      <td>js41637</td>\n",
       "      <td>http://steamcommunity.com/id/js41637</td>\n",
       "      <td></td>\n",
       "      <td>Posted June 24, 2014.</td>\n",
       "      <td></td>\n",
       "      <td>251610</td>\n",
       "      <td>15 of 20 people (75%) found this review helpful</td>\n",
       "      <td>True</td>\n",
       "      <td>I know what you think when you see this title ...</td>\n",
       "    </tr>\n",
       "    <tr>\n",
       "      <th>4</th>\n",
       "      <td>js41637</td>\n",
       "      <td>http://steamcommunity.com/id/js41637</td>\n",
       "      <td></td>\n",
       "      <td>Posted September 8, 2013.</td>\n",
       "      <td></td>\n",
       "      <td>227300</td>\n",
       "      <td>0 of 1 people (0%) found this review helpful</td>\n",
       "      <td>True</td>\n",
       "      <td>For a simple (it's actually not all that simpl...</td>\n",
       "    </tr>\n",
       "  </tbody>\n",
       "</table>\n",
       "</div>"
      ],
      "text/plain": [
       "             user_id                                           user_url funny  \\\n",
       "0  76561197970982479  http://steamcommunity.com/profiles/76561197970...         \n",
       "1  76561197970982479  http://steamcommunity.com/profiles/76561197970...         \n",
       "2  76561197970982479  http://steamcommunity.com/profiles/76561197970...         \n",
       "3            js41637               http://steamcommunity.com/id/js41637         \n",
       "4            js41637               http://steamcommunity.com/id/js41637         \n",
       "\n",
       "                      posted last_edited item_id  \\\n",
       "0   Posted November 5, 2011.                1250   \n",
       "1      Posted July 15, 2011.               22200   \n",
       "2     Posted April 21, 2011.               43110   \n",
       "3      Posted June 24, 2014.              251610   \n",
       "4  Posted September 8, 2013.              227300   \n",
       "\n",
       "                                           helpful recommend  \\\n",
       "0                                   No ratings yet      True   \n",
       "1                                   No ratings yet      True   \n",
       "2                                   No ratings yet      True   \n",
       "3  15 of 20 people (75%) found this review helpful      True   \n",
       "4     0 of 1 people (0%) found this review helpful      True   \n",
       "\n",
       "                                              review  \n",
       "0  Simple yet with great replayability. In my opi...  \n",
       "1               It's unique and worth a playthrough.  \n",
       "2  Great atmosphere. The gunplay can be a bit chu...  \n",
       "3  I know what you think when you see this title ...  \n",
       "4  For a simple (it's actually not all that simpl...  "
      ]
     },
     "execution_count": 83,
     "metadata": {},
     "output_type": "execute_result"
    }
   ],
   "source": [
    "df_user_reviews = desanidarJson(df_user_reviews, 'reviews')\n",
    "df_user_reviews.head()"
   ]
  },
  {
   "cell_type": "code",
   "execution_count": 84,
   "metadata": {},
   "outputs": [
    {
     "name": "stdout",
     "output_type": "stream",
     "text": [
      "Cantidad de Registros luego de desanidar:  59333\n",
      "Cantidad de Columnas  luego de desanidar:  9\n"
     ]
    }
   ],
   "source": [
    "print(\"Cantidad de Registros luego de desanidar: \", df_user_reviews.shape[0])\n",
    "print(\"Cantidad de Columnas  luego de desanidar: \", df_user_reviews.shape[1])"
   ]
  },
  {
   "cell_type": "code",
   "execution_count": 85,
   "metadata": {},
   "outputs": [
    {
     "data": {
      "text/html": [
       "<div>\n",
       "<style scoped>\n",
       "    .dataframe tbody tr th:only-of-type {\n",
       "        vertical-align: middle;\n",
       "    }\n",
       "\n",
       "    .dataframe tbody tr th {\n",
       "        vertical-align: top;\n",
       "    }\n",
       "\n",
       "    .dataframe thead th {\n",
       "        text-align: right;\n",
       "    }\n",
       "</style>\n",
       "<table border=\"1\" class=\"dataframe\">\n",
       "  <thead>\n",
       "    <tr style=\"text-align: right;\">\n",
       "      <th></th>\n",
       "      <th>user_id</th>\n",
       "      <th>posted</th>\n",
       "      <th>item_id</th>\n",
       "      <th>recommend</th>\n",
       "      <th>review</th>\n",
       "    </tr>\n",
       "  </thead>\n",
       "  <tbody>\n",
       "    <tr>\n",
       "      <th>0</th>\n",
       "      <td>76561197970982479</td>\n",
       "      <td>Posted November 5, 2011.</td>\n",
       "      <td>1250</td>\n",
       "      <td>True</td>\n",
       "      <td>Simple yet with great replayability. In my opi...</td>\n",
       "    </tr>\n",
       "    <tr>\n",
       "      <th>1</th>\n",
       "      <td>76561197970982479</td>\n",
       "      <td>Posted July 15, 2011.</td>\n",
       "      <td>22200</td>\n",
       "      <td>True</td>\n",
       "      <td>It's unique and worth a playthrough.</td>\n",
       "    </tr>\n",
       "    <tr>\n",
       "      <th>2</th>\n",
       "      <td>76561197970982479</td>\n",
       "      <td>Posted April 21, 2011.</td>\n",
       "      <td>43110</td>\n",
       "      <td>True</td>\n",
       "      <td>Great atmosphere. The gunplay can be a bit chu...</td>\n",
       "    </tr>\n",
       "    <tr>\n",
       "      <th>3</th>\n",
       "      <td>js41637</td>\n",
       "      <td>Posted June 24, 2014.</td>\n",
       "      <td>251610</td>\n",
       "      <td>True</td>\n",
       "      <td>I know what you think when you see this title ...</td>\n",
       "    </tr>\n",
       "    <tr>\n",
       "      <th>4</th>\n",
       "      <td>js41637</td>\n",
       "      <td>Posted September 8, 2013.</td>\n",
       "      <td>227300</td>\n",
       "      <td>True</td>\n",
       "      <td>For a simple (it's actually not all that simpl...</td>\n",
       "    </tr>\n",
       "  </tbody>\n",
       "</table>\n",
       "</div>"
      ],
      "text/plain": [
       "             user_id                     posted item_id recommend  \\\n",
       "0  76561197970982479   Posted November 5, 2011.    1250      True   \n",
       "1  76561197970982479      Posted July 15, 2011.   22200      True   \n",
       "2  76561197970982479     Posted April 21, 2011.   43110      True   \n",
       "3            js41637      Posted June 24, 2014.  251610      True   \n",
       "4            js41637  Posted September 8, 2013.  227300      True   \n",
       "\n",
       "                                              review  \n",
       "0  Simple yet with great replayability. In my opi...  \n",
       "1               It's unique and worth a playthrough.  \n",
       "2  Great atmosphere. The gunplay can be a bit chu...  \n",
       "3  I know what you think when you see this title ...  \n",
       "4  For a simple (it's actually not all that simpl...  "
      ]
     },
     "execution_count": 85,
     "metadata": {},
     "output_type": "execute_result"
    }
   ],
   "source": [
    "#Me quedo con las columnas Relevantes para el MVP\n",
    "df_user_reviews = df_user_reviews[cols_user_reviews]\n",
    "df_user_reviews.head()"
   ]
  },
  {
   "cell_type": "markdown",
   "metadata": {},
   "source": [
    "ELIMINO REGISTROS QUE NO ME SIRVEN\n",
    "\n",
    "- Cuando review y recommend estan sin informacion, ya que no me aportan ninguna informacion esos registros."
   ]
  },
  {
   "cell_type": "code",
   "execution_count": 86,
   "metadata": {},
   "outputs": [
    {
     "data": {
      "text/plain": [
       "(59305, 5)"
      ]
     },
     "execution_count": 86,
     "metadata": {},
     "output_type": "execute_result"
    }
   ],
   "source": [
    "df_user_reviews = df_user_reviews.dropna(subset=['recommend', 'review'], how='all')\n",
    "df_user_reviews.reset_index(drop=True, inplace=True)\n",
    "df_user_reviews.shape"
   ]
  },
  {
   "cell_type": "code",
   "execution_count": 87,
   "metadata": {},
   "outputs": [
    {
     "name": "stdout",
     "output_type": "stream",
     "text": [
      "<class 'pandas.core.frame.DataFrame'>\n",
      "RangeIndex: 59305 entries, 0 to 59304\n",
      "Data columns (total 5 columns):\n",
      " #   Column     Non-Null Count  Dtype \n",
      "---  ------     --------------  ----- \n",
      " 0   user_id    59305 non-null  object\n",
      " 1   posted     59305 non-null  object\n",
      " 2   item_id    59305 non-null  object\n",
      " 3   recommend  59305 non-null  object\n",
      " 4   review     59305 non-null  object\n",
      "dtypes: object(5)\n",
      "memory usage: 2.3+ MB\n"
     ]
    }
   ],
   "source": [
    "df_user_reviews.info()"
   ]
  },
  {
   "cell_type": "markdown",
   "metadata": {},
   "source": [
    "==> Podemos ver que no hay mas valores nulos"
   ]
  },
  {
   "cell_type": "markdown",
   "metadata": {},
   "source": [
    ".\n",
    "\n"
   ]
  },
  {
   "cell_type": "markdown",
   "metadata": {},
   "source": [
    "TRANSFORMACIONES"
   ]
  },
  {
   "cell_type": "markdown",
   "metadata": {},
   "source": [
    ".\n",
    "\n"
   ]
  },
  {
   "cell_type": "markdown",
   "metadata": {},
   "source": [
    "POSTED"
   ]
  },
  {
   "cell_type": "markdown",
   "metadata": {},
   "source": [
    "La fecha Viene sin año en algunos casos y ademas esta en un formato poco util. vamos a proceder a llevarla a YYYY-MM-DD al igual que lo hicimos con RELEASE_DATE."
   ]
  },
  {
   "cell_type": "code",
   "execution_count": 88,
   "metadata": {},
   "outputs": [
    {
     "data": {
      "text/html": [
       "<div>\n",
       "<style scoped>\n",
       "    .dataframe tbody tr th:only-of-type {\n",
       "        vertical-align: middle;\n",
       "    }\n",
       "\n",
       "    .dataframe tbody tr th {\n",
       "        vertical-align: top;\n",
       "    }\n",
       "\n",
       "    .dataframe thead th {\n",
       "        text-align: right;\n",
       "    }\n",
       "</style>\n",
       "<table border=\"1\" class=\"dataframe\">\n",
       "  <thead>\n",
       "    <tr style=\"text-align: right;\">\n",
       "      <th></th>\n",
       "      <th>user_id</th>\n",
       "      <th>posted</th>\n",
       "      <th>item_id</th>\n",
       "      <th>recommend</th>\n",
       "      <th>review</th>\n",
       "      <th>posted_new</th>\n",
       "    </tr>\n",
       "  </thead>\n",
       "  <tbody>\n",
       "    <tr>\n",
       "      <th>0</th>\n",
       "      <td>76561197970982479</td>\n",
       "      <td>November 5, 2011</td>\n",
       "      <td>1250</td>\n",
       "      <td>True</td>\n",
       "      <td>Simple yet with great replayability. In my opi...</td>\n",
       "      <td>2011-11-05</td>\n",
       "    </tr>\n",
       "    <tr>\n",
       "      <th>1</th>\n",
       "      <td>76561197970982479</td>\n",
       "      <td>July 15, 2011</td>\n",
       "      <td>22200</td>\n",
       "      <td>True</td>\n",
       "      <td>It's unique and worth a playthrough.</td>\n",
       "      <td>2011-07-15</td>\n",
       "    </tr>\n",
       "    <tr>\n",
       "      <th>2</th>\n",
       "      <td>76561197970982479</td>\n",
       "      <td>April 21, 2011</td>\n",
       "      <td>43110</td>\n",
       "      <td>True</td>\n",
       "      <td>Great atmosphere. The gunplay can be a bit chu...</td>\n",
       "      <td>2011-04-21</td>\n",
       "    </tr>\n",
       "    <tr>\n",
       "      <th>3</th>\n",
       "      <td>js41637</td>\n",
       "      <td>June 24, 2014</td>\n",
       "      <td>251610</td>\n",
       "      <td>True</td>\n",
       "      <td>I know what you think when you see this title ...</td>\n",
       "      <td>2014-06-24</td>\n",
       "    </tr>\n",
       "    <tr>\n",
       "      <th>4</th>\n",
       "      <td>js41637</td>\n",
       "      <td>September 8, 2013</td>\n",
       "      <td>227300</td>\n",
       "      <td>True</td>\n",
       "      <td>For a simple (it's actually not all that simpl...</td>\n",
       "      <td>2013-09-08</td>\n",
       "    </tr>\n",
       "  </tbody>\n",
       "</table>\n",
       "</div>"
      ],
      "text/plain": [
       "             user_id             posted item_id recommend  \\\n",
       "0  76561197970982479   November 5, 2011    1250      True   \n",
       "1  76561197970982479      July 15, 2011   22200      True   \n",
       "2  76561197970982479     April 21, 2011   43110      True   \n",
       "3            js41637      June 24, 2014  251610      True   \n",
       "4            js41637  September 8, 2013  227300      True   \n",
       "\n",
       "                                              review  posted_new  \n",
       "0  Simple yet with great replayability. In my opi...  2011-11-05  \n",
       "1               It's unique and worth a playthrough.  2011-07-15  \n",
       "2  Great atmosphere. The gunplay can be a bit chu...  2011-04-21  \n",
       "3  I know what you think when you see this title ...  2014-06-24  \n",
       "4  For a simple (it's actually not all that simpl...  2013-09-08  "
      ]
     },
     "execution_count": 88,
     "metadata": {},
     "output_type": "execute_result"
    }
   ],
   "source": [
    "#Quito Espacios\n",
    "df_user_reviews['posted'] = df_user_reviews['posted'].str.strip()\n",
    "#Quitamos palabra 'Posted' y el '.' final.\n",
    "df_user_reviews['posted'] = df_user_reviews['posted'].str.replace('Posted ', '').str.replace('.', '')\n",
    "#No hay nulos, pero si los hubiera completariamos con una fecha default\n",
    "df_user_reviews['posted'].fillna(DEFAULT_DATE_LONG, inplace=True)\n",
    "# Realiza el cambio de formato de la FECHA hacia YYYY-MM-DD\n",
    "df_user_reviews['posted_new'] = df_user_reviews['posted'].apply(convertPosted)\n",
    "df_user_reviews.head()"
   ]
  },
  {
   "cell_type": "markdown",
   "metadata": {},
   "source": [
    "Confirmamos nuevamente que no hay posteos sin fecha"
   ]
  },
  {
   "cell_type": "code",
   "execution_count": 89,
   "metadata": {},
   "outputs": [
    {
     "name": "stdout",
     "output_type": "stream",
     "text": [
      "Cantidad de Fechas Default en USER REVIEWs:  0\n"
     ]
    }
   ],
   "source": [
    "print(\"Cantidad de Fechas Default en USER REVIEWs: \", df_user_reviews[df_user_reviews[\"posted\"] == \"1900-01-01\"].shape[0])"
   ]
  },
  {
   "cell_type": "code",
   "execution_count": 90,
   "metadata": {},
   "outputs": [
    {
     "data": {
      "text/plain": [
       "posted\n",
       "False    59305\n",
       "Name: count, dtype: int64"
      ]
     },
     "execution_count": 90,
     "metadata": {},
     "output_type": "execute_result"
    }
   ],
   "source": [
    "df_user_reviews[\"posted\"].isna().value_counts()"
   ]
  },
  {
   "cell_type": "markdown",
   "metadata": {},
   "source": [
    "Veo cuantas fechas hay con año 1900"
   ]
  },
  {
   "cell_type": "code",
   "execution_count": 91,
   "metadata": {},
   "outputs": [
    {
     "data": {
      "text/html": [
       "<div>\n",
       "<style scoped>\n",
       "    .dataframe tbody tr th:only-of-type {\n",
       "        vertical-align: middle;\n",
       "    }\n",
       "\n",
       "    .dataframe tbody tr th {\n",
       "        vertical-align: top;\n",
       "    }\n",
       "\n",
       "    .dataframe thead th {\n",
       "        text-align: right;\n",
       "    }\n",
       "</style>\n",
       "<table border=\"1\" class=\"dataframe\">\n",
       "  <thead>\n",
       "    <tr style=\"text-align: right;\">\n",
       "      <th></th>\n",
       "      <th>user_id</th>\n",
       "      <th>posted</th>\n",
       "      <th>item_id</th>\n",
       "      <th>recommend</th>\n",
       "      <th>review</th>\n",
       "      <th>posted_new</th>\n",
       "    </tr>\n",
       "  </thead>\n",
       "  <tbody>\n",
       "    <tr>\n",
       "      <th>6</th>\n",
       "      <td>evcentric</td>\n",
       "      <td>February 3</td>\n",
       "      <td>248820</td>\n",
       "      <td>True</td>\n",
       "      <td>A suitably punishing roguelike platformer.  Wi...</td>\n",
       "      <td>1900-02-03</td>\n",
       "    </tr>\n",
       "    <tr>\n",
       "      <th>27</th>\n",
       "      <td>76561198079601835</td>\n",
       "      <td>May 20</td>\n",
       "      <td>730</td>\n",
       "      <td>True</td>\n",
       "      <td>ZIKA DO BAILE</td>\n",
       "      <td>1900-05-20</td>\n",
       "    </tr>\n",
       "    <tr>\n",
       "      <th>28</th>\n",
       "      <td>MeaTCompany</td>\n",
       "      <td>July 24</td>\n",
       "      <td>730</td>\n",
       "      <td>True</td>\n",
       "      <td>BEST GAME IN THE BLOODY WORLD</td>\n",
       "      <td>1900-07-24</td>\n",
       "    </tr>\n",
       "    <tr>\n",
       "      <th>31</th>\n",
       "      <td>76561198156664158</td>\n",
       "      <td>June 16</td>\n",
       "      <td>252950</td>\n",
       "      <td>True</td>\n",
       "      <td>love it</td>\n",
       "      <td>1900-06-16</td>\n",
       "    </tr>\n",
       "    <tr>\n",
       "      <th>32</th>\n",
       "      <td>76561198077246154</td>\n",
       "      <td>June 11</td>\n",
       "      <td>440</td>\n",
       "      <td>True</td>\n",
       "      <td>mt bom</td>\n",
       "      <td>1900-06-11</td>\n",
       "    </tr>\n",
       "    <tr>\n",
       "      <th>...</th>\n",
       "      <td>...</td>\n",
       "      <td>...</td>\n",
       "      <td>...</td>\n",
       "      <td>...</td>\n",
       "      <td>...</td>\n",
       "      <td>...</td>\n",
       "    </tr>\n",
       "    <tr>\n",
       "      <th>59300</th>\n",
       "      <td>76561198312638244</td>\n",
       "      <td>July 10</td>\n",
       "      <td>70</td>\n",
       "      <td>True</td>\n",
       "      <td>a must have classic from steam definitely wort...</td>\n",
       "      <td>1900-07-10</td>\n",
       "    </tr>\n",
       "    <tr>\n",
       "      <th>59301</th>\n",
       "      <td>76561198312638244</td>\n",
       "      <td>July 8</td>\n",
       "      <td>362890</td>\n",
       "      <td>True</td>\n",
       "      <td>this game is a perfect remake of the original ...</td>\n",
       "      <td>1900-07-08</td>\n",
       "    </tr>\n",
       "    <tr>\n",
       "      <th>59302</th>\n",
       "      <td>LydiaMorley</td>\n",
       "      <td>July 3</td>\n",
       "      <td>273110</td>\n",
       "      <td>True</td>\n",
       "      <td>had so much fun plaing this and collecting res...</td>\n",
       "      <td>1900-07-03</td>\n",
       "    </tr>\n",
       "    <tr>\n",
       "      <th>59303</th>\n",
       "      <td>LydiaMorley</td>\n",
       "      <td>July 20</td>\n",
       "      <td>730</td>\n",
       "      <td>True</td>\n",
       "      <td>:D</td>\n",
       "      <td>1900-07-20</td>\n",
       "    </tr>\n",
       "    <tr>\n",
       "      <th>59304</th>\n",
       "      <td>LydiaMorley</td>\n",
       "      <td>July 2</td>\n",
       "      <td>440</td>\n",
       "      <td>True</td>\n",
       "      <td>so much fun :D</td>\n",
       "      <td>1900-07-02</td>\n",
       "    </tr>\n",
       "  </tbody>\n",
       "</table>\n",
       "<p>10119 rows × 6 columns</p>\n",
       "</div>"
      ],
      "text/plain": [
       "                 user_id      posted item_id recommend  \\\n",
       "6              evcentric  February 3  248820      True   \n",
       "27     76561198079601835      May 20     730      True   \n",
       "28           MeaTCompany     July 24     730      True   \n",
       "31     76561198156664158     June 16  252950      True   \n",
       "32     76561198077246154     June 11     440      True   \n",
       "...                  ...         ...     ...       ...   \n",
       "59300  76561198312638244     July 10      70      True   \n",
       "59301  76561198312638244      July 8  362890      True   \n",
       "59302        LydiaMorley      July 3  273110      True   \n",
       "59303        LydiaMorley     July 20     730      True   \n",
       "59304        LydiaMorley      July 2     440      True   \n",
       "\n",
       "                                                  review  posted_new  \n",
       "6      A suitably punishing roguelike platformer.  Wi...  1900-02-03  \n",
       "27                                         ZIKA DO BAILE  1900-05-20  \n",
       "28                         BEST GAME IN THE BLOODY WORLD  1900-07-24  \n",
       "31                                               love it  1900-06-16  \n",
       "32                                                mt bom  1900-06-11  \n",
       "...                                                  ...         ...  \n",
       "59300  a must have classic from steam definitely wort...  1900-07-10  \n",
       "59301  this game is a perfect remake of the original ...  1900-07-08  \n",
       "59302  had so much fun plaing this and collecting res...  1900-07-03  \n",
       "59303                                                 :D  1900-07-20  \n",
       "59304                                     so much fun :D  1900-07-02  \n",
       "\n",
       "[10119 rows x 6 columns]"
      ]
     },
     "execution_count": 91,
     "metadata": {},
     "output_type": "execute_result"
    }
   ],
   "source": [
    "df_user_reviews[df_user_reviews['posted_new'].str.contains('1900')]"
   ]
  },
  {
   "cell_type": "markdown",
   "metadata": {},
   "source": [
    "Se pudo ver que las fechas, luego de aplicar el drop de registros sin recommend y sin revew, vienen siempre informadas. Pero hay un defecto. Hay fechas sin año, es decir, viene solo mes y dia.\n",
    "\n",
    "==> Imputamos como año de Posteo el correspondiente a La fecha de Lanzamiento del Contenido:"
   ]
  },
  {
   "cell_type": "code",
   "execution_count": 92,
   "metadata": {},
   "outputs": [
    {
     "data": {
      "text/html": [
       "<div>\n",
       "<style scoped>\n",
       "    .dataframe tbody tr th:only-of-type {\n",
       "        vertical-align: middle;\n",
       "    }\n",
       "\n",
       "    .dataframe tbody tr th {\n",
       "        vertical-align: top;\n",
       "    }\n",
       "\n",
       "    .dataframe thead th {\n",
       "        text-align: right;\n",
       "    }\n",
       "</style>\n",
       "<table border=\"1\" class=\"dataframe\">\n",
       "  <thead>\n",
       "    <tr style=\"text-align: right;\">\n",
       "      <th></th>\n",
       "      <th>user_id</th>\n",
       "      <th>posted</th>\n",
       "      <th>item_id</th>\n",
       "      <th>recommend</th>\n",
       "      <th>review</th>\n",
       "      <th>posted_new</th>\n",
       "    </tr>\n",
       "  </thead>\n",
       "  <tbody>\n",
       "    <tr>\n",
       "      <th>6</th>\n",
       "      <td>evcentric</td>\n",
       "      <td>February 3</td>\n",
       "      <td>248820</td>\n",
       "      <td>True</td>\n",
       "      <td>A suitably punishing roguelike platformer.  Wi...</td>\n",
       "      <td>1900-02-03</td>\n",
       "    </tr>\n",
       "    <tr>\n",
       "      <th>27</th>\n",
       "      <td>76561198079601835</td>\n",
       "      <td>May 20</td>\n",
       "      <td>730</td>\n",
       "      <td>True</td>\n",
       "      <td>ZIKA DO BAILE</td>\n",
       "      <td>1900-05-20</td>\n",
       "    </tr>\n",
       "    <tr>\n",
       "      <th>28</th>\n",
       "      <td>MeaTCompany</td>\n",
       "      <td>July 24</td>\n",
       "      <td>730</td>\n",
       "      <td>True</td>\n",
       "      <td>BEST GAME IN THE BLOODY WORLD</td>\n",
       "      <td>1900-07-24</td>\n",
       "    </tr>\n",
       "    <tr>\n",
       "      <th>31</th>\n",
       "      <td>76561198156664158</td>\n",
       "      <td>June 16</td>\n",
       "      <td>252950</td>\n",
       "      <td>True</td>\n",
       "      <td>love it</td>\n",
       "      <td>1900-06-16</td>\n",
       "    </tr>\n",
       "    <tr>\n",
       "      <th>32</th>\n",
       "      <td>76561198077246154</td>\n",
       "      <td>June 11</td>\n",
       "      <td>440</td>\n",
       "      <td>True</td>\n",
       "      <td>mt bom</td>\n",
       "      <td>1900-06-11</td>\n",
       "    </tr>\n",
       "    <tr>\n",
       "      <th>54</th>\n",
       "      <td>Fr0stedLine</td>\n",
       "      <td>February 27</td>\n",
       "      <td>220</td>\n",
       "      <td>True</td>\n",
       "      <td>Hermoso juego que nunca olvidare &lt;3</td>\n",
       "      <td>1900-02-27</td>\n",
       "    </tr>\n",
       "    <tr>\n",
       "      <th>56</th>\n",
       "      <td>starkillershadow553</td>\n",
       "      <td>August 23</td>\n",
       "      <td>242130</td>\n",
       "      <td>True</td>\n",
       "      <td>If you're looking for a no frills, Arcade/Simu...</td>\n",
       "      <td>1900-08-23</td>\n",
       "    </tr>\n",
       "    <tr>\n",
       "      <th>60</th>\n",
       "      <td>76561198048353577</td>\n",
       "      <td>May 16</td>\n",
       "      <td>4000</td>\n",
       "      <td>True</td>\n",
       "      <td>Top Quality. Star Wars RP is the bomb.</td>\n",
       "      <td>1900-05-16</td>\n",
       "    </tr>\n",
       "    <tr>\n",
       "      <th>65</th>\n",
       "      <td>76561198070565427</td>\n",
       "      <td>March 31</td>\n",
       "      <td>218620</td>\n",
       "      <td>True</td>\n",
       "      <td>ผมว่าคุ้มที่สุดเเห่งเกมที่ผมเล่นมาผมน่าจะเจอเก...</td>\n",
       "      <td>1900-03-31</td>\n",
       "    </tr>\n",
       "    <tr>\n",
       "      <th>74</th>\n",
       "      <td>Leaf_Light_Moscow</td>\n",
       "      <td>July 9</td>\n",
       "      <td>323370</td>\n",
       "      <td>True</td>\n",
       "      <td>Just amazing</td>\n",
       "      <td>1900-07-09</td>\n",
       "    </tr>\n",
       "  </tbody>\n",
       "</table>\n",
       "</div>"
      ],
      "text/plain": [
       "                user_id       posted item_id recommend  \\\n",
       "6             evcentric   February 3  248820      True   \n",
       "27    76561198079601835       May 20     730      True   \n",
       "28          MeaTCompany      July 24     730      True   \n",
       "31    76561198156664158      June 16  252950      True   \n",
       "32    76561198077246154      June 11     440      True   \n",
       "54          Fr0stedLine  February 27     220      True   \n",
       "56  starkillershadow553    August 23  242130      True   \n",
       "60    76561198048353577       May 16    4000      True   \n",
       "65    76561198070565427     March 31  218620      True   \n",
       "74    Leaf_Light_Moscow       July 9  323370      True   \n",
       "\n",
       "                                               review  posted_new  \n",
       "6   A suitably punishing roguelike platformer.  Wi...  1900-02-03  \n",
       "27                                      ZIKA DO BAILE  1900-05-20  \n",
       "28                      BEST GAME IN THE BLOODY WORLD  1900-07-24  \n",
       "31                                            love it  1900-06-16  \n",
       "32                                             mt bom  1900-06-11  \n",
       "54                Hermoso juego que nunca olvidare <3  1900-02-27  \n",
       "56  If you're looking for a no frills, Arcade/Simu...  1900-08-23  \n",
       "60             Top Quality. Star Wars RP is the bomb.  1900-05-16  \n",
       "65  ผมว่าคุ้มที่สุดเเห่งเกมที่ผมเล่นมาผมน่าจะเจอเก...  1900-03-31  \n",
       "74                                       Just amazing  1900-07-09  "
      ]
     },
     "execution_count": 92,
     "metadata": {},
     "output_type": "execute_result"
    }
   ],
   "source": [
    "# Creamos series booleanas para buscar las fechas con año 1900 pero que no tengan dia y mes 01.\n",
    "#Si tiene año 1900 y no es 01 el dia y mes, quiere decir que es una feha que vino informada SIN año. En ese caso imputamos año de lantamiento si es que lo tenemos. Sino DEFAULT_DATE.\n",
    "es_1900  = df_user_reviews['posted_new'].str[:4] == \"1900\"\n",
    "no_es_01 = df_user_reviews['posted_new'].str[4:9] != \"01-01\"\n",
    "# Combina las condiciones\n",
    "es_1900_y_no_es_01 = es_1900 & no_es_01\n",
    "# Filtra el DataFrame para obtener las filas que cumplen con las condiciones\n",
    "df_user_reviews[es_1900_y_no_es_01].head(10)"
   ]
  },
  {
   "cell_type": "code",
   "execution_count": 93,
   "metadata": {},
   "outputs": [
    {
     "data": {
      "text/html": [
       "<div>\n",
       "<style scoped>\n",
       "    .dataframe tbody tr th:only-of-type {\n",
       "        vertical-align: middle;\n",
       "    }\n",
       "\n",
       "    .dataframe tbody tr th {\n",
       "        vertical-align: top;\n",
       "    }\n",
       "\n",
       "    .dataframe thead th {\n",
       "        text-align: right;\n",
       "    }\n",
       "</style>\n",
       "<table border=\"1\" class=\"dataframe\">\n",
       "  <thead>\n",
       "    <tr style=\"text-align: right;\">\n",
       "      <th></th>\n",
       "      <th>user_id</th>\n",
       "      <th>posted</th>\n",
       "      <th>item_id</th>\n",
       "      <th>recommend</th>\n",
       "      <th>review</th>\n",
       "      <th>posted_new</th>\n",
       "    </tr>\n",
       "  </thead>\n",
       "  <tbody>\n",
       "    <tr>\n",
       "      <th>6</th>\n",
       "      <td>evcentric</td>\n",
       "      <td>February 3</td>\n",
       "      <td>248820</td>\n",
       "      <td>True</td>\n",
       "      <td>A suitably punishing roguelike platformer.  Wi...</td>\n",
       "      <td>1900-02-03</td>\n",
       "    </tr>\n",
       "  </tbody>\n",
       "</table>\n",
       "</div>"
      ],
      "text/plain": [
       "     user_id      posted item_id recommend  \\\n",
       "6  evcentric  February 3  248820      True   \n",
       "\n",
       "                                              review  posted_new  \n",
       "6  A suitably punishing roguelike platformer.  Wi...  1900-02-03  "
      ]
     },
     "execution_count": 93,
     "metadata": {},
     "output_type": "execute_result"
    }
   ],
   "source": [
    "#comprobacion de un caso puntual con DEFAULT\n",
    "df_user_reviews[(df_user_reviews['item_id'] == '248820') & (df_user_reviews['user_id'] == 'evcentric')]"
   ]
  },
  {
   "cell_type": "code",
   "execution_count": 94,
   "metadata": {},
   "outputs": [
    {
     "data": {
      "text/plain": [
       "10119"
      ]
     },
     "execution_count": 94,
     "metadata": {},
     "output_type": "execute_result"
    }
   ],
   "source": [
    "#Vemos cuantos casos de estos tenemos en nuestro data frame\n",
    "df_user_reviews[es_1900_y_no_es_01].shape[0]"
   ]
  },
  {
   "cell_type": "code",
   "execution_count": 95,
   "metadata": {},
   "outputs": [],
   "source": [
    "#Reseteamos indices\n",
    "df_user_reviews.reset_index(drop=True, inplace=True)"
   ]
  },
  {
   "cell_type": "code",
   "execution_count": 96,
   "metadata": {},
   "outputs": [],
   "source": [
    "df_user_reviews_filtrado = df_user_reviews[es_1900_y_no_es_01]\n",
    "\n",
    "# Para cada registro en los registros filtrados\n",
    "for indice, fila in df_user_reviews_filtrado.iterrows():\n",
    "    item_id = fila['item_id']  # Obtiene el valor de 'item_id' de df_user_reviews\n",
    "    \n",
    "    # Busca las coincidencias para item_id en df_output_steam_json\n",
    "    coincidencias = df_output_steam_json[df_output_steam_json['item_id'] == item_id]\n",
    "    \n",
    "    # Verifica si se encontraron coincidencias antes de intentar acceder al valor\n",
    "    if not coincidencias.empty:\n",
    "        # Obtén el primer valor de 'release_date' en las coincidencias\n",
    "        anio_release = coincidencias['release_date'].str[:4].values[0]\n",
    "        # Actualiza solo los primeros 4 caracteres de 'posted_new' en df_user_reviews\n",
    "        df_user_reviews.at[indice, 'posted_new'] = anio_release + df_user_reviews.at[indice, 'posted_new'][4:]"
   ]
  },
  {
   "cell_type": "code",
   "execution_count": 97,
   "metadata": {},
   "outputs": [
    {
     "data": {
      "text/html": [
       "<div>\n",
       "<style scoped>\n",
       "    .dataframe tbody tr th:only-of-type {\n",
       "        vertical-align: middle;\n",
       "    }\n",
       "\n",
       "    .dataframe tbody tr th {\n",
       "        vertical-align: top;\n",
       "    }\n",
       "\n",
       "    .dataframe thead th {\n",
       "        text-align: right;\n",
       "    }\n",
       "</style>\n",
       "<table border=\"1\" class=\"dataframe\">\n",
       "  <thead>\n",
       "    <tr style=\"text-align: right;\">\n",
       "      <th></th>\n",
       "      <th>user_id</th>\n",
       "      <th>posted</th>\n",
       "      <th>item_id</th>\n",
       "      <th>recommend</th>\n",
       "      <th>review</th>\n",
       "      <th>posted_new</th>\n",
       "    </tr>\n",
       "  </thead>\n",
       "  <tbody>\n",
       "    <tr>\n",
       "      <th>6</th>\n",
       "      <td>evcentric</td>\n",
       "      <td>February 3</td>\n",
       "      <td>248820</td>\n",
       "      <td>True</td>\n",
       "      <td>A suitably punishing roguelike platformer.  Wi...</td>\n",
       "      <td>1900-02-03</td>\n",
       "    </tr>\n",
       "    <tr>\n",
       "      <th>27</th>\n",
       "      <td>76561198079601835</td>\n",
       "      <td>May 20</td>\n",
       "      <td>730</td>\n",
       "      <td>True</td>\n",
       "      <td>ZIKA DO BAILE</td>\n",
       "      <td>1900-05-20</td>\n",
       "    </tr>\n",
       "    <tr>\n",
       "      <th>28</th>\n",
       "      <td>MeaTCompany</td>\n",
       "      <td>July 24</td>\n",
       "      <td>730</td>\n",
       "      <td>True</td>\n",
       "      <td>BEST GAME IN THE BLOODY WORLD</td>\n",
       "      <td>1900-07-24</td>\n",
       "    </tr>\n",
       "    <tr>\n",
       "      <th>31</th>\n",
       "      <td>76561198156664158</td>\n",
       "      <td>June 16</td>\n",
       "      <td>252950</td>\n",
       "      <td>True</td>\n",
       "      <td>love it</td>\n",
       "      <td>1900-06-16</td>\n",
       "    </tr>\n",
       "    <tr>\n",
       "      <th>32</th>\n",
       "      <td>76561198077246154</td>\n",
       "      <td>June 11</td>\n",
       "      <td>440</td>\n",
       "      <td>True</td>\n",
       "      <td>mt bom</td>\n",
       "      <td>1900-06-11</td>\n",
       "    </tr>\n",
       "    <tr>\n",
       "      <th>54</th>\n",
       "      <td>Fr0stedLine</td>\n",
       "      <td>February 27</td>\n",
       "      <td>220</td>\n",
       "      <td>True</td>\n",
       "      <td>Hermoso juego que nunca olvidare &lt;3</td>\n",
       "      <td>1900-02-27</td>\n",
       "    </tr>\n",
       "    <tr>\n",
       "      <th>56</th>\n",
       "      <td>starkillershadow553</td>\n",
       "      <td>August 23</td>\n",
       "      <td>242130</td>\n",
       "      <td>True</td>\n",
       "      <td>If you're looking for a no frills, Arcade/Simu...</td>\n",
       "      <td>1900-08-23</td>\n",
       "    </tr>\n",
       "    <tr>\n",
       "      <th>60</th>\n",
       "      <td>76561198048353577</td>\n",
       "      <td>May 16</td>\n",
       "      <td>4000</td>\n",
       "      <td>True</td>\n",
       "      <td>Top Quality. Star Wars RP is the bomb.</td>\n",
       "      <td>1900-05-16</td>\n",
       "    </tr>\n",
       "    <tr>\n",
       "      <th>65</th>\n",
       "      <td>76561198070565427</td>\n",
       "      <td>March 31</td>\n",
       "      <td>218620</td>\n",
       "      <td>True</td>\n",
       "      <td>ผมว่าคุ้มที่สุดเเห่งเกมที่ผมเล่นมาผมน่าจะเจอเก...</td>\n",
       "      <td>1900-03-31</td>\n",
       "    </tr>\n",
       "    <tr>\n",
       "      <th>74</th>\n",
       "      <td>Leaf_Light_Moscow</td>\n",
       "      <td>July 9</td>\n",
       "      <td>323370</td>\n",
       "      <td>True</td>\n",
       "      <td>Just amazing</td>\n",
       "      <td>1900-07-09</td>\n",
       "    </tr>\n",
       "  </tbody>\n",
       "</table>\n",
       "</div>"
      ],
      "text/plain": [
       "                user_id       posted item_id recommend  \\\n",
       "6             evcentric   February 3  248820      True   \n",
       "27    76561198079601835       May 20     730      True   \n",
       "28          MeaTCompany      July 24     730      True   \n",
       "31    76561198156664158      June 16  252950      True   \n",
       "32    76561198077246154      June 11     440      True   \n",
       "54          Fr0stedLine  February 27     220      True   \n",
       "56  starkillershadow553    August 23  242130      True   \n",
       "60    76561198048353577       May 16    4000      True   \n",
       "65    76561198070565427     March 31  218620      True   \n",
       "74    Leaf_Light_Moscow       July 9  323370      True   \n",
       "\n",
       "                                               review  posted_new  \n",
       "6   A suitably punishing roguelike platformer.  Wi...  1900-02-03  \n",
       "27                                      ZIKA DO BAILE  1900-05-20  \n",
       "28                      BEST GAME IN THE BLOODY WORLD  1900-07-24  \n",
       "31                                            love it  1900-06-16  \n",
       "32                                             mt bom  1900-06-11  \n",
       "54                Hermoso juego que nunca olvidare <3  1900-02-27  \n",
       "56  If you're looking for a no frills, Arcade/Simu...  1900-08-23  \n",
       "60             Top Quality. Star Wars RP is the bomb.  1900-05-16  \n",
       "65  ผมว่าคุ้มที่สุดเเห่งเกมที่ผมเล่นมาผมน่าจะเจอเก...  1900-03-31  \n",
       "74                                       Just amazing  1900-07-09  "
      ]
     },
     "execution_count": 97,
     "metadata": {},
     "output_type": "execute_result"
    }
   ],
   "source": [
    "df_user_reviews[es_1900_y_no_es_01].head(10)"
   ]
  },
  {
   "cell_type": "code",
   "execution_count": 98,
   "metadata": {},
   "outputs": [
    {
     "data": {
      "text/html": [
       "<div>\n",
       "<style scoped>\n",
       "    .dataframe tbody tr th:only-of-type {\n",
       "        vertical-align: middle;\n",
       "    }\n",
       "\n",
       "    .dataframe tbody tr th {\n",
       "        vertical-align: top;\n",
       "    }\n",
       "\n",
       "    .dataframe thead th {\n",
       "        text-align: right;\n",
       "    }\n",
       "</style>\n",
       "<table border=\"1\" class=\"dataframe\">\n",
       "  <thead>\n",
       "    <tr style=\"text-align: right;\">\n",
       "      <th></th>\n",
       "      <th>item_id</th>\n",
       "      <th>genres</th>\n",
       "      <th>release_date</th>\n",
       "      <th>price</th>\n",
       "      <th>developer</th>\n",
       "      <th>year</th>\n",
       "    </tr>\n",
       "  </thead>\n",
       "  <tbody>\n",
       "    <tr>\n",
       "      <th>30067</th>\n",
       "      <td>218620</td>\n",
       "      <td>Desconocido</td>\n",
       "      <td>1900-01-01</td>\n",
       "      <td>4.99</td>\n",
       "      <td>Desconocido</td>\n",
       "      <td>1900</td>\n",
       "    </tr>\n",
       "  </tbody>\n",
       "</table>\n",
       "</div>"
      ],
      "text/plain": [
       "       item_id       genres release_date  price    developer  year\n",
       "30067   218620  Desconocido   1900-01-01   4.99  Desconocido  1900"
      ]
     },
     "execution_count": 98,
     "metadata": {},
     "output_type": "execute_result"
    }
   ],
   "source": [
    "#comprobacion de un caso puntual con DEFAULT\n",
    "df_output_steam_json[df_output_steam_json['item_id'] == 218620]"
   ]
  },
  {
   "cell_type": "markdown",
   "metadata": {},
   "source": [
    "Ahora solo aplicamos DEFAULT_DATE para aquellas fechas de posteo que aun tengan año 1900"
   ]
  },
  {
   "cell_type": "code",
   "execution_count": 99,
   "metadata": {},
   "outputs": [
    {
     "data": {
      "text/html": [
       "<div>\n",
       "<style scoped>\n",
       "    .dataframe tbody tr th:only-of-type {\n",
       "        vertical-align: middle;\n",
       "    }\n",
       "\n",
       "    .dataframe tbody tr th {\n",
       "        vertical-align: top;\n",
       "    }\n",
       "\n",
       "    .dataframe thead th {\n",
       "        text-align: right;\n",
       "    }\n",
       "</style>\n",
       "<table border=\"1\" class=\"dataframe\">\n",
       "  <thead>\n",
       "    <tr style=\"text-align: right;\">\n",
       "      <th></th>\n",
       "      <th>user_id</th>\n",
       "      <th>posted</th>\n",
       "      <th>item_id</th>\n",
       "      <th>recommend</th>\n",
       "      <th>review</th>\n",
       "      <th>posted_new</th>\n",
       "    </tr>\n",
       "  </thead>\n",
       "  <tbody>\n",
       "    <tr>\n",
       "      <th>6</th>\n",
       "      <td>evcentric</td>\n",
       "      <td>February 3</td>\n",
       "      <td>248820</td>\n",
       "      <td>True</td>\n",
       "      <td>A suitably punishing roguelike platformer.  Wi...</td>\n",
       "      <td>1900-02-03</td>\n",
       "    </tr>\n",
       "    <tr>\n",
       "      <th>27</th>\n",
       "      <td>76561198079601835</td>\n",
       "      <td>May 20</td>\n",
       "      <td>730</td>\n",
       "      <td>True</td>\n",
       "      <td>ZIKA DO BAILE</td>\n",
       "      <td>1900-05-20</td>\n",
       "    </tr>\n",
       "    <tr>\n",
       "      <th>28</th>\n",
       "      <td>MeaTCompany</td>\n",
       "      <td>July 24</td>\n",
       "      <td>730</td>\n",
       "      <td>True</td>\n",
       "      <td>BEST GAME IN THE BLOODY WORLD</td>\n",
       "      <td>1900-07-24</td>\n",
       "    </tr>\n",
       "    <tr>\n",
       "      <th>31</th>\n",
       "      <td>76561198156664158</td>\n",
       "      <td>June 16</td>\n",
       "      <td>252950</td>\n",
       "      <td>True</td>\n",
       "      <td>love it</td>\n",
       "      <td>1900-06-16</td>\n",
       "    </tr>\n",
       "    <tr>\n",
       "      <th>32</th>\n",
       "      <td>76561198077246154</td>\n",
       "      <td>June 11</td>\n",
       "      <td>440</td>\n",
       "      <td>True</td>\n",
       "      <td>mt bom</td>\n",
       "      <td>1900-06-11</td>\n",
       "    </tr>\n",
       "    <tr>\n",
       "      <th>54</th>\n",
       "      <td>Fr0stedLine</td>\n",
       "      <td>February 27</td>\n",
       "      <td>220</td>\n",
       "      <td>True</td>\n",
       "      <td>Hermoso juego que nunca olvidare &lt;3</td>\n",
       "      <td>1900-02-27</td>\n",
       "    </tr>\n",
       "    <tr>\n",
       "      <th>56</th>\n",
       "      <td>starkillershadow553</td>\n",
       "      <td>August 23</td>\n",
       "      <td>242130</td>\n",
       "      <td>True</td>\n",
       "      <td>If you're looking for a no frills, Arcade/Simu...</td>\n",
       "      <td>1900-08-23</td>\n",
       "    </tr>\n",
       "    <tr>\n",
       "      <th>60</th>\n",
       "      <td>76561198048353577</td>\n",
       "      <td>May 16</td>\n",
       "      <td>4000</td>\n",
       "      <td>True</td>\n",
       "      <td>Top Quality. Star Wars RP is the bomb.</td>\n",
       "      <td>1900-05-16</td>\n",
       "    </tr>\n",
       "    <tr>\n",
       "      <th>65</th>\n",
       "      <td>76561198070565427</td>\n",
       "      <td>March 31</td>\n",
       "      <td>218620</td>\n",
       "      <td>True</td>\n",
       "      <td>ผมว่าคุ้มที่สุดเเห่งเกมที่ผมเล่นมาผมน่าจะเจอเก...</td>\n",
       "      <td>1900-03-31</td>\n",
       "    </tr>\n",
       "    <tr>\n",
       "      <th>74</th>\n",
       "      <td>Leaf_Light_Moscow</td>\n",
       "      <td>July 9</td>\n",
       "      <td>323370</td>\n",
       "      <td>True</td>\n",
       "      <td>Just amazing</td>\n",
       "      <td>1900-07-09</td>\n",
       "    </tr>\n",
       "  </tbody>\n",
       "</table>\n",
       "</div>"
      ],
      "text/plain": [
       "                user_id       posted item_id recommend  \\\n",
       "6             evcentric   February 3  248820      True   \n",
       "27    76561198079601835       May 20     730      True   \n",
       "28          MeaTCompany      July 24     730      True   \n",
       "31    76561198156664158      June 16  252950      True   \n",
       "32    76561198077246154      June 11     440      True   \n",
       "54          Fr0stedLine  February 27     220      True   \n",
       "56  starkillershadow553    August 23  242130      True   \n",
       "60    76561198048353577       May 16    4000      True   \n",
       "65    76561198070565427     March 31  218620      True   \n",
       "74    Leaf_Light_Moscow       July 9  323370      True   \n",
       "\n",
       "                                               review  posted_new  \n",
       "6   A suitably punishing roguelike platformer.  Wi...  1900-02-03  \n",
       "27                                      ZIKA DO BAILE  1900-05-20  \n",
       "28                      BEST GAME IN THE BLOODY WORLD  1900-07-24  \n",
       "31                                            love it  1900-06-16  \n",
       "32                                             mt bom  1900-06-11  \n",
       "54                Hermoso juego que nunca olvidare <3  1900-02-27  \n",
       "56  If you're looking for a no frills, Arcade/Simu...  1900-08-23  \n",
       "60             Top Quality. Star Wars RP is the bomb.  1900-05-16  \n",
       "65  ผมว่าคุ้มที่สุดเเห่งเกมที่ผมเล่นมาผมน่าจะเจอเก...  1900-03-31  \n",
       "74                                       Just amazing  1900-07-09  "
      ]
     },
     "execution_count": 99,
     "metadata": {},
     "output_type": "execute_result"
    }
   ],
   "source": [
    "# Filtra el DataFrame para obtener las filas que cumplen con las condiciones\n",
    "es_1900  = df_user_reviews['posted_new'].str[:4] == \"1900\"\n",
    "df_user_reviews[es_1900].head(10)"
   ]
  },
  {
   "cell_type": "code",
   "execution_count": 100,
   "metadata": {},
   "outputs": [
    {
     "data": {
      "text/html": [
       "<div>\n",
       "<style scoped>\n",
       "    .dataframe tbody tr th:only-of-type {\n",
       "        vertical-align: middle;\n",
       "    }\n",
       "\n",
       "    .dataframe tbody tr th {\n",
       "        vertical-align: top;\n",
       "    }\n",
       "\n",
       "    .dataframe thead th {\n",
       "        text-align: right;\n",
       "    }\n",
       "</style>\n",
       "<table border=\"1\" class=\"dataframe\">\n",
       "  <thead>\n",
       "    <tr style=\"text-align: right;\">\n",
       "      <th></th>\n",
       "      <th>item_id</th>\n",
       "      <th>genres</th>\n",
       "      <th>release_date</th>\n",
       "      <th>price</th>\n",
       "      <th>developer</th>\n",
       "      <th>year</th>\n",
       "    </tr>\n",
       "  </thead>\n",
       "  <tbody>\n",
       "  </tbody>\n",
       "</table>\n",
       "</div>"
      ],
      "text/plain": [
       "Empty DataFrame\n",
       "Columns: [item_id, genres, release_date, price, developer, year]\n",
       "Index: []"
      ]
     },
     "execution_count": 100,
     "metadata": {},
     "output_type": "execute_result"
    }
   ],
   "source": [
    "#validacion de caso puntual item_id = 271290\n",
    "#Como no se encontro en el df, no actualizo el año\n",
    "df_output_steam_json[df_output_steam_json['item_id'] == 271290]"
   ]
  },
  {
   "cell_type": "code",
   "execution_count": 101,
   "metadata": {},
   "outputs": [],
   "source": [
    "#imputamos DEFAULT_DATE en estos casos\n",
    "\n",
    "# Filtro para identificar los registros que cumplen con es_1900\n",
    "registros_es_1900 = df_user_reviews[es_1900]\n",
    "\n",
    "# Modificar la columna 'posted_new' en los registros filtrados\n",
    "registros_es_1900.loc[:, 'posted_new'] = DEFAULT_DATE\n",
    "\n",
    "# Actualizar df_user_reviews con los cambios\n",
    "df_user_reviews.update(registros_es_1900)"
   ]
  },
  {
   "cell_type": "code",
   "execution_count": 102,
   "metadata": {},
   "outputs": [
    {
     "data": {
      "text/html": [
       "<div>\n",
       "<style scoped>\n",
       "    .dataframe tbody tr th:only-of-type {\n",
       "        vertical-align: middle;\n",
       "    }\n",
       "\n",
       "    .dataframe tbody tr th {\n",
       "        vertical-align: top;\n",
       "    }\n",
       "\n",
       "    .dataframe thead th {\n",
       "        text-align: right;\n",
       "    }\n",
       "</style>\n",
       "<table border=\"1\" class=\"dataframe\">\n",
       "  <thead>\n",
       "    <tr style=\"text-align: right;\">\n",
       "      <th></th>\n",
       "      <th>user_id</th>\n",
       "      <th>posted</th>\n",
       "      <th>item_id</th>\n",
       "      <th>recommend</th>\n",
       "      <th>review</th>\n",
       "      <th>posted_new</th>\n",
       "    </tr>\n",
       "  </thead>\n",
       "  <tbody>\n",
       "    <tr>\n",
       "      <th>6</th>\n",
       "      <td>evcentric</td>\n",
       "      <td>February 3</td>\n",
       "      <td>248820</td>\n",
       "      <td>True</td>\n",
       "      <td>A suitably punishing roguelike platformer.  Wi...</td>\n",
       "      <td>1900-01-01</td>\n",
       "    </tr>\n",
       "    <tr>\n",
       "      <th>27</th>\n",
       "      <td>76561198079601835</td>\n",
       "      <td>May 20</td>\n",
       "      <td>730</td>\n",
       "      <td>True</td>\n",
       "      <td>ZIKA DO BAILE</td>\n",
       "      <td>1900-01-01</td>\n",
       "    </tr>\n",
       "    <tr>\n",
       "      <th>28</th>\n",
       "      <td>MeaTCompany</td>\n",
       "      <td>July 24</td>\n",
       "      <td>730</td>\n",
       "      <td>True</td>\n",
       "      <td>BEST GAME IN THE BLOODY WORLD</td>\n",
       "      <td>1900-01-01</td>\n",
       "    </tr>\n",
       "    <tr>\n",
       "      <th>31</th>\n",
       "      <td>76561198156664158</td>\n",
       "      <td>June 16</td>\n",
       "      <td>252950</td>\n",
       "      <td>True</td>\n",
       "      <td>love it</td>\n",
       "      <td>1900-01-01</td>\n",
       "    </tr>\n",
       "    <tr>\n",
       "      <th>32</th>\n",
       "      <td>76561198077246154</td>\n",
       "      <td>June 11</td>\n",
       "      <td>440</td>\n",
       "      <td>True</td>\n",
       "      <td>mt bom</td>\n",
       "      <td>1900-01-01</td>\n",
       "    </tr>\n",
       "    <tr>\n",
       "      <th>54</th>\n",
       "      <td>Fr0stedLine</td>\n",
       "      <td>February 27</td>\n",
       "      <td>220</td>\n",
       "      <td>True</td>\n",
       "      <td>Hermoso juego que nunca olvidare &lt;3</td>\n",
       "      <td>1900-01-01</td>\n",
       "    </tr>\n",
       "    <tr>\n",
       "      <th>56</th>\n",
       "      <td>starkillershadow553</td>\n",
       "      <td>August 23</td>\n",
       "      <td>242130</td>\n",
       "      <td>True</td>\n",
       "      <td>If you're looking for a no frills, Arcade/Simu...</td>\n",
       "      <td>1900-01-01</td>\n",
       "    </tr>\n",
       "    <tr>\n",
       "      <th>60</th>\n",
       "      <td>76561198048353577</td>\n",
       "      <td>May 16</td>\n",
       "      <td>4000</td>\n",
       "      <td>True</td>\n",
       "      <td>Top Quality. Star Wars RP is the bomb.</td>\n",
       "      <td>1900-01-01</td>\n",
       "    </tr>\n",
       "    <tr>\n",
       "      <th>65</th>\n",
       "      <td>76561198070565427</td>\n",
       "      <td>March 31</td>\n",
       "      <td>218620</td>\n",
       "      <td>True</td>\n",
       "      <td>ผมว่าคุ้มที่สุดเเห่งเกมที่ผมเล่นมาผมน่าจะเจอเก...</td>\n",
       "      <td>1900-01-01</td>\n",
       "    </tr>\n",
       "    <tr>\n",
       "      <th>74</th>\n",
       "      <td>Leaf_Light_Moscow</td>\n",
       "      <td>July 9</td>\n",
       "      <td>323370</td>\n",
       "      <td>True</td>\n",
       "      <td>Just amazing</td>\n",
       "      <td>1900-01-01</td>\n",
       "    </tr>\n",
       "  </tbody>\n",
       "</table>\n",
       "</div>"
      ],
      "text/plain": [
       "                user_id       posted item_id recommend  \\\n",
       "6             evcentric   February 3  248820      True   \n",
       "27    76561198079601835       May 20     730      True   \n",
       "28          MeaTCompany      July 24     730      True   \n",
       "31    76561198156664158      June 16  252950      True   \n",
       "32    76561198077246154      June 11     440      True   \n",
       "54          Fr0stedLine  February 27     220      True   \n",
       "56  starkillershadow553    August 23  242130      True   \n",
       "60    76561198048353577       May 16    4000      True   \n",
       "65    76561198070565427     March 31  218620      True   \n",
       "74    Leaf_Light_Moscow       July 9  323370      True   \n",
       "\n",
       "                                               review  posted_new  \n",
       "6   A suitably punishing roguelike platformer.  Wi...  1900-01-01  \n",
       "27                                      ZIKA DO BAILE  1900-01-01  \n",
       "28                      BEST GAME IN THE BLOODY WORLD  1900-01-01  \n",
       "31                                            love it  1900-01-01  \n",
       "32                                             mt bom  1900-01-01  \n",
       "54                Hermoso juego que nunca olvidare <3  1900-01-01  \n",
       "56  If you're looking for a no frills, Arcade/Simu...  1900-01-01  \n",
       "60             Top Quality. Star Wars RP is the bomb.  1900-01-01  \n",
       "65  ผมว่าคุ้มที่สุดเเห่งเกมที่ผมเล่นมาผมน่าจะเจอเก...  1900-01-01  \n",
       "74                                       Just amazing  1900-01-01  "
      ]
     },
     "execution_count": 102,
     "metadata": {},
     "output_type": "execute_result"
    }
   ],
   "source": [
    "df_user_reviews[es_1900].head(10)"
   ]
  },
  {
   "cell_type": "code",
   "execution_count": 103,
   "metadata": {},
   "outputs": [
    {
     "data": {
      "text/html": [
       "<div>\n",
       "<style scoped>\n",
       "    .dataframe tbody tr th:only-of-type {\n",
       "        vertical-align: middle;\n",
       "    }\n",
       "\n",
       "    .dataframe tbody tr th {\n",
       "        vertical-align: top;\n",
       "    }\n",
       "\n",
       "    .dataframe thead th {\n",
       "        text-align: right;\n",
       "    }\n",
       "</style>\n",
       "<table border=\"1\" class=\"dataframe\">\n",
       "  <thead>\n",
       "    <tr style=\"text-align: right;\">\n",
       "      <th></th>\n",
       "      <th>user_id</th>\n",
       "      <th>posted</th>\n",
       "      <th>item_id</th>\n",
       "      <th>recommend</th>\n",
       "      <th>review</th>\n",
       "      <th>posted_new</th>\n",
       "    </tr>\n",
       "  </thead>\n",
       "  <tbody>\n",
       "    <tr>\n",
       "      <th>0</th>\n",
       "      <td>76561197970982479</td>\n",
       "      <td>November 5, 2011</td>\n",
       "      <td>1250</td>\n",
       "      <td>True</td>\n",
       "      <td>Simple yet with great replayability. In my opi...</td>\n",
       "      <td>2011-11-05</td>\n",
       "    </tr>\n",
       "    <tr>\n",
       "      <th>1</th>\n",
       "      <td>76561197970982479</td>\n",
       "      <td>July 15, 2011</td>\n",
       "      <td>22200</td>\n",
       "      <td>True</td>\n",
       "      <td>It's unique and worth a playthrough.</td>\n",
       "      <td>2011-07-15</td>\n",
       "    </tr>\n",
       "    <tr>\n",
       "      <th>2</th>\n",
       "      <td>76561197970982479</td>\n",
       "      <td>April 21, 2011</td>\n",
       "      <td>43110</td>\n",
       "      <td>True</td>\n",
       "      <td>Great atmosphere. The gunplay can be a bit chu...</td>\n",
       "      <td>2011-04-21</td>\n",
       "    </tr>\n",
       "    <tr>\n",
       "      <th>3</th>\n",
       "      <td>js41637</td>\n",
       "      <td>June 24, 2014</td>\n",
       "      <td>251610</td>\n",
       "      <td>True</td>\n",
       "      <td>I know what you think when you see this title ...</td>\n",
       "      <td>2014-06-24</td>\n",
       "    </tr>\n",
       "    <tr>\n",
       "      <th>4</th>\n",
       "      <td>js41637</td>\n",
       "      <td>September 8, 2013</td>\n",
       "      <td>227300</td>\n",
       "      <td>True</td>\n",
       "      <td>For a simple (it's actually not all that simpl...</td>\n",
       "      <td>2013-09-08</td>\n",
       "    </tr>\n",
       "    <tr>\n",
       "      <th>5</th>\n",
       "      <td>js41637</td>\n",
       "      <td>November 29, 2013</td>\n",
       "      <td>239030</td>\n",
       "      <td>True</td>\n",
       "      <td>Very fun little game to play when your bored o...</td>\n",
       "      <td>2013-11-29</td>\n",
       "    </tr>\n",
       "    <tr>\n",
       "      <th>6</th>\n",
       "      <td>evcentric</td>\n",
       "      <td>February 3</td>\n",
       "      <td>248820</td>\n",
       "      <td>True</td>\n",
       "      <td>A suitably punishing roguelike platformer.  Wi...</td>\n",
       "      <td>1900-01-01</td>\n",
       "    </tr>\n",
       "    <tr>\n",
       "      <th>7</th>\n",
       "      <td>evcentric</td>\n",
       "      <td>December 4, 2015</td>\n",
       "      <td>370360</td>\n",
       "      <td>True</td>\n",
       "      <td>\"Run for fun? What the hell kind of fun is that?\"</td>\n",
       "      <td>2015-12-04</td>\n",
       "    </tr>\n",
       "    <tr>\n",
       "      <th>8</th>\n",
       "      <td>evcentric</td>\n",
       "      <td>November 3, 2014</td>\n",
       "      <td>237930</td>\n",
       "      <td>True</td>\n",
       "      <td>Elegant integration of gameplay, story, world ...</td>\n",
       "      <td>2014-11-03</td>\n",
       "    </tr>\n",
       "    <tr>\n",
       "      <th>9</th>\n",
       "      <td>evcentric</td>\n",
       "      <td>October 15, 2014</td>\n",
       "      <td>263360</td>\n",
       "      <td>True</td>\n",
       "      <td>Random drops and random quests, with stat poin...</td>\n",
       "      <td>2014-10-15</td>\n",
       "    </tr>\n",
       "  </tbody>\n",
       "</table>\n",
       "</div>"
      ],
      "text/plain": [
       "             user_id             posted item_id recommend  \\\n",
       "0  76561197970982479   November 5, 2011    1250      True   \n",
       "1  76561197970982479      July 15, 2011   22200      True   \n",
       "2  76561197970982479     April 21, 2011   43110      True   \n",
       "3            js41637      June 24, 2014  251610      True   \n",
       "4            js41637  September 8, 2013  227300      True   \n",
       "5            js41637  November 29, 2013  239030      True   \n",
       "6          evcentric         February 3  248820      True   \n",
       "7          evcentric   December 4, 2015  370360      True   \n",
       "8          evcentric   November 3, 2014  237930      True   \n",
       "9          evcentric   October 15, 2014  263360      True   \n",
       "\n",
       "                                              review  posted_new  \n",
       "0  Simple yet with great replayability. In my opi...  2011-11-05  \n",
       "1               It's unique and worth a playthrough.  2011-07-15  \n",
       "2  Great atmosphere. The gunplay can be a bit chu...  2011-04-21  \n",
       "3  I know what you think when you see this title ...  2014-06-24  \n",
       "4  For a simple (it's actually not all that simpl...  2013-09-08  \n",
       "5  Very fun little game to play when your bored o...  2013-11-29  \n",
       "6  A suitably punishing roguelike platformer.  Wi...  1900-01-01  \n",
       "7  \"Run for fun? What the hell kind of fun is that?\"  2015-12-04  \n",
       "8  Elegant integration of gameplay, story, world ...  2014-11-03  \n",
       "9  Random drops and random quests, with stat poin...  2014-10-15  "
      ]
     },
     "execution_count": 103,
     "metadata": {},
     "output_type": "execute_result"
    }
   ],
   "source": [
    "df_user_reviews.head(10)"
   ]
  },
  {
   "cell_type": "code",
   "execution_count": 104,
   "metadata": {},
   "outputs": [],
   "source": [
    "#Reemplazamos la columna de posted y eliminamos la intermedia\n",
    "df_user_reviews['posted'] = df_user_reviews['posted_new']\n",
    "df_user_reviews.drop('posted_new', axis=1, inplace=True)"
   ]
  },
  {
   "cell_type": "markdown",
   "metadata": {},
   "source": [
    "GENERAMOS COLUMNA YEAR"
   ]
  },
  {
   "cell_type": "code",
   "execution_count": 105,
   "metadata": {},
   "outputs": [],
   "source": [
    "# Extrae el año de la columna 'posted' en df_user_reviews. Esta columna sera util para los endpoints\n",
    "df_user_reviews['year'] = df_user_reviews['posted'].str[:4]\n",
    "# Convertir la columna 'year' a tipo numérico\n",
    "df_user_reviews['year'] = pd.to_numeric(df_user_reviews['year'], errors='coerce')"
   ]
  },
  {
   "cell_type": "markdown",
   "metadata": {},
   "source": [
    ".\n",
    "\n"
   ]
  },
  {
   "cell_type": "markdown",
   "metadata": {},
   "source": [
    "RECOMMEND"
   ]
  },
  {
   "cell_type": "code",
   "execution_count": 106,
   "metadata": {},
   "outputs": [
    {
     "data": {
      "text/plain": [
       "recommend\n",
       "True     52473\n",
       "False     6832\n",
       "Name: count, dtype: int64"
      ]
     },
     "execution_count": 106,
     "metadata": {},
     "output_type": "execute_result"
    }
   ],
   "source": [
    "df_user_reviews['recommend'].value_counts()"
   ]
  },
  {
   "cell_type": "code",
   "execution_count": 107,
   "metadata": {},
   "outputs": [
    {
     "data": {
      "text/plain": [
       "recommend\n",
       "1    52473\n",
       "0     6832\n",
       "Name: count, dtype: int64"
      ]
     },
     "execution_count": 107,
     "metadata": {},
     "output_type": "execute_result"
    }
   ],
   "source": [
    "# Cambiar los valores de True a 1 y False a 0 en la columna 'recommend'\n",
    "df_user_reviews['recommend'] = df_user_reviews['recommend'].astype(int)\n",
    "df_user_reviews['recommend'].value_counts()"
   ]
  },
  {
   "cell_type": "code",
   "execution_count": 108,
   "metadata": {},
   "outputs": [
    {
     "data": {
      "text/html": [
       "<div>\n",
       "<style scoped>\n",
       "    .dataframe tbody tr th:only-of-type {\n",
       "        vertical-align: middle;\n",
       "    }\n",
       "\n",
       "    .dataframe tbody tr th {\n",
       "        vertical-align: top;\n",
       "    }\n",
       "\n",
       "    .dataframe thead th {\n",
       "        text-align: right;\n",
       "    }\n",
       "</style>\n",
       "<table border=\"1\" class=\"dataframe\">\n",
       "  <thead>\n",
       "    <tr style=\"text-align: right;\">\n",
       "      <th></th>\n",
       "      <th>user_id</th>\n",
       "      <th>posted</th>\n",
       "      <th>item_id</th>\n",
       "      <th>recommend</th>\n",
       "      <th>review</th>\n",
       "      <th>year</th>\n",
       "    </tr>\n",
       "  </thead>\n",
       "  <tbody>\n",
       "    <tr>\n",
       "      <th>0</th>\n",
       "      <td>76561197970982479</td>\n",
       "      <td>2011-11-05</td>\n",
       "      <td>1250</td>\n",
       "      <td>1</td>\n",
       "      <td>Simple yet with great replayability. In my opi...</td>\n",
       "      <td>2011</td>\n",
       "    </tr>\n",
       "    <tr>\n",
       "      <th>1</th>\n",
       "      <td>76561197970982479</td>\n",
       "      <td>2011-07-15</td>\n",
       "      <td>22200</td>\n",
       "      <td>1</td>\n",
       "      <td>It's unique and worth a playthrough.</td>\n",
       "      <td>2011</td>\n",
       "    </tr>\n",
       "    <tr>\n",
       "      <th>2</th>\n",
       "      <td>76561197970982479</td>\n",
       "      <td>2011-04-21</td>\n",
       "      <td>43110</td>\n",
       "      <td>1</td>\n",
       "      <td>Great atmosphere. The gunplay can be a bit chu...</td>\n",
       "      <td>2011</td>\n",
       "    </tr>\n",
       "    <tr>\n",
       "      <th>3</th>\n",
       "      <td>js41637</td>\n",
       "      <td>2014-06-24</td>\n",
       "      <td>251610</td>\n",
       "      <td>1</td>\n",
       "      <td>I know what you think when you see this title ...</td>\n",
       "      <td>2014</td>\n",
       "    </tr>\n",
       "    <tr>\n",
       "      <th>4</th>\n",
       "      <td>js41637</td>\n",
       "      <td>2013-09-08</td>\n",
       "      <td>227300</td>\n",
       "      <td>1</td>\n",
       "      <td>For a simple (it's actually not all that simpl...</td>\n",
       "      <td>2013</td>\n",
       "    </tr>\n",
       "    <tr>\n",
       "      <th>5</th>\n",
       "      <td>js41637</td>\n",
       "      <td>2013-11-29</td>\n",
       "      <td>239030</td>\n",
       "      <td>1</td>\n",
       "      <td>Very fun little game to play when your bored o...</td>\n",
       "      <td>2013</td>\n",
       "    </tr>\n",
       "    <tr>\n",
       "      <th>6</th>\n",
       "      <td>evcentric</td>\n",
       "      <td>1900-01-01</td>\n",
       "      <td>248820</td>\n",
       "      <td>1</td>\n",
       "      <td>A suitably punishing roguelike platformer.  Wi...</td>\n",
       "      <td>1900</td>\n",
       "    </tr>\n",
       "    <tr>\n",
       "      <th>7</th>\n",
       "      <td>evcentric</td>\n",
       "      <td>2015-12-04</td>\n",
       "      <td>370360</td>\n",
       "      <td>1</td>\n",
       "      <td>\"Run for fun? What the hell kind of fun is that?\"</td>\n",
       "      <td>2015</td>\n",
       "    </tr>\n",
       "    <tr>\n",
       "      <th>8</th>\n",
       "      <td>evcentric</td>\n",
       "      <td>2014-11-03</td>\n",
       "      <td>237930</td>\n",
       "      <td>1</td>\n",
       "      <td>Elegant integration of gameplay, story, world ...</td>\n",
       "      <td>2014</td>\n",
       "    </tr>\n",
       "    <tr>\n",
       "      <th>9</th>\n",
       "      <td>evcentric</td>\n",
       "      <td>2014-10-15</td>\n",
       "      <td>263360</td>\n",
       "      <td>1</td>\n",
       "      <td>Random drops and random quests, with stat poin...</td>\n",
       "      <td>2014</td>\n",
       "    </tr>\n",
       "  </tbody>\n",
       "</table>\n",
       "</div>"
      ],
      "text/plain": [
       "             user_id      posted item_id  recommend  \\\n",
       "0  76561197970982479  2011-11-05    1250          1   \n",
       "1  76561197970982479  2011-07-15   22200          1   \n",
       "2  76561197970982479  2011-04-21   43110          1   \n",
       "3            js41637  2014-06-24  251610          1   \n",
       "4            js41637  2013-09-08  227300          1   \n",
       "5            js41637  2013-11-29  239030          1   \n",
       "6          evcentric  1900-01-01  248820          1   \n",
       "7          evcentric  2015-12-04  370360          1   \n",
       "8          evcentric  2014-11-03  237930          1   \n",
       "9          evcentric  2014-10-15  263360          1   \n",
       "\n",
       "                                              review  year  \n",
       "0  Simple yet with great replayability. In my opi...  2011  \n",
       "1               It's unique and worth a playthrough.  2011  \n",
       "2  Great atmosphere. The gunplay can be a bit chu...  2011  \n",
       "3  I know what you think when you see this title ...  2014  \n",
       "4  For a simple (it's actually not all that simpl...  2013  \n",
       "5  Very fun little game to play when your bored o...  2013  \n",
       "6  A suitably punishing roguelike platformer.  Wi...  1900  \n",
       "7  \"Run for fun? What the hell kind of fun is that?\"  2015  \n",
       "8  Elegant integration of gameplay, story, world ...  2014  \n",
       "9  Random drops and random quests, with stat poin...  2014  "
      ]
     },
     "execution_count": 108,
     "metadata": {},
     "output_type": "execute_result"
    }
   ],
   "source": [
    "df_user_reviews.head(10)"
   ]
  },
  {
   "cell_type": "code",
   "execution_count": 109,
   "metadata": {},
   "outputs": [
    {
     "name": "stdout",
     "output_type": "stream",
     "text": [
      "<class 'pandas.core.frame.DataFrame'>\n",
      "RangeIndex: 59305 entries, 0 to 59304\n",
      "Data columns (total 6 columns):\n",
      " #   Column     Non-Null Count  Dtype \n",
      "---  ------     --------------  ----- \n",
      " 0   user_id    59305 non-null  object\n",
      " 1   posted     59305 non-null  object\n",
      " 2   item_id    59305 non-null  object\n",
      " 3   recommend  59305 non-null  int32 \n",
      " 4   review     59305 non-null  object\n",
      " 5   year       59305 non-null  int64 \n",
      "dtypes: int32(1), int64(1), object(4)\n",
      "memory usage: 2.5+ MB\n"
     ]
    }
   ],
   "source": [
    "#Volvemos a confirmar que no tenemos NULOS\n",
    "df_user_reviews.info()"
   ]
  },
  {
   "cell_type": "markdown",
   "metadata": {},
   "source": [
    "ITEM-ID"
   ]
  },
  {
   "cell_type": "code",
   "execution_count": 110,
   "metadata": {},
   "outputs": [],
   "source": [
    "#Convertimos a int\n",
    "df_user_reviews['item_id'] = df_user_reviews['item_id'].astype(int)"
   ]
  },
  {
   "cell_type": "markdown",
   "metadata": {},
   "source": [
    ".\n",
    "\n",
    ".\n",
    "\n",
    "."
   ]
  },
  {
   "cell_type": "markdown",
   "metadata": {},
   "source": [
    "# ANALISIS DE SENTIMIENTO"
   ]
  },
  {
   "cell_type": "markdown",
   "metadata": {},
   "source": [
    "Libreria Usada: Text Blob"
   ]
  },
  {
   "cell_type": "code",
   "execution_count": 111,
   "metadata": {},
   "outputs": [
    {
     "data": {
      "text/html": [
       "<div>\n",
       "<style scoped>\n",
       "    .dataframe tbody tr th:only-of-type {\n",
       "        vertical-align: middle;\n",
       "    }\n",
       "\n",
       "    .dataframe tbody tr th {\n",
       "        vertical-align: top;\n",
       "    }\n",
       "\n",
       "    .dataframe thead th {\n",
       "        text-align: right;\n",
       "    }\n",
       "</style>\n",
       "<table border=\"1\" class=\"dataframe\">\n",
       "  <thead>\n",
       "    <tr style=\"text-align: right;\">\n",
       "      <th></th>\n",
       "      <th>user_id</th>\n",
       "      <th>posted</th>\n",
       "      <th>item_id</th>\n",
       "      <th>recommend</th>\n",
       "      <th>review</th>\n",
       "      <th>year</th>\n",
       "      <th>sentiment_analysis</th>\n",
       "    </tr>\n",
       "  </thead>\n",
       "  <tbody>\n",
       "    <tr>\n",
       "      <th>0</th>\n",
       "      <td>76561197970982479</td>\n",
       "      <td>2011-11-05</td>\n",
       "      <td>1250</td>\n",
       "      <td>1</td>\n",
       "      <td>Simple yet with great replayability. In my opi...</td>\n",
       "      <td>2011</td>\n",
       "      <td>1</td>\n",
       "    </tr>\n",
       "    <tr>\n",
       "      <th>1</th>\n",
       "      <td>76561197970982479</td>\n",
       "      <td>2011-07-15</td>\n",
       "      <td>22200</td>\n",
       "      <td>1</td>\n",
       "      <td>It's unique and worth a playthrough.</td>\n",
       "      <td>2011</td>\n",
       "      <td>2</td>\n",
       "    </tr>\n",
       "    <tr>\n",
       "      <th>2</th>\n",
       "      <td>76561197970982479</td>\n",
       "      <td>2011-04-21</td>\n",
       "      <td>43110</td>\n",
       "      <td>1</td>\n",
       "      <td>Great atmosphere. The gunplay can be a bit chu...</td>\n",
       "      <td>2011</td>\n",
       "      <td>1</td>\n",
       "    </tr>\n",
       "    <tr>\n",
       "      <th>3</th>\n",
       "      <td>js41637</td>\n",
       "      <td>2014-06-24</td>\n",
       "      <td>251610</td>\n",
       "      <td>1</td>\n",
       "      <td>I know what you think when you see this title ...</td>\n",
       "      <td>2014</td>\n",
       "      <td>1</td>\n",
       "    </tr>\n",
       "    <tr>\n",
       "      <th>4</th>\n",
       "      <td>js41637</td>\n",
       "      <td>2013-09-08</td>\n",
       "      <td>227300</td>\n",
       "      <td>1</td>\n",
       "      <td>For a simple (it's actually not all that simpl...</td>\n",
       "      <td>2013</td>\n",
       "      <td>1</td>\n",
       "    </tr>\n",
       "  </tbody>\n",
       "</table>\n",
       "</div>"
      ],
      "text/plain": [
       "             user_id      posted  item_id  recommend  \\\n",
       "0  76561197970982479  2011-11-05     1250          1   \n",
       "1  76561197970982479  2011-07-15    22200          1   \n",
       "2  76561197970982479  2011-04-21    43110          1   \n",
       "3            js41637  2014-06-24   251610          1   \n",
       "4            js41637  2013-09-08   227300          1   \n",
       "\n",
       "                                              review  year  sentiment_analysis  \n",
       "0  Simple yet with great replayability. In my opi...  2011                   1  \n",
       "1               It's unique and worth a playthrough.  2011                   2  \n",
       "2  Great atmosphere. The gunplay can be a bit chu...  2011                   1  \n",
       "3  I know what you think when you see this title ...  2014                   1  \n",
       "4  For a simple (it's actually not all that simpl...  2013                   1  "
      ]
     },
     "execution_count": 111,
     "metadata": {},
     "output_type": "execute_result"
    }
   ],
   "source": [
    "df_user_reviews = pd.concat([df_user_reviews, sentimientoTextblob(df_user_reviews[\"review\"], \"sentiment_analysis\")], axis = 1)\n",
    "df_user_reviews.head()"
   ]
  },
  {
   "cell_type": "code",
   "execution_count": 112,
   "metadata": {},
   "outputs": [
    {
     "name": "stdout",
     "output_type": "stream",
     "text": [
      "Cantidad de Reviews Negativas:  5203\n",
      "Cantidad de Reviews Neutras  :  36455\n",
      "Cantidad de Reviews Positivas:  17647\n",
      "Cantidad TOTAL de Reviews    :  59305\n"
     ]
    }
   ],
   "source": [
    "print(\"Cantidad de Reviews Negativas: \",df_user_reviews[df_user_reviews[\"sentiment_analysis\"] == 0].shape[0])\n",
    "print(\"Cantidad de Reviews Neutras  : \",df_user_reviews[df_user_reviews[\"sentiment_analysis\"] == 1].shape[0])\n",
    "print(\"Cantidad de Reviews Positivas: \",df_user_reviews[df_user_reviews[\"sentiment_analysis\"] == 2].shape[0])\n",
    "print(\"Cantidad TOTAL de Reviews    : \",df_user_reviews.shape[0])"
   ]
  },
  {
   "cell_type": "code",
   "execution_count": 113,
   "metadata": {},
   "outputs": [
    {
     "data": {
      "text/plain": [
       "59305"
      ]
     },
     "execution_count": 113,
     "metadata": {},
     "output_type": "execute_result"
    }
   ],
   "source": [
    "df_user_reviews.shape[0]"
   ]
  },
  {
   "cell_type": "code",
   "execution_count": 114,
   "metadata": {},
   "outputs": [],
   "source": [
    "#Convertimos a int\n",
    "df_user_reviews['sentiment_analysis'] = df_user_reviews['sentiment_analysis'].astype(int)"
   ]
  },
  {
   "cell_type": "markdown",
   "metadata": {},
   "source": [
    ".\n",
    "\n",
    ".\n",
    "\n",
    ".\n",
    "\n",
    ".\n",
    "\n",
    ".\n",
    "\n",
    ".\n",
    " \n",
    "."
   ]
  },
  {
   "cell_type": "markdown",
   "metadata": {},
   "source": [
    "# TRATAMIENTO DE USER ITEMS"
   ]
  },
  {
   "cell_type": "markdown",
   "metadata": {},
   "source": [
    "SELECCIONAMOS COLUMNAS RELEVANTES PARA EL MVP"
   ]
  },
  {
   "cell_type": "code",
   "execution_count": 115,
   "metadata": {},
   "outputs": [],
   "source": [
    "cols_user_items = ['user_id', 'user_url', 'playtime_forever', 'item_id'] "
   ]
  },
  {
   "cell_type": "markdown",
   "metadata": {},
   "source": [
    "LECTURA"
   ]
  },
  {
   "cell_type": "code",
   "execution_count": 116,
   "metadata": {},
   "outputs": [],
   "source": [
    "#Lectura previa al particionamiento\n",
    "#df_user_items_entero = leerJsonGz(\"Datos/\",\"users_items.json.gz\",1)"
   ]
  },
  {
   "cell_type": "code",
   "execution_count": 117,
   "metadata": {},
   "outputs": [],
   "source": [
    "#Lectura y union de particiones\n",
    "df_user_items = leerJsonGzPart(\"Datos/Particiones/\",\"users_items.json.gz\",1,3)"
   ]
  },
  {
   "cell_type": "code",
   "execution_count": 118,
   "metadata": {},
   "outputs": [],
   "source": [
    "#Se comprobo que el particionamiento ha funcionado correctamente\n",
    "#print(\"Shape Lectura Completa    : \", df_user_items_entero.shape)\n",
    "#print(\"Shape Lectura Particionada: \", df_user_items.shape)"
   ]
  },
  {
   "cell_type": "code",
   "execution_count": 119,
   "metadata": {},
   "outputs": [
    {
     "data": {
      "text/html": [
       "<div>\n",
       "<style scoped>\n",
       "    .dataframe tbody tr th:only-of-type {\n",
       "        vertical-align: middle;\n",
       "    }\n",
       "\n",
       "    .dataframe tbody tr th {\n",
       "        vertical-align: top;\n",
       "    }\n",
       "\n",
       "    .dataframe thead th {\n",
       "        text-align: right;\n",
       "    }\n",
       "</style>\n",
       "<table border=\"1\" class=\"dataframe\">\n",
       "  <thead>\n",
       "    <tr style=\"text-align: right;\">\n",
       "      <th></th>\n",
       "      <th>user_id</th>\n",
       "      <th>items_count</th>\n",
       "      <th>steam_id</th>\n",
       "      <th>user_url</th>\n",
       "      <th>items</th>\n",
       "    </tr>\n",
       "  </thead>\n",
       "  <tbody>\n",
       "    <tr>\n",
       "      <th>0</th>\n",
       "      <td>76561197970982479</td>\n",
       "      <td>277</td>\n",
       "      <td>76561197970982479</td>\n",
       "      <td>http://steamcommunity.com/profiles/76561197970...</td>\n",
       "      <td>[{'item_id': '10', 'item_name': 'Counter-Strik...</td>\n",
       "    </tr>\n",
       "    <tr>\n",
       "      <th>1</th>\n",
       "      <td>js41637</td>\n",
       "      <td>888</td>\n",
       "      <td>76561198035864385</td>\n",
       "      <td>http://steamcommunity.com/id/js41637</td>\n",
       "      <td>[{'item_id': '10', 'item_name': 'Counter-Strik...</td>\n",
       "    </tr>\n",
       "    <tr>\n",
       "      <th>2</th>\n",
       "      <td>evcentric</td>\n",
       "      <td>137</td>\n",
       "      <td>76561198007712555</td>\n",
       "      <td>http://steamcommunity.com/id/evcentric</td>\n",
       "      <td>[{'item_id': '1200', 'item_name': 'Red Orchest...</td>\n",
       "    </tr>\n",
       "    <tr>\n",
       "      <th>3</th>\n",
       "      <td>Riot-Punch</td>\n",
       "      <td>328</td>\n",
       "      <td>76561197963445855</td>\n",
       "      <td>http://steamcommunity.com/id/Riot-Punch</td>\n",
       "      <td>[{'item_id': '10', 'item_name': 'Counter-Strik...</td>\n",
       "    </tr>\n",
       "    <tr>\n",
       "      <th>4</th>\n",
       "      <td>doctr</td>\n",
       "      <td>541</td>\n",
       "      <td>76561198002099482</td>\n",
       "      <td>http://steamcommunity.com/id/doctr</td>\n",
       "      <td>[{'item_id': '300', 'item_name': 'Day of Defea...</td>\n",
       "    </tr>\n",
       "  </tbody>\n",
       "</table>\n",
       "</div>"
      ],
      "text/plain": [
       "             user_id  items_count           steam_id  \\\n",
       "0  76561197970982479          277  76561197970982479   \n",
       "1            js41637          888  76561198035864385   \n",
       "2          evcentric          137  76561198007712555   \n",
       "3         Riot-Punch          328  76561197963445855   \n",
       "4              doctr          541  76561198002099482   \n",
       "\n",
       "                                            user_url  \\\n",
       "0  http://steamcommunity.com/profiles/76561197970...   \n",
       "1               http://steamcommunity.com/id/js41637   \n",
       "2             http://steamcommunity.com/id/evcentric   \n",
       "3            http://steamcommunity.com/id/Riot-Punch   \n",
       "4                 http://steamcommunity.com/id/doctr   \n",
       "\n",
       "                                               items  \n",
       "0  [{'item_id': '10', 'item_name': 'Counter-Strik...  \n",
       "1  [{'item_id': '10', 'item_name': 'Counter-Strik...  \n",
       "2  [{'item_id': '1200', 'item_name': 'Red Orchest...  \n",
       "3  [{'item_id': '10', 'item_name': 'Counter-Strik...  \n",
       "4  [{'item_id': '300', 'item_name': 'Day of Defea...  "
      ]
     },
     "execution_count": 119,
     "metadata": {},
     "output_type": "execute_result"
    }
   ],
   "source": [
    "df_user_items.head()"
   ]
  },
  {
   "cell_type": "markdown",
   "metadata": {},
   "source": [
    "DESANIDAMOS"
   ]
  },
  {
   "cell_type": "code",
   "execution_count": 120,
   "metadata": {},
   "outputs": [
    {
     "data": {
      "text/html": [
       "<div>\n",
       "<style scoped>\n",
       "    .dataframe tbody tr th:only-of-type {\n",
       "        vertical-align: middle;\n",
       "    }\n",
       "\n",
       "    .dataframe tbody tr th {\n",
       "        vertical-align: top;\n",
       "    }\n",
       "\n",
       "    .dataframe thead th {\n",
       "        text-align: right;\n",
       "    }\n",
       "</style>\n",
       "<table border=\"1\" class=\"dataframe\">\n",
       "  <thead>\n",
       "    <tr style=\"text-align: right;\">\n",
       "      <th></th>\n",
       "      <th>user_id</th>\n",
       "      <th>items_count</th>\n",
       "      <th>steam_id</th>\n",
       "      <th>user_url</th>\n",
       "      <th>item_id</th>\n",
       "      <th>item_name</th>\n",
       "      <th>playtime_forever</th>\n",
       "      <th>playtime_2weeks</th>\n",
       "    </tr>\n",
       "  </thead>\n",
       "  <tbody>\n",
       "    <tr>\n",
       "      <th>0</th>\n",
       "      <td>76561197970982479</td>\n",
       "      <td>277</td>\n",
       "      <td>76561197970982479</td>\n",
       "      <td>http://steamcommunity.com/profiles/76561197970...</td>\n",
       "      <td>10</td>\n",
       "      <td>Counter-Strike</td>\n",
       "      <td>6.0</td>\n",
       "      <td>0.0</td>\n",
       "    </tr>\n",
       "    <tr>\n",
       "      <th>1</th>\n",
       "      <td>76561197970982479</td>\n",
       "      <td>277</td>\n",
       "      <td>76561197970982479</td>\n",
       "      <td>http://steamcommunity.com/profiles/76561197970...</td>\n",
       "      <td>20</td>\n",
       "      <td>Team Fortress Classic</td>\n",
       "      <td>0.0</td>\n",
       "      <td>0.0</td>\n",
       "    </tr>\n",
       "    <tr>\n",
       "      <th>2</th>\n",
       "      <td>76561197970982479</td>\n",
       "      <td>277</td>\n",
       "      <td>76561197970982479</td>\n",
       "      <td>http://steamcommunity.com/profiles/76561197970...</td>\n",
       "      <td>30</td>\n",
       "      <td>Day of Defeat</td>\n",
       "      <td>7.0</td>\n",
       "      <td>0.0</td>\n",
       "    </tr>\n",
       "    <tr>\n",
       "      <th>3</th>\n",
       "      <td>76561197970982479</td>\n",
       "      <td>277</td>\n",
       "      <td>76561197970982479</td>\n",
       "      <td>http://steamcommunity.com/profiles/76561197970...</td>\n",
       "      <td>40</td>\n",
       "      <td>Deathmatch Classic</td>\n",
       "      <td>0.0</td>\n",
       "      <td>0.0</td>\n",
       "    </tr>\n",
       "    <tr>\n",
       "      <th>4</th>\n",
       "      <td>76561197970982479</td>\n",
       "      <td>277</td>\n",
       "      <td>76561197970982479</td>\n",
       "      <td>http://steamcommunity.com/profiles/76561197970...</td>\n",
       "      <td>50</td>\n",
       "      <td>Half-Life: Opposing Force</td>\n",
       "      <td>0.0</td>\n",
       "      <td>0.0</td>\n",
       "    </tr>\n",
       "  </tbody>\n",
       "</table>\n",
       "</div>"
      ],
      "text/plain": [
       "             user_id  items_count           steam_id  \\\n",
       "0  76561197970982479          277  76561197970982479   \n",
       "1  76561197970982479          277  76561197970982479   \n",
       "2  76561197970982479          277  76561197970982479   \n",
       "3  76561197970982479          277  76561197970982479   \n",
       "4  76561197970982479          277  76561197970982479   \n",
       "\n",
       "                                            user_url item_id  \\\n",
       "0  http://steamcommunity.com/profiles/76561197970...      10   \n",
       "1  http://steamcommunity.com/profiles/76561197970...      20   \n",
       "2  http://steamcommunity.com/profiles/76561197970...      30   \n",
       "3  http://steamcommunity.com/profiles/76561197970...      40   \n",
       "4  http://steamcommunity.com/profiles/76561197970...      50   \n",
       "\n",
       "                   item_name  playtime_forever  playtime_2weeks  \n",
       "0             Counter-Strike               6.0              0.0  \n",
       "1      Team Fortress Classic               0.0              0.0  \n",
       "2              Day of Defeat               7.0              0.0  \n",
       "3         Deathmatch Classic               0.0              0.0  \n",
       "4  Half-Life: Opposing Force               0.0              0.0  "
      ]
     },
     "execution_count": 120,
     "metadata": {},
     "output_type": "execute_result"
    }
   ],
   "source": [
    "df_user_items = desanidarJson(df_user_items, \"items\")\n",
    "df_user_items.head()"
   ]
  },
  {
   "cell_type": "markdown",
   "metadata": {},
   "source": [
    "ELIMINAMOS DUPLICADOS"
   ]
  },
  {
   "cell_type": "code",
   "execution_count": 121,
   "metadata": {},
   "outputs": [
    {
     "data": {
      "text/plain": [
       "5170015"
      ]
     },
     "execution_count": 121,
     "metadata": {},
     "output_type": "execute_result"
    }
   ],
   "source": [
    "df_user_items.shape[0]"
   ]
  },
  {
   "cell_type": "code",
   "execution_count": 122,
   "metadata": {},
   "outputs": [
    {
     "data": {
      "text/plain": [
       "5170015"
      ]
     },
     "execution_count": 122,
     "metadata": {},
     "output_type": "execute_result"
    }
   ],
   "source": [
    "#Vemos cantidad de Registros\n",
    "df_user_items.shape[0]"
   ]
  },
  {
   "cell_type": "code",
   "execution_count": 123,
   "metadata": {},
   "outputs": [],
   "source": [
    "df_user_items.drop_duplicates(inplace=True)"
   ]
  },
  {
   "cell_type": "code",
   "execution_count": 124,
   "metadata": {},
   "outputs": [
    {
     "data": {
      "text/plain": [
       "5110819"
      ]
     },
     "execution_count": 124,
     "metadata": {},
     "output_type": "execute_result"
    }
   ],
   "source": [
    "#Vemos cantidad de Registros\n",
    "df_user_items.shape[0]"
   ]
  },
  {
   "cell_type": "markdown",
   "metadata": {},
   "source": [
    "PLAYTIME 2 WEEKS y PLAYTIME FOREVER"
   ]
  },
  {
   "cell_type": "code",
   "execution_count": 125,
   "metadata": {},
   "outputs": [],
   "source": [
    "#Conversion a Numerico\n",
    "df_user_items[\"playtime_2weeks\"]  = pd.to_numeric(df_user_items[\"playtime_2weeks\"], errors='coerce')\n",
    "df_user_items[\"playtime_forever\"] = pd.to_numeric(df_user_items[\"playtime_forever\"], errors='coerce')"
   ]
  },
  {
   "cell_type": "code",
   "execution_count": 126,
   "metadata": {},
   "outputs": [
    {
     "data": {
      "text/plain": [
       "16714"
      ]
     },
     "execution_count": 126,
     "metadata": {},
     "output_type": "execute_result"
    }
   ],
   "source": [
    "#Vemos Nulos en playtime_2weeks\n",
    "df_user_items[df_user_items[\"playtime_2weeks\"].isna()].shape[0]"
   ]
  },
  {
   "cell_type": "code",
   "execution_count": 127,
   "metadata": {},
   "outputs": [
    {
     "data": {
      "text/plain": [
       "16714"
      ]
     },
     "execution_count": 127,
     "metadata": {},
     "output_type": "execute_result"
    }
   ],
   "source": [
    "#Vemos Nulos en playtime_forever\n",
    "df_user_items[df_user_items[\"playtime_forever\"].isna()].shape[0]"
   ]
  },
  {
   "cell_type": "code",
   "execution_count": 128,
   "metadata": {},
   "outputs": [
    {
     "data": {
      "text/plain": [
       "16714"
      ]
     },
     "execution_count": 128,
     "metadata": {},
     "output_type": "execute_result"
    }
   ],
   "source": [
    "#Vemos si los nulos se dan en ambas al mismo tiempo\n",
    "df_user_items[(df_user_items[\"playtime_2weeks\"].isna()) & (df_user_items[\"playtime_forever\"].isna())].shape[0]"
   ]
  },
  {
   "cell_type": "markdown",
   "metadata": {},
   "source": [
    "Si ambos estan en nulo, los pongo ambos en cero"
   ]
  },
  {
   "cell_type": "code",
   "execution_count": 129,
   "metadata": {},
   "outputs": [
    {
     "data": {
      "text/plain": [
       "0"
      ]
     },
     "execution_count": 129,
     "metadata": {},
     "output_type": "execute_result"
    }
   ],
   "source": [
    "#Definimos la condicion\n",
    "ambos_nulos = (df_user_items[\"playtime_2weeks\"].isna()) & (df_user_items[\"playtime_forever\"].isna())\n",
    "# Actualizar los valores en las columnas 'playtime_2weeks' y 'playtime_forever' a 0.0\n",
    "df_user_items.loc[ambos_nulos, ['playtime_2weeks', 'playtime_forever']] = 0.0\n",
    "\n",
    "#Verificamos\n",
    "df_user_items[(df_user_items[\"playtime_2weeks\"].isna()) & (df_user_items[\"playtime_forever\"].isna())].shape[0]"
   ]
  },
  {
   "cell_type": "markdown",
   "metadata": {},
   "source": [
    "PLAYTIME FOREVER = 0 & PLAYTIME 2 WEEKS != 0"
   ]
  },
  {
   "cell_type": "code",
   "execution_count": 130,
   "metadata": {},
   "outputs": [],
   "source": [
    "#Reseteo indices\n",
    "df_user_items.reset_index(drop=True, inplace=True)"
   ]
  },
  {
   "cell_type": "code",
   "execution_count": 131,
   "metadata": {},
   "outputs": [],
   "source": [
    "#Primero cambiamos los tipos de datos de ambas\n",
    "df_user_items[\"playtime_forever\"] = df_user_items[\"playtime_forever\"].astype(float)\n",
    "df_user_items[\"playtime_2weeks\"]  = df_user_items[\"playtime_2weeks\"].astype(float)"
   ]
  },
  {
   "cell_type": "code",
   "execution_count": 132,
   "metadata": {},
   "outputs": [
    {
     "data": {
      "text/html": [
       "<div>\n",
       "<style scoped>\n",
       "    .dataframe tbody tr th:only-of-type {\n",
       "        vertical-align: middle;\n",
       "    }\n",
       "\n",
       "    .dataframe tbody tr th {\n",
       "        vertical-align: top;\n",
       "    }\n",
       "\n",
       "    .dataframe thead th {\n",
       "        text-align: right;\n",
       "    }\n",
       "</style>\n",
       "<table border=\"1\" class=\"dataframe\">\n",
       "  <thead>\n",
       "    <tr style=\"text-align: right;\">\n",
       "      <th></th>\n",
       "      <th>user_id</th>\n",
       "      <th>items_count</th>\n",
       "      <th>steam_id</th>\n",
       "      <th>user_url</th>\n",
       "      <th>item_id</th>\n",
       "      <th>item_name</th>\n",
       "      <th>playtime_forever</th>\n",
       "      <th>playtime_2weeks</th>\n",
       "    </tr>\n",
       "  </thead>\n",
       "  <tbody>\n",
       "    <tr>\n",
       "      <th>253243</th>\n",
       "      <td>KioKIzz</td>\n",
       "      <td>871</td>\n",
       "      <td>76561198062670809</td>\n",
       "      <td>http://steamcommunity.com/id/KioKIzz</td>\n",
       "      <td>434210</td>\n",
       "      <td>It's Spring Again</td>\n",
       "      <td>0.0</td>\n",
       "      <td>2.0</td>\n",
       "    </tr>\n",
       "    <tr>\n",
       "      <th>1081787</th>\n",
       "      <td>ireallydontfuckingcare</td>\n",
       "      <td>58</td>\n",
       "      <td>76561198064158005</td>\n",
       "      <td>http://steamcommunity.com/id/ireallydontfuckin...</td>\n",
       "      <td>359050</td>\n",
       "      <td>Shower With Your Dad Simulator 2015: Do You St...</td>\n",
       "      <td>0.0</td>\n",
       "      <td>1.0</td>\n",
       "    </tr>\n",
       "    <tr>\n",
       "      <th>2721023</th>\n",
       "      <td>camyabish</td>\n",
       "      <td>71</td>\n",
       "      <td>76561198086419048</td>\n",
       "      <td>http://steamcommunity.com/id/camyabish</td>\n",
       "      <td>242700</td>\n",
       "      <td>Injustice: Gods Among Us Ultimate Edition</td>\n",
       "      <td>0.0</td>\n",
       "      <td>29.0</td>\n",
       "    </tr>\n",
       "  </tbody>\n",
       "</table>\n",
       "</div>"
      ],
      "text/plain": [
       "                        user_id  items_count           steam_id  \\\n",
       "253243                  KioKIzz          871  76561198062670809   \n",
       "1081787  ireallydontfuckingcare           58  76561198064158005   \n",
       "2721023               camyabish           71  76561198086419048   \n",
       "\n",
       "                                                  user_url item_id  \\\n",
       "253243                http://steamcommunity.com/id/KioKIzz  434210   \n",
       "1081787  http://steamcommunity.com/id/ireallydontfuckin...  359050   \n",
       "2721023             http://steamcommunity.com/id/camyabish  242700   \n",
       "\n",
       "                                                 item_name  playtime_forever  \\\n",
       "253243                                   It's Spring Again               0.0   \n",
       "1081787  Shower With Your Dad Simulator 2015: Do You St...               0.0   \n",
       "2721023          Injustice: Gods Among Us Ultimate Edition               0.0   \n",
       "\n",
       "         playtime_2weeks  \n",
       "253243               2.0  \n",
       "1081787              1.0  \n",
       "2721023             29.0  "
      ]
     },
     "execution_count": 132,
     "metadata": {},
     "output_type": "execute_result"
    }
   ],
   "source": [
    "#Creamos la condicion/mascara\n",
    "condicion = ((df_user_items[\"playtime_forever\"] == 0) & (df_user_items[\"playtime_2weeks\"] != 0))\n",
    "\n",
    "#Visualizamos algunos registros\n",
    "df_user_items[condicion].head()"
   ]
  },
  {
   "cell_type": "code",
   "execution_count": 133,
   "metadata": {},
   "outputs": [
    {
     "data": {
      "text/plain": [
       "3"
      ]
     },
     "execution_count": 133,
     "metadata": {},
     "output_type": "execute_result"
    }
   ],
   "source": [
    "#Cantida de registros con PLAYTIME FOREVER = 0 & PLAYTIME 2 WEEKS != 0\n",
    "df_user_items[condicion].shape[0]"
   ]
  },
  {
   "cell_type": "code",
   "execution_count": 134,
   "metadata": {},
   "outputs": [],
   "source": [
    "#Asigno el valor de playtime_2weeks a playtime_forever\n",
    "# Asignar el valor de 'playtime_2weeks' a 'playtime_forever' en los registros que cumplen la condición\n",
    "df_user_items.loc[condicion, 'playtime_forever'] = df_user_items.loc[condicion, 'playtime_2weeks']"
   ]
  },
  {
   "cell_type": "code",
   "execution_count": 135,
   "metadata": {},
   "outputs": [
    {
     "data": {
      "text/plain": [
       "user_id                                          KioKIzz\n",
       "items_count                                          871\n",
       "steam_id                               76561198062670809\n",
       "user_url            http://steamcommunity.com/id/KioKIzz\n",
       "item_id                                           434210\n",
       "item_name                              It's Spring Again\n",
       "playtime_forever                                     2.0\n",
       "playtime_2weeks                                      2.0\n",
       "Name: 253243, dtype: object"
      ]
     },
     "execution_count": 135,
     "metadata": {},
     "output_type": "execute_result"
    }
   ],
   "source": [
    "#Cantida de registros con PLAYTIME FOREVER = 0 & PLAYTIME 2 WEEKS != 0 POST imputaicon\n",
    "df_user_items.iloc[253243]"
   ]
  },
  {
   "cell_type": "markdown",
   "metadata": {},
   "source": [
    "OTRAS TRANSFORMACIONES NECESARIAS"
   ]
  },
  {
   "cell_type": "code",
   "execution_count": 136,
   "metadata": {},
   "outputs": [],
   "source": [
    "#Imputamos -1 en item ID para los casos nulos\n",
    "df_user_items['item_id'].fillna(-1, inplace=True)\n",
    "#Convertimos a Int\n",
    "df_user_items['item_id'] = df_user_items['item_id'].astype(int)"
   ]
  },
  {
   "cell_type": "markdown",
   "metadata": {},
   "source": [
    ".\n",
    "\n",
    ".\n",
    "\n",
    ".\n",
    "\n",
    "."
   ]
  },
  {
   "cell_type": "markdown",
   "metadata": {},
   "source": [
    "# GENERACION DE ARCHIVOS REDUCIDOS PARA C/ ENDPOINT"
   ]
  },
  {
   "cell_type": "markdown",
   "metadata": {},
   "source": [
    ".\n",
    "\n",
    "."
   ]
  },
  {
   "cell_type": "markdown",
   "metadata": {},
   "source": [
    "1) **<u> def userdata( User_id : str ):</u>**\n",
    "\n",
    "    Debe devolver cantidad de dinero gastado por el usuario, \n",
    "    el porcentaje de recomendación en base a reviews.recommend y \n",
    "    cantidad de items."
   ]
  },
  {
   "cell_type": "markdown",
   "metadata": {},
   "source": [
    "CREAREMOS 3 DFs REDUCIDOS (COMO SI FUESEN  VISTAS) para cada solicitud del ENDPOINT\n",
    "\n",
    "df_price_by_user\n",
    "\n",
    "df_perc_recommend_by_user\n",
    "\n",
    "df_cant_items_by_user"
   ]
  },
  {
   "cell_type": "code",
   "execution_count": 137,
   "metadata": {},
   "outputs": [
    {
     "data": {
      "text/plain": [
       "87626"
      ]
     },
     "execution_count": 137,
     "metadata": {},
     "output_type": "execute_result"
    }
   ],
   "source": [
    "#Usuarios Unicos\n",
    "df_user_items[\"user_id\"].unique().shape[0]"
   ]
  },
  {
   "cell_type": "markdown",
   "metadata": {},
   "source": [
    "."
   ]
  },
  {
   "cell_type": "markdown",
   "metadata": {},
   "source": [
    "**<u>df_price_by_user:</u>**   Va a ser un DF agrupado por user_id con la sumatoria de todos los gastos (price) efectuados por ese usuario."
   ]
  },
  {
   "cell_type": "markdown",
   "metadata": {},
   "source": [
    "."
   ]
  },
  {
   "cell_type": "code",
   "execution_count": 138,
   "metadata": {},
   "outputs": [
    {
     "data": {
      "text/plain": [
       "87626"
      ]
     },
     "execution_count": 138,
     "metadata": {},
     "output_type": "execute_result"
    }
   ],
   "source": [
    "#Creamos DF vacio\n",
    "df_spent_by_user = pd.DataFrame()\n",
    "\n",
    "#Agrego Columna de user_id\n",
    "df_spent_by_user[\"user_id\"] = df_user_items[\"user_id\"].unique()\n",
    "\n",
    "#verifico cantidad de registros\n",
    "df_spent_by_user.shape[0]"
   ]
  },
  {
   "cell_type": "code",
   "execution_count": 139,
   "metadata": {},
   "outputs": [
    {
     "data": {
      "text/html": [
       "<div>\n",
       "<style scoped>\n",
       "    .dataframe tbody tr th:only-of-type {\n",
       "        vertical-align: middle;\n",
       "    }\n",
       "\n",
       "    .dataframe tbody tr th {\n",
       "        vertical-align: top;\n",
       "    }\n",
       "\n",
       "    .dataframe thead th {\n",
       "        text-align: right;\n",
       "    }\n",
       "</style>\n",
       "<table border=\"1\" class=\"dataframe\">\n",
       "  <thead>\n",
       "    <tr style=\"text-align: right;\">\n",
       "      <th></th>\n",
       "      <th>user_id</th>\n",
       "      <th>items_count</th>\n",
       "      <th>steam_id</th>\n",
       "      <th>user_url</th>\n",
       "      <th>item_id</th>\n",
       "      <th>item_name</th>\n",
       "      <th>playtime_forever</th>\n",
       "      <th>playtime_2weeks</th>\n",
       "      <th>genres</th>\n",
       "      <th>release_date</th>\n",
       "      <th>price</th>\n",
       "      <th>developer</th>\n",
       "      <th>year</th>\n",
       "    </tr>\n",
       "  </thead>\n",
       "  <tbody>\n",
       "    <tr>\n",
       "      <th>0</th>\n",
       "      <td>76561197970982479</td>\n",
       "      <td>277</td>\n",
       "      <td>76561197970982479</td>\n",
       "      <td>http://steamcommunity.com/profiles/76561197970...</td>\n",
       "      <td>10</td>\n",
       "      <td>Counter-Strike</td>\n",
       "      <td>6.0</td>\n",
       "      <td>0.0</td>\n",
       "      <td>Action</td>\n",
       "      <td>2000-11-01</td>\n",
       "      <td>9.99</td>\n",
       "      <td>Valve</td>\n",
       "      <td>2000.0</td>\n",
       "    </tr>\n",
       "    <tr>\n",
       "      <th>1</th>\n",
       "      <td>76561197970982479</td>\n",
       "      <td>277</td>\n",
       "      <td>76561197970982479</td>\n",
       "      <td>http://steamcommunity.com/profiles/76561197970...</td>\n",
       "      <td>20</td>\n",
       "      <td>Team Fortress Classic</td>\n",
       "      <td>0.0</td>\n",
       "      <td>0.0</td>\n",
       "      <td>Action</td>\n",
       "      <td>1999-04-01</td>\n",
       "      <td>4.99</td>\n",
       "      <td>Valve</td>\n",
       "      <td>1999.0</td>\n",
       "    </tr>\n",
       "    <tr>\n",
       "      <th>2</th>\n",
       "      <td>76561197970982479</td>\n",
       "      <td>277</td>\n",
       "      <td>76561197970982479</td>\n",
       "      <td>http://steamcommunity.com/profiles/76561197970...</td>\n",
       "      <td>30</td>\n",
       "      <td>Day of Defeat</td>\n",
       "      <td>7.0</td>\n",
       "      <td>0.0</td>\n",
       "      <td>Action</td>\n",
       "      <td>2003-05-01</td>\n",
       "      <td>4.99</td>\n",
       "      <td>Valve</td>\n",
       "      <td>2003.0</td>\n",
       "    </tr>\n",
       "    <tr>\n",
       "      <th>3</th>\n",
       "      <td>76561197970982479</td>\n",
       "      <td>277</td>\n",
       "      <td>76561197970982479</td>\n",
       "      <td>http://steamcommunity.com/profiles/76561197970...</td>\n",
       "      <td>40</td>\n",
       "      <td>Deathmatch Classic</td>\n",
       "      <td>0.0</td>\n",
       "      <td>0.0</td>\n",
       "      <td>Action</td>\n",
       "      <td>2001-06-01</td>\n",
       "      <td>4.99</td>\n",
       "      <td>Valve</td>\n",
       "      <td>2001.0</td>\n",
       "    </tr>\n",
       "    <tr>\n",
       "      <th>4</th>\n",
       "      <td>76561197970982479</td>\n",
       "      <td>277</td>\n",
       "      <td>76561197970982479</td>\n",
       "      <td>http://steamcommunity.com/profiles/76561197970...</td>\n",
       "      <td>50</td>\n",
       "      <td>Half-Life: Opposing Force</td>\n",
       "      <td>0.0</td>\n",
       "      <td>0.0</td>\n",
       "      <td>Action</td>\n",
       "      <td>1999-11-01</td>\n",
       "      <td>4.99</td>\n",
       "      <td>Gearbox Software</td>\n",
       "      <td>1999.0</td>\n",
       "    </tr>\n",
       "  </tbody>\n",
       "</table>\n",
       "</div>"
      ],
      "text/plain": [
       "             user_id  items_count           steam_id  \\\n",
       "0  76561197970982479          277  76561197970982479   \n",
       "1  76561197970982479          277  76561197970982479   \n",
       "2  76561197970982479          277  76561197970982479   \n",
       "3  76561197970982479          277  76561197970982479   \n",
       "4  76561197970982479          277  76561197970982479   \n",
       "\n",
       "                                            user_url  item_id  \\\n",
       "0  http://steamcommunity.com/profiles/76561197970...       10   \n",
       "1  http://steamcommunity.com/profiles/76561197970...       20   \n",
       "2  http://steamcommunity.com/profiles/76561197970...       30   \n",
       "3  http://steamcommunity.com/profiles/76561197970...       40   \n",
       "4  http://steamcommunity.com/profiles/76561197970...       50   \n",
       "\n",
       "                   item_name  playtime_forever  playtime_2weeks  genres  \\\n",
       "0             Counter-Strike               6.0              0.0  Action   \n",
       "1      Team Fortress Classic               0.0              0.0  Action   \n",
       "2              Day of Defeat               7.0              0.0  Action   \n",
       "3         Deathmatch Classic               0.0              0.0  Action   \n",
       "4  Half-Life: Opposing Force               0.0              0.0  Action   \n",
       "\n",
       "  release_date  price         developer    year  \n",
       "0   2000-11-01   9.99             Valve  2000.0  \n",
       "1   1999-04-01   4.99             Valve  1999.0  \n",
       "2   2003-05-01   4.99             Valve  2003.0  \n",
       "3   2001-06-01   4.99             Valve  2001.0  \n",
       "4   1999-11-01   4.99  Gearbox Software  1999.0  "
      ]
     },
     "execution_count": 139,
     "metadata": {},
     "output_type": "execute_result"
    }
   ],
   "source": [
    "#Creamos un DataFrame entre steam y users para tener el precio a nivel item_id\n",
    "df_merged_items_steam_by_itemid = df_user_items.merge(df_output_steam_json, on='item_id', how='left')\n",
    "#Por las dudas convertimos a float la columna precio\n",
    "df_merged_items_steam_by_itemid['price'] = df_merged_items_steam_by_itemid['price'].astype(float)\n",
    "\n",
    "df_merged_items_steam_by_itemid.head()"
   ]
  },
  {
   "cell_type": "code",
   "execution_count": 140,
   "metadata": {},
   "outputs": [
    {
     "data": {
      "text/html": [
       "<div>\n",
       "<style scoped>\n",
       "    .dataframe tbody tr th:only-of-type {\n",
       "        vertical-align: middle;\n",
       "    }\n",
       "\n",
       "    .dataframe tbody tr th {\n",
       "        vertical-align: top;\n",
       "    }\n",
       "\n",
       "    .dataframe thead th {\n",
       "        text-align: right;\n",
       "    }\n",
       "</style>\n",
       "<table border=\"1\" class=\"dataframe\">\n",
       "  <thead>\n",
       "    <tr style=\"text-align: right;\">\n",
       "      <th></th>\n",
       "      <th>user_id</th>\n",
       "      <th>spent</th>\n",
       "    </tr>\n",
       "  </thead>\n",
       "  <tbody>\n",
       "    <tr>\n",
       "      <th>0</th>\n",
       "      <td>76561197970982479</td>\n",
       "      <td>3424.31</td>\n",
       "    </tr>\n",
       "    <tr>\n",
       "      <th>1</th>\n",
       "      <td>js41637</td>\n",
       "      <td>8553.07</td>\n",
       "    </tr>\n",
       "    <tr>\n",
       "      <th>2</th>\n",
       "      <td>evcentric</td>\n",
       "      <td>1584.90</td>\n",
       "    </tr>\n",
       "    <tr>\n",
       "      <th>3</th>\n",
       "      <td>Riot-Punch</td>\n",
       "      <td>3377.22</td>\n",
       "    </tr>\n",
       "    <tr>\n",
       "      <th>4</th>\n",
       "      <td>doctr</td>\n",
       "      <td>6760.32</td>\n",
       "    </tr>\n",
       "  </tbody>\n",
       "</table>\n",
       "</div>"
      ],
      "text/plain": [
       "             user_id    spent\n",
       "0  76561197970982479  3424.31\n",
       "1            js41637  8553.07\n",
       "2          evcentric  1584.90\n",
       "3         Riot-Punch  3377.22\n",
       "4              doctr  6760.32"
      ]
     },
     "execution_count": 140,
     "metadata": {},
     "output_type": "execute_result"
    }
   ],
   "source": [
    "#Total de Gastos/price (sum) por usuario\n",
    "df_spent_by_user = pd.merge(df_spent_by_user, df_merged_items_steam_by_itemid.groupby('user_id')['price'].sum().reset_index(), on='user_id', how='left')\n",
    "#Modificamos el nombre de la columna calculada\n",
    "df_spent_by_user.rename(columns={\"price\": \"spent\"}, inplace=True)\n",
    "#Visualizamos el df\n",
    "df_spent_by_user.head()"
   ]
  },
  {
   "cell_type": "markdown",
   "metadata": {},
   "source": [
    ".\n",
    "\n"
   ]
  },
  {
   "cell_type": "markdown",
   "metadata": {},
   "source": [
    "**<u>df_perc_recommend_by_user:</u>**   Va a ser un DF agrupado por user_id el porcentaje de recomendaciones POSITIVAS(1) en funcion de las NEGATIVAS(0)."
   ]
  },
  {
   "cell_type": "markdown",
   "metadata": {},
   "source": [
    ".\n",
    "\n"
   ]
  },
  {
   "cell_type": "code",
   "execution_count": 141,
   "metadata": {},
   "outputs": [
    {
     "data": {
      "text/plain": [
       "87626"
      ]
     },
     "execution_count": 141,
     "metadata": {},
     "output_type": "execute_result"
    }
   ],
   "source": [
    "#Creamos un DF vacio\n",
    "df_perc_recommend_by_user = pd.DataFrame()\n",
    "\n",
    "#Agrego Columna de user_id\n",
    "df_perc_recommend_by_user[\"user_id\"] = df_user_items[\"user_id\"].unique()\n",
    "\n",
    "#verifico cantidad de registros\n",
    "df_perc_recommend_by_user.shape[0]"
   ]
  },
  {
   "cell_type": "code",
   "execution_count": 142,
   "metadata": {},
   "outputs": [],
   "source": [
    "#Recomendaciones Negativas\n",
    "df_recommend_0 = df_user_reviews[df_user_reviews['recommend'] == 0].groupby('user_id')['recommend'].count().reset_index()\n",
    "df_recommend_0.rename(columns={\"recommend\": \"recommend_0\"}, inplace=True)\n",
    "#Recomendaciones positivas\n",
    "df_recommend_1 = df_user_reviews[df_user_reviews['recommend'] == 1].groupby('user_id')['recommend'].count().reset_index()\n",
    "df_recommend_1.rename(columns={\"recommend\": \"recommend_1\"}, inplace=True)\n",
    "\n",
    "#Combinamos ambos DFs\n",
    "df_recommend = pd.merge(df_recommend_0,df_recommend_1, on='user_id', how='inner')\n",
    "\n",
    "#Actuaslizamos los valores nulos\n",
    "df_recommend['recommend_0'].fillna(0, inplace=True)\n",
    "df_recommend['recommend_1'].fillna(0, inplace=True)\n",
    "\n",
    "# Convierte las columnas 'recommend_0' y 'recommend_1' a enteros\n",
    "df_recommend['recommend_0'] = df_recommend['recommend_0'].astype(int)\n",
    "df_recommend['recommend_1'] = df_recommend['recommend_1'].astype(int)\n",
    "\n",
    "\n",
    "#Calculamos el total de recomendaciones por usuario en una nueva columna, sumando las positivas y negativas\n",
    "df_recommend['recommend_total'] = df_recommend['recommend_0'] + df_recommend['recommend_1']\n",
    "df_recommend['recommend_total'] = df_recommend['recommend_total'].astype(int)\n",
    "\n",
    "\n",
    "#Calculamos el porcentaje con las columnas anteriores\n",
    "df_recommend['perc_recommend'] = 0  # Inicializa la columna con ceros\n",
    "df_recommend['perc_recommend'] = df_recommend['perc_recommend'].astype(float)\n",
    "\n",
    "nonzero_total_mask = df_recommend['recommend_total'] != 0 #Crea Mascara, porque sino podriamos generar una division por cero. \n",
    "df_recommend.loc[nonzero_total_mask, 'perc_recommend'] = (df_recommend['recommend_1'] / df_recommend['recommend_total']) * 100\n",
    "\n",
    "#Quitamos intermedias\n",
    "#df_recommend.drop(['recommend_0', 'recommend_1', 'recommend_total'], axis=1, inplace=True)\n"
   ]
  },
  {
   "cell_type": "code",
   "execution_count": 143,
   "metadata": {},
   "outputs": [
    {
     "name": "stdout",
     "output_type": "stream",
     "text": [
      "<class 'pandas.core.frame.DataFrame'>\n",
      "RangeIndex: 3684 entries, 0 to 3683\n",
      "Data columns (total 5 columns):\n",
      " #   Column           Non-Null Count  Dtype  \n",
      "---  ------           --------------  -----  \n",
      " 0   user_id          3684 non-null   object \n",
      " 1   recommend_0      3684 non-null   int32  \n",
      " 2   recommend_1      3684 non-null   int32  \n",
      " 3   recommend_total  3684 non-null   int32  \n",
      " 4   perc_recommend   3684 non-null   float64\n",
      "dtypes: float64(1), int32(3), object(1)\n",
      "memory usage: 100.9+ KB\n"
     ]
    }
   ],
   "source": [
    "df_recommend.info()"
   ]
  },
  {
   "cell_type": "code",
   "execution_count": 144,
   "metadata": {},
   "outputs": [
    {
     "data": {
      "text/plain": [
       "(3684, 5)"
      ]
     },
     "execution_count": 144,
     "metadata": {},
     "output_type": "execute_result"
    }
   ],
   "source": [
    "df_recommend.shape"
   ]
  },
  {
   "cell_type": "code",
   "execution_count": 145,
   "metadata": {},
   "outputs": [
    {
     "data": {
      "text/html": [
       "<div>\n",
       "<style scoped>\n",
       "    .dataframe tbody tr th:only-of-type {\n",
       "        vertical-align: middle;\n",
       "    }\n",
       "\n",
       "    .dataframe tbody tr th {\n",
       "        vertical-align: top;\n",
       "    }\n",
       "\n",
       "    .dataframe thead th {\n",
       "        text-align: right;\n",
       "    }\n",
       "</style>\n",
       "<table border=\"1\" class=\"dataframe\">\n",
       "  <thead>\n",
       "    <tr style=\"text-align: right;\">\n",
       "      <th></th>\n",
       "      <th>user_id</th>\n",
       "      <th>recommend_0</th>\n",
       "      <th>recommend_1</th>\n",
       "      <th>recommend_total</th>\n",
       "      <th>perc_recommend</th>\n",
       "    </tr>\n",
       "  </thead>\n",
       "  <tbody>\n",
       "    <tr>\n",
       "      <th>0</th>\n",
       "      <td>-GM-Dragon</td>\n",
       "      <td>1</td>\n",
       "      <td>1</td>\n",
       "      <td>2</td>\n",
       "      <td>50.000000</td>\n",
       "    </tr>\n",
       "    <tr>\n",
       "      <th>1</th>\n",
       "      <td>-PRoSlayeR-</td>\n",
       "      <td>1</td>\n",
       "      <td>1</td>\n",
       "      <td>2</td>\n",
       "      <td>50.000000</td>\n",
       "    </tr>\n",
       "    <tr>\n",
       "      <th>2</th>\n",
       "      <td>-SEVEN-</td>\n",
       "      <td>2</td>\n",
       "      <td>7</td>\n",
       "      <td>9</td>\n",
       "      <td>77.777778</td>\n",
       "    </tr>\n",
       "    <tr>\n",
       "      <th>3</th>\n",
       "      <td>-_PussyDestroyer_-</td>\n",
       "      <td>2</td>\n",
       "      <td>3</td>\n",
       "      <td>5</td>\n",
       "      <td>60.000000</td>\n",
       "    </tr>\n",
       "    <tr>\n",
       "      <th>4</th>\n",
       "      <td>00454211432342</td>\n",
       "      <td>1</td>\n",
       "      <td>1</td>\n",
       "      <td>2</td>\n",
       "      <td>50.000000</td>\n",
       "    </tr>\n",
       "  </tbody>\n",
       "</table>\n",
       "</div>"
      ],
      "text/plain": [
       "              user_id  recommend_0  recommend_1  recommend_total  \\\n",
       "0          -GM-Dragon            1            1                2   \n",
       "1         -PRoSlayeR-            1            1                2   \n",
       "2             -SEVEN-            2            7                9   \n",
       "3  -_PussyDestroyer_-            2            3                5   \n",
       "4      00454211432342            1            1                2   \n",
       "\n",
       "   perc_recommend  \n",
       "0       50.000000  \n",
       "1       50.000000  \n",
       "2       77.777778  \n",
       "3       60.000000  \n",
       "4       50.000000  "
      ]
     },
     "execution_count": 145,
     "metadata": {},
     "output_type": "execute_result"
    }
   ],
   "source": [
    "df_recommend.head()"
   ]
  },
  {
   "cell_type": "code",
   "execution_count": 146,
   "metadata": {},
   "outputs": [],
   "source": [
    "#Juntamos con nuestro \"maestro\" de user_id el df anterior\n",
    "df_perc_recommend_by_user = pd.merge(df_perc_recommend_by_user,df_recommend, on='user_id', how='left')\n",
    "\n",
    "# Reemplaza los valores nulos por ceros \n",
    "df_perc_recommend_by_user['recommend_0'].fillna(0, inplace=True)\n",
    "df_perc_recommend_by_user['recommend_1'].fillna(0, inplace=True)\n",
    "df_perc_recommend_by_user['recommend_total'].fillna(0, inplace=True)\n",
    "df_perc_recommend_by_user['perc_recommend'].fillna(0, inplace=True)\n",
    "\n",
    "# Convierte el tipo de dato de la columna 'perc_recommend' a float\n",
    "df_perc_recommend_by_user['recommend_0'] = df_perc_recommend_by_user['recommend_0'].astype(float)\n",
    "df_perc_recommend_by_user['recommend_1'] = df_perc_recommend_by_user['recommend_1'].astype(float)\n",
    "df_perc_recommend_by_user['recommend_total'] = df_perc_recommend_by_user['recommend_total'].astype(float)\n",
    "df_perc_recommend_by_user['perc_recommend'] = df_perc_recommend_by_user['perc_recommend'].astype(float)"
   ]
  },
  {
   "cell_type": "code",
   "execution_count": 147,
   "metadata": {},
   "outputs": [
    {
     "data": {
      "text/html": [
       "<div>\n",
       "<style scoped>\n",
       "    .dataframe tbody tr th:only-of-type {\n",
       "        vertical-align: middle;\n",
       "    }\n",
       "\n",
       "    .dataframe tbody tr th {\n",
       "        vertical-align: top;\n",
       "    }\n",
       "\n",
       "    .dataframe thead th {\n",
       "        text-align: right;\n",
       "    }\n",
       "</style>\n",
       "<table border=\"1\" class=\"dataframe\">\n",
       "  <thead>\n",
       "    <tr style=\"text-align: right;\">\n",
       "      <th></th>\n",
       "      <th>user_id</th>\n",
       "      <th>recommend_0</th>\n",
       "      <th>recommend_1</th>\n",
       "      <th>recommend_total</th>\n",
       "      <th>perc_recommend</th>\n",
       "    </tr>\n",
       "  </thead>\n",
       "  <tbody>\n",
       "    <tr>\n",
       "      <th>0</th>\n",
       "      <td>76561197970982479</td>\n",
       "      <td>0.0</td>\n",
       "      <td>0.0</td>\n",
       "      <td>0.0</td>\n",
       "      <td>0.0</td>\n",
       "    </tr>\n",
       "    <tr>\n",
       "      <th>1</th>\n",
       "      <td>js41637</td>\n",
       "      <td>0.0</td>\n",
       "      <td>0.0</td>\n",
       "      <td>0.0</td>\n",
       "      <td>0.0</td>\n",
       "    </tr>\n",
       "    <tr>\n",
       "      <th>2</th>\n",
       "      <td>evcentric</td>\n",
       "      <td>0.0</td>\n",
       "      <td>0.0</td>\n",
       "      <td>0.0</td>\n",
       "      <td>0.0</td>\n",
       "    </tr>\n",
       "    <tr>\n",
       "      <th>3</th>\n",
       "      <td>Riot-Punch</td>\n",
       "      <td>0.0</td>\n",
       "      <td>0.0</td>\n",
       "      <td>0.0</td>\n",
       "      <td>0.0</td>\n",
       "    </tr>\n",
       "    <tr>\n",
       "      <th>4</th>\n",
       "      <td>doctr</td>\n",
       "      <td>0.0</td>\n",
       "      <td>0.0</td>\n",
       "      <td>0.0</td>\n",
       "      <td>0.0</td>\n",
       "    </tr>\n",
       "  </tbody>\n",
       "</table>\n",
       "</div>"
      ],
      "text/plain": [
       "             user_id  recommend_0  recommend_1  recommend_total  \\\n",
       "0  76561197970982479          0.0          0.0              0.0   \n",
       "1            js41637          0.0          0.0              0.0   \n",
       "2          evcentric          0.0          0.0              0.0   \n",
       "3         Riot-Punch          0.0          0.0              0.0   \n",
       "4              doctr          0.0          0.0              0.0   \n",
       "\n",
       "   perc_recommend  \n",
       "0             0.0  \n",
       "1             0.0  \n",
       "2             0.0  \n",
       "3             0.0  \n",
       "4             0.0  "
      ]
     },
     "execution_count": 147,
     "metadata": {},
     "output_type": "execute_result"
    }
   ],
   "source": [
    "df_perc_recommend_by_user.head()"
   ]
  },
  {
   "cell_type": "markdown",
   "metadata": {},
   "source": [
    ".\n"
   ]
  },
  {
   "cell_type": "markdown",
   "metadata": {},
   "source": [
    "**<u>df_cant_items_by_user:</u>**   Va a ser un DF agrupado por user_id Con la cantidad de items de cada user."
   ]
  },
  {
   "cell_type": "markdown",
   "metadata": {},
   "source": [
    "."
   ]
  },
  {
   "cell_type": "code",
   "execution_count": 148,
   "metadata": {},
   "outputs": [
    {
     "data": {
      "text/plain": [
       "87626"
      ]
     },
     "execution_count": 148,
     "metadata": {},
     "output_type": "execute_result"
    }
   ],
   "source": [
    "#Creamos un DF vacio\n",
    "df_count_items_by_user = pd.DataFrame()\n",
    "\n",
    "#Agrego Columna de user_id\n",
    "df_count_items_by_user[\"user_id\"] = df_user_items[\"user_id\"].unique()\n",
    "\n",
    "#verifico cantidad de registros\n",
    "df_count_items_by_user.shape[0]"
   ]
  },
  {
   "cell_type": "code",
   "execution_count": 149,
   "metadata": {},
   "outputs": [
    {
     "data": {
      "text/html": [
       "<div>\n",
       "<style scoped>\n",
       "    .dataframe tbody tr th:only-of-type {\n",
       "        vertical-align: middle;\n",
       "    }\n",
       "\n",
       "    .dataframe tbody tr th {\n",
       "        vertical-align: top;\n",
       "    }\n",
       "\n",
       "    .dataframe thead th {\n",
       "        text-align: right;\n",
       "    }\n",
       "</style>\n",
       "<table border=\"1\" class=\"dataframe\">\n",
       "  <thead>\n",
       "    <tr style=\"text-align: right;\">\n",
       "      <th></th>\n",
       "      <th>user_id</th>\n",
       "      <th>count_items</th>\n",
       "    </tr>\n",
       "  </thead>\n",
       "  <tbody>\n",
       "    <tr>\n",
       "      <th>0</th>\n",
       "      <td>76561197970982479</td>\n",
       "      <td>277</td>\n",
       "    </tr>\n",
       "    <tr>\n",
       "      <th>1</th>\n",
       "      <td>js41637</td>\n",
       "      <td>888</td>\n",
       "    </tr>\n",
       "    <tr>\n",
       "      <th>2</th>\n",
       "      <td>evcentric</td>\n",
       "      <td>137</td>\n",
       "    </tr>\n",
       "    <tr>\n",
       "      <th>3</th>\n",
       "      <td>Riot-Punch</td>\n",
       "      <td>328</td>\n",
       "    </tr>\n",
       "    <tr>\n",
       "      <th>4</th>\n",
       "      <td>doctr</td>\n",
       "      <td>541</td>\n",
       "    </tr>\n",
       "  </tbody>\n",
       "</table>\n",
       "</div>"
      ],
      "text/plain": [
       "             user_id  count_items\n",
       "0  76561197970982479          277\n",
       "1            js41637          888\n",
       "2          evcentric          137\n",
       "3         Riot-Punch          328\n",
       "4              doctr          541"
      ]
     },
     "execution_count": 149,
     "metadata": {},
     "output_type": "execute_result"
    }
   ],
   "source": [
    "#Agregamos la columna de cantidad de items\n",
    "df_count_items_by_user = pd.merge(df_count_items_by_user, df_user_items.groupby('user_id')['item_id'].count().reset_index(), on='user_id', how='left')\n",
    "#Modificamos el nombre de la columna calculada\n",
    "df_count_items_by_user.rename(columns={\"item_id\": \"count_items\"}, inplace=True)\n",
    "# Reemplaza los valores nulos por ceros \n",
    "df_count_items_by_user['count_items'].fillna(0, inplace=True)\n",
    "# Convierte el tipo de dato de la columna 'perc_recommend' a float\n",
    "df_count_items_by_user['count_items'] = df_count_items_by_user['count_items'].astype(int)\n",
    "#Visualizamos el DF\n",
    "df_count_items_by_user.head()"
   ]
  },
  {
   "cell_type": "markdown",
   "metadata": {},
   "source": [
    "EXPORTAMOS LOS 3 DFs EN formato JSON.GZ"
   ]
  },
  {
   "cell_type": "code",
   "execution_count": 150,
   "metadata": {},
   "outputs": [],
   "source": [
    "#Exportamos los data frame\n",
    "grabarJsonGz(df_spent_by_user,'spent_by_user')\n",
    "grabarJsonGz(df_perc_recommend_by_user,'perc_recommend_by_user')\n",
    "grabarJsonGz(df_count_items_by_user,'count_items_by_user')"
   ]
  },
  {
   "cell_type": "markdown",
   "metadata": {},
   "source": [
    ".\n",
    "\n",
    ".\n",
    "\n",
    "\n",
    "."
   ]
  },
  {
   "cell_type": "markdown",
   "metadata": {},
   "source": [
    "2) **<u>def countreviews( YYYY-MM-DD y YYYY-MM-DD : str ): </u>**\n",
    "\n",
    "    Cantidad de usuarios que realizaron reviews entre las fechas dadas y, \n",
    "    el porcentaje de recomendación de los mismos en base a reviews.recommend."
   ]
  },
  {
   "cell_type": "markdown",
   "metadata": {},
   "source": [
    "CREAREMOS 2 DFs REDUCIDOS (COMO SI FUESEN  VISTAS) para cada solicitud del ENDPOINT\n",
    "\n",
    "df_user_reviews_posted\n",
    "\n",
    "df_perc_recommend_by_user (creado para el Endo Point Anterior)"
   ]
  },
  {
   "cell_type": "code",
   "execution_count": 151,
   "metadata": {},
   "outputs": [
    {
     "data": {
      "text/html": [
       "<div>\n",
       "<style scoped>\n",
       "    .dataframe tbody tr th:only-of-type {\n",
       "        vertical-align: middle;\n",
       "    }\n",
       "\n",
       "    .dataframe tbody tr th {\n",
       "        vertical-align: top;\n",
       "    }\n",
       "\n",
       "    .dataframe thead th {\n",
       "        text-align: right;\n",
       "    }\n",
       "</style>\n",
       "<table border=\"1\" class=\"dataframe\">\n",
       "  <thead>\n",
       "    <tr style=\"text-align: right;\">\n",
       "      <th></th>\n",
       "      <th>user_id</th>\n",
       "      <th>item_id</th>\n",
       "      <th>posted</th>\n",
       "      <th>recommend</th>\n",
       "    </tr>\n",
       "  </thead>\n",
       "  <tbody>\n",
       "    <tr>\n",
       "      <th>0</th>\n",
       "      <td>76561197970982479</td>\n",
       "      <td>1250</td>\n",
       "      <td>2011-11-05</td>\n",
       "      <td>1</td>\n",
       "    </tr>\n",
       "    <tr>\n",
       "      <th>1</th>\n",
       "      <td>76561197970982479</td>\n",
       "      <td>22200</td>\n",
       "      <td>2011-07-15</td>\n",
       "      <td>1</td>\n",
       "    </tr>\n",
       "    <tr>\n",
       "      <th>2</th>\n",
       "      <td>76561197970982479</td>\n",
       "      <td>43110</td>\n",
       "      <td>2011-04-21</td>\n",
       "      <td>1</td>\n",
       "    </tr>\n",
       "    <tr>\n",
       "      <th>3</th>\n",
       "      <td>js41637</td>\n",
       "      <td>251610</td>\n",
       "      <td>2014-06-24</td>\n",
       "      <td>1</td>\n",
       "    </tr>\n",
       "    <tr>\n",
       "      <th>4</th>\n",
       "      <td>js41637</td>\n",
       "      <td>227300</td>\n",
       "      <td>2013-09-08</td>\n",
       "      <td>1</td>\n",
       "    </tr>\n",
       "  </tbody>\n",
       "</table>\n",
       "</div>"
      ],
      "text/plain": [
       "             user_id  item_id      posted  recommend\n",
       "0  76561197970982479     1250  2011-11-05          1\n",
       "1  76561197970982479    22200  2011-07-15          1\n",
       "2  76561197970982479    43110  2011-04-21          1\n",
       "3            js41637   251610  2014-06-24          1\n",
       "4            js41637   227300  2013-09-08          1"
      ]
     },
     "execution_count": 151,
     "metadata": {},
     "output_type": "execute_result"
    }
   ],
   "source": [
    "df_user_reviews_posted = df_user_reviews[['user_id','item_id','posted','recommend']]\n",
    "df_user_reviews_posted.head()"
   ]
  },
  {
   "cell_type": "code",
   "execution_count": 152,
   "metadata": {},
   "outputs": [
    {
     "data": {
      "text/plain": [
       "59305"
      ]
     },
     "execution_count": 152,
     "metadata": {},
     "output_type": "execute_result"
    }
   ],
   "source": [
    "df_user_reviews_posted.shape[0]"
   ]
  },
  {
   "cell_type": "code",
   "execution_count": 153,
   "metadata": {},
   "outputs": [],
   "source": [
    "#Exportamos los data frame\n",
    "grabarJsonGz(df_user_reviews_posted,'user_reviews_posted')"
   ]
  },
  {
   "cell_type": "markdown",
   "metadata": {},
   "source": [
    ".\n",
    "\n",
    ".\n",
    "\n",
    "\n",
    "."
   ]
  },
  {
   "cell_type": "markdown",
   "metadata": {},
   "source": [
    "3) **<u>def genre ( género : str ):</u>**  \n",
    "\n",
    "    Devuelve el puesto en el que se encuentra un género sobre el ranking de los mismos analizado bajo la columna PlayTimeForever."
   ]
  },
  {
   "cell_type": "code",
   "execution_count": 154,
   "metadata": {},
   "outputs": [
    {
     "data": {
      "text/html": [
       "<div>\n",
       "<style scoped>\n",
       "    .dataframe tbody tr th:only-of-type {\n",
       "        vertical-align: middle;\n",
       "    }\n",
       "\n",
       "    .dataframe tbody tr th {\n",
       "        vertical-align: top;\n",
       "    }\n",
       "\n",
       "    .dataframe thead th {\n",
       "        text-align: right;\n",
       "    }\n",
       "</style>\n",
       "<table border=\"1\" class=\"dataframe\">\n",
       "  <thead>\n",
       "    <tr style=\"text-align: right;\">\n",
       "      <th></th>\n",
       "      <th>item_id</th>\n",
       "      <th>playtime_forever</th>\n",
       "    </tr>\n",
       "  </thead>\n",
       "  <tbody>\n",
       "    <tr>\n",
       "      <th>0</th>\n",
       "      <td>10</td>\n",
       "      <td>6.0</td>\n",
       "    </tr>\n",
       "    <tr>\n",
       "      <th>1</th>\n",
       "      <td>20</td>\n",
       "      <td>0.0</td>\n",
       "    </tr>\n",
       "    <tr>\n",
       "      <th>2</th>\n",
       "      <td>30</td>\n",
       "      <td>7.0</td>\n",
       "    </tr>\n",
       "    <tr>\n",
       "      <th>3</th>\n",
       "      <td>40</td>\n",
       "      <td>0.0</td>\n",
       "    </tr>\n",
       "    <tr>\n",
       "      <th>4</th>\n",
       "      <td>50</td>\n",
       "      <td>0.0</td>\n",
       "    </tr>\n",
       "    <tr>\n",
       "      <th>...</th>\n",
       "      <td>...</td>\n",
       "      <td>...</td>\n",
       "    </tr>\n",
       "    <tr>\n",
       "      <th>5110814</th>\n",
       "      <td>373330</td>\n",
       "      <td>0.0</td>\n",
       "    </tr>\n",
       "    <tr>\n",
       "      <th>5110815</th>\n",
       "      <td>388490</td>\n",
       "      <td>3.0</td>\n",
       "    </tr>\n",
       "    <tr>\n",
       "      <th>5110816</th>\n",
       "      <td>521570</td>\n",
       "      <td>4.0</td>\n",
       "    </tr>\n",
       "    <tr>\n",
       "      <th>5110817</th>\n",
       "      <td>519140</td>\n",
       "      <td>3.0</td>\n",
       "    </tr>\n",
       "    <tr>\n",
       "      <th>5110818</th>\n",
       "      <td>-1</td>\n",
       "      <td>0.0</td>\n",
       "    </tr>\n",
       "  </tbody>\n",
       "</table>\n",
       "<p>5110819 rows × 2 columns</p>\n",
       "</div>"
      ],
      "text/plain": [
       "         item_id  playtime_forever\n",
       "0             10               6.0\n",
       "1             20               0.0\n",
       "2             30               7.0\n",
       "3             40               0.0\n",
       "4             50               0.0\n",
       "...          ...               ...\n",
       "5110814   373330               0.0\n",
       "5110815   388490               3.0\n",
       "5110816   521570               4.0\n",
       "5110817   519140               3.0\n",
       "5110818       -1               0.0\n",
       "\n",
       "[5110819 rows x 2 columns]"
      ]
     },
     "execution_count": 154,
     "metadata": {},
     "output_type": "execute_result"
    }
   ],
   "source": [
    "df_user_items[['item_id','playtime_forever']]"
   ]
  },
  {
   "cell_type": "code",
   "execution_count": 155,
   "metadata": {},
   "outputs": [
    {
     "name": "stdout",
     "output_type": "stream",
     "text": [
      "La cantidad máxima de géneros por 'item_id' es: 10\n"
     ]
    }
   ],
   "source": [
    "# Contar la cantidad máxima de géneros por 'item_id'\n",
    "max_genres_count = df_output_steam_json['genres'].str.count(',').max() + 1  # Agregar 1 para contar el primer género\n",
    "\n",
    "print(\"La cantidad máxima de géneros por 'item_id' es:\", max_genres_count)"
   ]
  },
  {
   "cell_type": "code",
   "execution_count": 156,
   "metadata": {},
   "outputs": [
    {
     "data": {
      "text/html": [
       "<div>\n",
       "<style scoped>\n",
       "    .dataframe tbody tr th:only-of-type {\n",
       "        vertical-align: middle;\n",
       "    }\n",
       "\n",
       "    .dataframe tbody tr th {\n",
       "        vertical-align: top;\n",
       "    }\n",
       "\n",
       "    .dataframe thead th {\n",
       "        text-align: right;\n",
       "    }\n",
       "</style>\n",
       "<table border=\"1\" class=\"dataframe\">\n",
       "  <thead>\n",
       "    <tr style=\"text-align: right;\">\n",
       "      <th></th>\n",
       "      <th>item_id</th>\n",
       "      <th>genres</th>\n",
       "      <th>release_date</th>\n",
       "      <th>price</th>\n",
       "      <th>developer</th>\n",
       "      <th>year</th>\n",
       "    </tr>\n",
       "  </thead>\n",
       "  <tbody>\n",
       "  </tbody>\n",
       "</table>\n",
       "</div>"
      ],
      "text/plain": [
       "Empty DataFrame\n",
       "Columns: [item_id, genres, release_date, price, developer, year]\n",
       "Index: []"
      ]
     },
     "execution_count": 156,
     "metadata": {},
     "output_type": "execute_result"
    }
   ],
   "source": [
    "df_output_steam_json[df_output_steam_json['genres'] == '']"
   ]
  },
  {
   "cell_type": "code",
   "execution_count": 157,
   "metadata": {},
   "outputs": [
    {
     "name": "stdout",
     "output_type": "stream",
     "text": [
      "['Simulation', 'Video Production', 'Audio Production', 'Photo Editing', 'Sports', 'Adventure', 'Education', 'Accounting', 'Software Training', 'Indie', 'Utilities', 'Web Publishing', 'Desconocido', 'RPG', 'Action', 'Casual', 'Racing', 'Illustration', 'Modeling', 'Strategy', 'Massively Multiplayer']\n",
      "21\n"
     ]
    }
   ],
   "source": [
    "# Dividir la columna 'genres' en géneros individuales y crear un conjunto de géneros únicos\n",
    "unique_genres_set = set(df_output_steam_json['genres'].str.split(',').explode().str.strip())\n",
    "\n",
    "# Convertir el conjunto de géneros únicos en una lista\n",
    "unique_genres_list = list(unique_genres_set)\n",
    "\n",
    "# Mostrar la lista de géneros únicos\n",
    "print(unique_genres_list)\n",
    "print(len(unique_genres_list))"
   ]
  },
  {
   "cell_type": "code",
   "execution_count": 158,
   "metadata": {},
   "outputs": [
    {
     "data": {
      "text/html": [
       "<div>\n",
       "<style scoped>\n",
       "    .dataframe tbody tr th:only-of-type {\n",
       "        vertical-align: middle;\n",
       "    }\n",
       "\n",
       "    .dataframe tbody tr th {\n",
       "        vertical-align: top;\n",
       "    }\n",
       "\n",
       "    .dataframe thead th {\n",
       "        text-align: right;\n",
       "    }\n",
       "</style>\n",
       "<table border=\"1\" class=\"dataframe\">\n",
       "  <thead>\n",
       "    <tr style=\"text-align: right;\">\n",
       "      <th></th>\n",
       "      <th>genre</th>\n",
       "      <th>playtime_forever</th>\n",
       "    </tr>\n",
       "  </thead>\n",
       "  <tbody>\n",
       "    <tr>\n",
       "      <th>0</th>\n",
       "      <td>Strategy</td>\n",
       "      <td>957670455.0</td>\n",
       "    </tr>\n",
       "    <tr>\n",
       "      <th>1</th>\n",
       "      <td>Indie</td>\n",
       "      <td>767750833.0</td>\n",
       "    </tr>\n",
       "    <tr>\n",
       "      <th>2</th>\n",
       "      <td>Adventure</td>\n",
       "      <td>653948406.0</td>\n",
       "    </tr>\n",
       "    <tr>\n",
       "      <th>3</th>\n",
       "      <td>Casual</td>\n",
       "      <td>554222120.0</td>\n",
       "    </tr>\n",
       "    <tr>\n",
       "      <th>4</th>\n",
       "      <td>Action</td>\n",
       "      <td>277435494.0</td>\n",
       "    </tr>\n",
       "    <tr>\n",
       "      <th>5</th>\n",
       "      <td>Desconocido</td>\n",
       "      <td>158335784.0</td>\n",
       "    </tr>\n",
       "    <tr>\n",
       "      <th>6</th>\n",
       "      <td>Simulation</td>\n",
       "      <td>117841298.0</td>\n",
       "    </tr>\n",
       "    <tr>\n",
       "      <th>7</th>\n",
       "      <td>RPG</td>\n",
       "      <td>71389306.0</td>\n",
       "    </tr>\n",
       "    <tr>\n",
       "      <th>8</th>\n",
       "      <td>Massively Multiplayer</td>\n",
       "      <td>28067218.0</td>\n",
       "    </tr>\n",
       "    <tr>\n",
       "      <th>9</th>\n",
       "      <td>Sports</td>\n",
       "      <td>6582462.0</td>\n",
       "    </tr>\n",
       "  </tbody>\n",
       "</table>\n",
       "</div>"
      ],
      "text/plain": [
       "                   genre  playtime_forever\n",
       "0               Strategy       957670455.0\n",
       "1                  Indie       767750833.0\n",
       "2              Adventure       653948406.0\n",
       "3                 Casual       554222120.0\n",
       "4                 Action       277435494.0\n",
       "5            Desconocido       158335784.0\n",
       "6             Simulation       117841298.0\n",
       "7                    RPG        71389306.0\n",
       "8  Massively Multiplayer        28067218.0\n",
       "9                 Sports         6582462.0"
      ]
     },
     "execution_count": 158,
     "metadata": {},
     "output_type": "execute_result"
    }
   ],
   "source": [
    "# Elimina filas con valores NaN en la columna 'item_id'\n",
    "df_user_items_tmp = df_user_items.dropna(subset=['item_id'])\n",
    "\n",
    "# Asegurarse de que la columna 'item_id' sea de tipo int64\n",
    "df_user_items_tmp.loc[:, 'item_id'] = df_user_items_tmp['item_id'].astype(int)\n",
    "\n",
    "# Paso 1: Dividir la columna 'genres' en géneros individuales\n",
    "df_genres_split = df_output_steam_json['genres'].str.split(',', expand=True).stack().reset_index(level=1, drop=True).rename('genre').str.strip()\n",
    "\n",
    "# Paso 2: Unir los DataFrames utilizando 'item_id'\n",
    "df_merged = df_user_items_tmp.merge(df_genres_split, left_on='item_id', right_index=True)\n",
    "\n",
    "# Paso 3: Calcular el ranking de géneros en función de 'playtime_forever'\n",
    "genre_ranking = df_merged.groupby('genre')['playtime_forever'].sum().reset_index()\n",
    "\n",
    "# Ordenar el DataFrame en función del tiempo total de juego en orden descendente\n",
    "genre_ranking = genre_ranking.sort_values(by='playtime_forever', ascending=False)\n",
    "\n",
    "#Reseteamos indices\n",
    "genre_ranking.reset_index(drop=True, inplace=True)\n",
    "\n",
    "# Mostrar el ranking de géneros\n",
    "genre_ranking.head(10)"
   ]
  },
  {
   "cell_type": "code",
   "execution_count": 159,
   "metadata": {},
   "outputs": [
    {
     "data": {
      "text/plain": [
       "19"
      ]
     },
     "execution_count": 159,
     "metadata": {},
     "output_type": "execute_result"
    }
   ],
   "source": [
    "genre_ranking.shape[0]"
   ]
  },
  {
   "cell_type": "code",
   "execution_count": 160,
   "metadata": {},
   "outputs": [
    {
     "data": {
      "text/plain": [
       "array(['Strategy', 'Indie', 'Adventure', 'Casual', 'Action',\n",
       "       'Desconocido', 'Simulation', 'RPG', 'Massively Multiplayer',\n",
       "       'Sports', 'Racing', 'Illustration', 'Modeling', 'Web Publishing',\n",
       "       'Education', 'Software Training', 'Utilities', 'Audio Production',\n",
       "       'Photo Editing'], dtype=object)"
      ]
     },
     "execution_count": 160,
     "metadata": {},
     "output_type": "execute_result"
    }
   ],
   "source": [
    "genre_ranking['genre'].unique()"
   ]
  },
  {
   "cell_type": "code",
   "execution_count": 161,
   "metadata": {},
   "outputs": [],
   "source": [
    "#Creamos un DF vacio\n",
    "df_genre_ranking = pd.DataFrame()\n",
    "\n",
    "# Reiniciar el índice y agregar una nueva columna de ranking\n",
    "df_genre_ranking = genre_ranking[['genre']].reset_index(drop=True)\n",
    "\n",
    "# Renombrar la columna de ranking\n",
    "df_genre_ranking.rename(columns={'index': 'ranking'}, inplace=True)\n"
   ]
  },
  {
   "cell_type": "code",
   "execution_count": 162,
   "metadata": {},
   "outputs": [],
   "source": [
    "#Exportamos los data frame\n",
    "grabarJsonGz(df_genre_ranking,'genre_ranking')"
   ]
  },
  {
   "cell_type": "markdown",
   "metadata": {},
   "source": [
    ".\n",
    "\n",
    ".\n",
    "\n",
    "."
   ]
  },
  {
   "cell_type": "markdown",
   "metadata": {},
   "source": [
    "4) **<u>def userforgenre ( género : str ):</u>**  \n",
    "\n",
    "    Top 5 de usuarios con más horas de juego en el género dado, con su URL (del user) y user_id."
   ]
  },
  {
   "cell_type": "code",
   "execution_count": 163,
   "metadata": {},
   "outputs": [
    {
     "data": {
      "text/html": [
       "<div>\n",
       "<style scoped>\n",
       "    .dataframe tbody tr th:only-of-type {\n",
       "        vertical-align: middle;\n",
       "    }\n",
       "\n",
       "    .dataframe tbody tr th {\n",
       "        vertical-align: top;\n",
       "    }\n",
       "\n",
       "    .dataframe thead th {\n",
       "        text-align: right;\n",
       "    }\n",
       "</style>\n",
       "<table border=\"1\" class=\"dataframe\">\n",
       "  <thead>\n",
       "    <tr style=\"text-align: right;\">\n",
       "      <th></th>\n",
       "      <th>genres</th>\n",
       "      <th>user_id</th>\n",
       "      <th>item_id</th>\n",
       "      <th>playtime_forever</th>\n",
       "      <th>user_url</th>\n",
       "    </tr>\n",
       "  </thead>\n",
       "  <tbody>\n",
       "    <tr>\n",
       "      <th>0</th>\n",
       "      <td>Action</td>\n",
       "      <td>76561197970982479</td>\n",
       "      <td>10</td>\n",
       "      <td>6.0</td>\n",
       "      <td>http://steamcommunity.com/profiles/76561197970...</td>\n",
       "    </tr>\n",
       "    <tr>\n",
       "      <th>0</th>\n",
       "      <td>Indie</td>\n",
       "      <td>76561197970982479</td>\n",
       "      <td>10</td>\n",
       "      <td>6.0</td>\n",
       "      <td>http://steamcommunity.com/profiles/76561197970...</td>\n",
       "    </tr>\n",
       "    <tr>\n",
       "      <th>0</th>\n",
       "      <td>Simulation</td>\n",
       "      <td>76561197970982479</td>\n",
       "      <td>10</td>\n",
       "      <td>6.0</td>\n",
       "      <td>http://steamcommunity.com/profiles/76561197970...</td>\n",
       "    </tr>\n",
       "    <tr>\n",
       "      <th>277</th>\n",
       "      <td>Action</td>\n",
       "      <td>js41637</td>\n",
       "      <td>10</td>\n",
       "      <td>0.0</td>\n",
       "      <td>http://steamcommunity.com/id/js41637</td>\n",
       "    </tr>\n",
       "    <tr>\n",
       "      <th>277</th>\n",
       "      <td>Indie</td>\n",
       "      <td>js41637</td>\n",
       "      <td>10</td>\n",
       "      <td>0.0</td>\n",
       "      <td>http://steamcommunity.com/id/js41637</td>\n",
       "    </tr>\n",
       "  </tbody>\n",
       "</table>\n",
       "</div>"
      ],
      "text/plain": [
       "         genres            user_id  item_id  playtime_forever  \\\n",
       "0        Action  76561197970982479       10               6.0   \n",
       "0         Indie  76561197970982479       10               6.0   \n",
       "0    Simulation  76561197970982479       10               6.0   \n",
       "277      Action            js41637       10               0.0   \n",
       "277       Indie            js41637       10               0.0   \n",
       "\n",
       "                                              user_url  \n",
       "0    http://steamcommunity.com/profiles/76561197970...  \n",
       "0    http://steamcommunity.com/profiles/76561197970...  \n",
       "0    http://steamcommunity.com/profiles/76561197970...  \n",
       "277               http://steamcommunity.com/id/js41637  \n",
       "277               http://steamcommunity.com/id/js41637  "
      ]
     },
     "execution_count": 163,
     "metadata": {},
     "output_type": "execute_result"
    }
   ],
   "source": [
    "# Dividir la columna genres en múltiples filas\n",
    "df_genres_split = df_output_steam_json['genres'].str.split(',').explode().str.strip()\n",
    "\n",
    "# Unir los DataFrames para obtener toda la información necesaria\n",
    "df_user_genre_ranking = df_user_items.merge(df_genres_split.to_frame(), left_on='item_id', right_index=True)\n",
    "\n",
    "#Seleccionamos columnas\n",
    "df_user_genre_ranking = df_user_genre_ranking.drop(columns=['items_count', 'steam_id', 'item_name', 'playtime_2weeks'])\n",
    "#Reordenamos las columnas\n",
    "df_user_genre_ranking = df_user_genre_ranking[['genres', 'user_id', 'item_id', 'playtime_forever', 'user_url']]\n",
    "\n",
    "#Visualizamos\n",
    "df_user_genre_ranking.head()"
   ]
  },
  {
   "cell_type": "code",
   "execution_count": 164,
   "metadata": {},
   "outputs": [],
   "source": [
    "#Exportamos los data frame\n",
    "grabarJsonGz(df_user_genre_ranking,'user_genre_ranking')"
   ]
  },
  {
   "cell_type": "markdown",
   "metadata": {},
   "source": [
    ".\n",
    "\n",
    ".\n",
    "\n",
    "."
   ]
  },
  {
   "cell_type": "markdown",
   "metadata": {},
   "source": [
    "5) **<u>def developer( desarrollador : str ): </u>**  \n",
    "\n",
    "    Cantidad de items y porcentaje de contenido Free por año según empresa desarrolladora. Ejemplo de salida:"
   ]
  },
  {
   "cell_type": "code",
   "execution_count": 165,
   "metadata": {},
   "outputs": [
    {
     "data": {
      "text/html": [
       "<div>\n",
       "<style scoped>\n",
       "    .dataframe tbody tr th:only-of-type {\n",
       "        vertical-align: middle;\n",
       "    }\n",
       "\n",
       "    .dataframe tbody tr th {\n",
       "        vertical-align: top;\n",
       "    }\n",
       "\n",
       "    .dataframe thead th {\n",
       "        text-align: right;\n",
       "    }\n",
       "</style>\n",
       "<table border=\"1\" class=\"dataframe\">\n",
       "  <thead>\n",
       "    <tr style=\"text-align: right;\">\n",
       "      <th></th>\n",
       "      <th>developer</th>\n",
       "      <th>year</th>\n",
       "      <th>items_count</th>\n",
       "      <th>free_content</th>\n",
       "    </tr>\n",
       "  </thead>\n",
       "  <tbody>\n",
       "    <tr>\n",
       "      <th>0</th>\n",
       "      <td>+7 Software</td>\n",
       "      <td>2016</td>\n",
       "      <td>1</td>\n",
       "      <td>0.0</td>\n",
       "    </tr>\n",
       "    <tr>\n",
       "      <th>1</th>\n",
       "      <td>+Mpact Games, LLC.</td>\n",
       "      <td>2017</td>\n",
       "      <td>1</td>\n",
       "      <td>0.0</td>\n",
       "    </tr>\n",
       "    <tr>\n",
       "      <th>2</th>\n",
       "      <td>.M.Y.W.</td>\n",
       "      <td>2016</td>\n",
       "      <td>1</td>\n",
       "      <td>0.0</td>\n",
       "    </tr>\n",
       "    <tr>\n",
       "      <th>3</th>\n",
       "      <td>.ez Games</td>\n",
       "      <td>2017</td>\n",
       "      <td>1</td>\n",
       "      <td>0.0</td>\n",
       "    </tr>\n",
       "    <tr>\n",
       "      <th>4</th>\n",
       "      <td>07th Expansion</td>\n",
       "      <td>2015</td>\n",
       "      <td>2</td>\n",
       "      <td>0.0</td>\n",
       "    </tr>\n",
       "  </tbody>\n",
       "</table>\n",
       "</div>"
      ],
      "text/plain": [
       "            developer  year  items_count  free_content\n",
       "0         +7 Software  2016            1           0.0\n",
       "1  +Mpact Games, LLC.  2017            1           0.0\n",
       "2             .M.Y.W.  2016            1           0.0\n",
       "3           .ez Games  2017            1           0.0\n",
       "4      07th Expansion  2015            2           0.0"
      ]
     },
     "execution_count": 165,
     "metadata": {},
     "output_type": "execute_result"
    }
   ],
   "source": [
    "# Crear un nuevo DataFrame con el nombre df_output_steam_tmp copiando df_output_steam_json\n",
    "df_output_steam_tmp = df_output_steam_json.copy()\n",
    "\n",
    "# Extraer el año de la columna 'release_date'\n",
    "df_output_steam_tmp['year'] = df_output_steam_tmp['release_date'].str[:4]\n",
    "\n",
    "# Convertir la columna 'year' a tipo numérico\n",
    "df_output_steam_tmp['year'] = pd.to_numeric(df_output_steam_tmp['year'], errors='coerce')\n",
    "\n",
    "# Filtrar los registros con año igual a 1900\n",
    "df_output_steam_tmp = df_output_steam_tmp[df_output_steam_tmp['year'] != 1900]\n",
    "\n",
    "# Calcular 'items_count' por desarrollador y año\n",
    "developer_items_count = df_output_steam_tmp.groupby(['developer', 'year'])['item_id'].count().reset_index()\n",
    "developer_items_count.rename(columns={'item_id': 'items_count'}, inplace=True)\n",
    "\n",
    "# Calcular 'free_content' por desarrollador y año\n",
    "developer_free_games = df_output_steam_tmp[df_output_steam_tmp['price'] == 0].groupby(['developer', 'year'])['item_id'].count().reset_index()\n",
    "developer_free_games.rename(columns={'item_id': 'free_count'}, inplace=True)\n",
    "\n",
    "# Combinar los DataFrames para calcular el porcentaje\n",
    "df_content_developer = developer_items_count.merge(developer_free_games, on=['developer', 'year'], how='left')\n",
    "df_content_developer['free_content'] = (df_content_developer['free_count'] / df_content_developer['items_count']) * 100\n",
    "df_content_developer.drop(columns=['free_count'], inplace=True)\n",
    "\n",
    "#Si no encuentra elementos con precio 0, ese registro va a quedar con Nan cuando deberia ser cero.\n",
    "df_content_developer['free_content'].fillna(0, inplace=True)\n",
    "\n",
    "# Visualizamos\n",
    "df_content_developer.head()"
   ]
  },
  {
   "cell_type": "code",
   "execution_count": 166,
   "metadata": {},
   "outputs": [],
   "source": [
    "#Exportamos los data frame\n",
    "grabarJsonGz(df_content_developer,'content_developer')"
   ]
  },
  {
   "cell_type": "markdown",
   "metadata": {},
   "source": [
    ".\n",
    "\n",
    ".\n",
    "\n",
    "."
   ]
  },
  {
   "cell_type": "markdown",
   "metadata": {},
   "source": [
    "6) **<u>def sentiment_analysis( año : int ): </u>**  \n",
    "\n",
    "    Según el año de lanzamiento, se devuelve una lista con la cantidad de registros de reseñas de usuarios que se encuentren categorizados con un análisis de sentimiento."
   ]
  },
  {
   "cell_type": "code",
   "execution_count": 167,
   "metadata": {},
   "outputs": [],
   "source": [
    "# Crear el DataFrame df_review_year con la columna 'year'\n",
    "df_reviews_year = df_output_steam_json[['year']].drop_duplicates().copy()\n",
    "\n",
    "# Agrupa y suma los valores de sentiment_analysis en df_user_reviews por año\n",
    "sentiment_year = df_user_reviews.groupby(['year', 'sentiment_analysis'])['sentiment_analysis'].count().unstack(fill_value=0).reset_index()\n",
    "\n",
    "# Agregar las columnas 'Negativos', 'Neutros' y 'Positivos' en df_review_year\n",
    "df_reviews_year = df_reviews_year.merge(sentiment_year, on='year', how='left')\n",
    "\n",
    "# Cambiar los nombres de las columnas para mayor claridad\n",
    "df_reviews_year.rename(columns={0: 'Negativos', 1: 'Neutros', 2: 'Positivos'}, inplace=True)\n",
    "\n",
    "# Llenar NaN con 0 en las columnas 'Negativos', 'Neutros' y 'Positivos'\n",
    "df_reviews_year.fillna(0, inplace=True)\n",
    "\n",
    "# Convertir las columnas 'Negativos', 'Positivos' y 'Neutros' a enteros\n",
    "df_reviews_year['Negativos'] = df_reviews_year['Negativos'].astype(int)\n",
    "df_reviews_year['Positivos'] = df_reviews_year['Positivos'].astype(int)\n",
    "df_reviews_year['Neutros']   = df_reviews_year['Neutros'].astype(int)"
   ]
  },
  {
   "cell_type": "code",
   "execution_count": 168,
   "metadata": {},
   "outputs": [
    {
     "data": {
      "text/plain": [
       "(44, 4)"
      ]
     },
     "execution_count": 168,
     "metadata": {},
     "output_type": "execute_result"
    }
   ],
   "source": [
    "df_reviews_year.shape"
   ]
  },
  {
   "cell_type": "code",
   "execution_count": 169,
   "metadata": {},
   "outputs": [
    {
     "data": {
      "text/html": [
       "<div>\n",
       "<style scoped>\n",
       "    .dataframe tbody tr th:only-of-type {\n",
       "        vertical-align: middle;\n",
       "    }\n",
       "\n",
       "    .dataframe tbody tr th {\n",
       "        vertical-align: top;\n",
       "    }\n",
       "\n",
       "    .dataframe thead th {\n",
       "        text-align: right;\n",
       "    }\n",
       "</style>\n",
       "<table border=\"1\" class=\"dataframe\">\n",
       "  <thead>\n",
       "    <tr style=\"text-align: right;\">\n",
       "      <th></th>\n",
       "      <th>year</th>\n",
       "      <th>Negativos</th>\n",
       "      <th>Neutros</th>\n",
       "      <th>Positivos</th>\n",
       "    </tr>\n",
       "  </thead>\n",
       "  <tbody>\n",
       "    <tr>\n",
       "      <th>0</th>\n",
       "      <td>2018</td>\n",
       "      <td>0</td>\n",
       "      <td>0</td>\n",
       "      <td>0</td>\n",
       "    </tr>\n",
       "    <tr>\n",
       "      <th>1</th>\n",
       "      <td>2017</td>\n",
       "      <td>0</td>\n",
       "      <td>0</td>\n",
       "      <td>0</td>\n",
       "    </tr>\n",
       "    <tr>\n",
       "      <th>2</th>\n",
       "      <td>1900</td>\n",
       "      <td>1000</td>\n",
       "      <td>6569</td>\n",
       "      <td>2550</td>\n",
       "    </tr>\n",
       "    <tr>\n",
       "      <th>3</th>\n",
       "      <td>1997</td>\n",
       "      <td>0</td>\n",
       "      <td>0</td>\n",
       "      <td>0</td>\n",
       "    </tr>\n",
       "    <tr>\n",
       "      <th>4</th>\n",
       "      <td>1998</td>\n",
       "      <td>0</td>\n",
       "      <td>0</td>\n",
       "      <td>0</td>\n",
       "    </tr>\n",
       "    <tr>\n",
       "      <th>5</th>\n",
       "      <td>2016</td>\n",
       "      <td>0</td>\n",
       "      <td>0</td>\n",
       "      <td>0</td>\n",
       "    </tr>\n",
       "    <tr>\n",
       "      <th>6</th>\n",
       "      <td>2006</td>\n",
       "      <td>0</td>\n",
       "      <td>0</td>\n",
       "      <td>0</td>\n",
       "    </tr>\n",
       "    <tr>\n",
       "      <th>7</th>\n",
       "      <td>2005</td>\n",
       "      <td>0</td>\n",
       "      <td>0</td>\n",
       "      <td>0</td>\n",
       "    </tr>\n",
       "    <tr>\n",
       "      <th>8</th>\n",
       "      <td>2003</td>\n",
       "      <td>0</td>\n",
       "      <td>0</td>\n",
       "      <td>0</td>\n",
       "    </tr>\n",
       "    <tr>\n",
       "      <th>9</th>\n",
       "      <td>2007</td>\n",
       "      <td>0</td>\n",
       "      <td>0</td>\n",
       "      <td>0</td>\n",
       "    </tr>\n",
       "    <tr>\n",
       "      <th>10</th>\n",
       "      <td>2002</td>\n",
       "      <td>0</td>\n",
       "      <td>0</td>\n",
       "      <td>0</td>\n",
       "    </tr>\n",
       "    <tr>\n",
       "      <th>11</th>\n",
       "      <td>2000</td>\n",
       "      <td>0</td>\n",
       "      <td>0</td>\n",
       "      <td>0</td>\n",
       "    </tr>\n",
       "    <tr>\n",
       "      <th>12</th>\n",
       "      <td>1995</td>\n",
       "      <td>0</td>\n",
       "      <td>0</td>\n",
       "      <td>0</td>\n",
       "    </tr>\n",
       "    <tr>\n",
       "      <th>13</th>\n",
       "      <td>1996</td>\n",
       "      <td>0</td>\n",
       "      <td>0</td>\n",
       "      <td>0</td>\n",
       "    </tr>\n",
       "    <tr>\n",
       "      <th>14</th>\n",
       "      <td>1994</td>\n",
       "      <td>0</td>\n",
       "      <td>0</td>\n",
       "      <td>0</td>\n",
       "    </tr>\n",
       "    <tr>\n",
       "      <th>15</th>\n",
       "      <td>2001</td>\n",
       "      <td>0</td>\n",
       "      <td>0</td>\n",
       "      <td>0</td>\n",
       "    </tr>\n",
       "    <tr>\n",
       "      <th>16</th>\n",
       "      <td>1993</td>\n",
       "      <td>0</td>\n",
       "      <td>0</td>\n",
       "      <td>0</td>\n",
       "    </tr>\n",
       "    <tr>\n",
       "      <th>17</th>\n",
       "      <td>2004</td>\n",
       "      <td>0</td>\n",
       "      <td>0</td>\n",
       "      <td>0</td>\n",
       "    </tr>\n",
       "    <tr>\n",
       "      <th>18</th>\n",
       "      <td>1999</td>\n",
       "      <td>0</td>\n",
       "      <td>0</td>\n",
       "      <td>0</td>\n",
       "    </tr>\n",
       "    <tr>\n",
       "      <th>19</th>\n",
       "      <td>2008</td>\n",
       "      <td>0</td>\n",
       "      <td>0</td>\n",
       "      <td>0</td>\n",
       "    </tr>\n",
       "  </tbody>\n",
       "</table>\n",
       "</div>"
      ],
      "text/plain": [
       "    year  Negativos  Neutros  Positivos\n",
       "0   2018          0        0          0\n",
       "1   2017          0        0          0\n",
       "2   1900       1000     6569       2550\n",
       "3   1997          0        0          0\n",
       "4   1998          0        0          0\n",
       "5   2016          0        0          0\n",
       "6   2006          0        0          0\n",
       "7   2005          0        0          0\n",
       "8   2003          0        0          0\n",
       "9   2007          0        0          0\n",
       "10  2002          0        0          0\n",
       "11  2000          0        0          0\n",
       "12  1995          0        0          0\n",
       "13  1996          0        0          0\n",
       "14  1994          0        0          0\n",
       "15  2001          0        0          0\n",
       "16  1993          0        0          0\n",
       "17  2004          0        0          0\n",
       "18  1999          0        0          0\n",
       "19  2008          0        0          0"
      ]
     },
     "execution_count": 169,
     "metadata": {},
     "output_type": "execute_result"
    }
   ],
   "source": [
    "df_reviews_year.head(20)"
   ]
  },
  {
   "cell_type": "code",
   "execution_count": 170,
   "metadata": {},
   "outputs": [
    {
     "data": {
      "text/html": [
       "<div>\n",
       "<style scoped>\n",
       "    .dataframe tbody tr th:only-of-type {\n",
       "        vertical-align: middle;\n",
       "    }\n",
       "\n",
       "    .dataframe tbody tr th {\n",
       "        vertical-align: top;\n",
       "    }\n",
       "\n",
       "    .dataframe thead th {\n",
       "        text-align: right;\n",
       "    }\n",
       "</style>\n",
       "<table border=\"1\" class=\"dataframe\">\n",
       "  <thead>\n",
       "    <tr style=\"text-align: right;\">\n",
       "      <th></th>\n",
       "      <th>year</th>\n",
       "      <th>Negativos</th>\n",
       "      <th>Neutros</th>\n",
       "      <th>Positivos</th>\n",
       "    </tr>\n",
       "  </thead>\n",
       "  <tbody>\n",
       "    <tr>\n",
       "      <th>2</th>\n",
       "      <td>1900</td>\n",
       "      <td>1000</td>\n",
       "      <td>6569</td>\n",
       "      <td>2550</td>\n",
       "    </tr>\n",
       "    <tr>\n",
       "      <th>23</th>\n",
       "      <td>2010</td>\n",
       "      <td>4</td>\n",
       "      <td>37</td>\n",
       "      <td>25</td>\n",
       "    </tr>\n",
       "    <tr>\n",
       "      <th>24</th>\n",
       "      <td>2011</td>\n",
       "      <td>41</td>\n",
       "      <td>269</td>\n",
       "      <td>222</td>\n",
       "    </tr>\n",
       "    <tr>\n",
       "      <th>25</th>\n",
       "      <td>2013</td>\n",
       "      <td>484</td>\n",
       "      <td>3883</td>\n",
       "      <td>2425</td>\n",
       "    </tr>\n",
       "    <tr>\n",
       "      <th>26</th>\n",
       "      <td>2012</td>\n",
       "      <td>80</td>\n",
       "      <td>638</td>\n",
       "      <td>497</td>\n",
       "    </tr>\n",
       "  </tbody>\n",
       "</table>\n",
       "</div>"
      ],
      "text/plain": [
       "    year  Negativos  Neutros  Positivos\n",
       "2   1900       1000     6569       2550\n",
       "23  2010          4       37         25\n",
       "24  2011         41      269        222\n",
       "25  2013        484     3883       2425\n",
       "26  2012         80      638        497"
      ]
     },
     "execution_count": 170,
     "metadata": {},
     "output_type": "execute_result"
    }
   ],
   "source": [
    "df_reviews_year[(df_reviews_year['Negativos'] != 0) | (df_reviews_year['Positivos'] != 0) | (df_reviews_year['Neutros'] != 0)].head()"
   ]
  },
  {
   "cell_type": "code",
   "execution_count": 171,
   "metadata": {},
   "outputs": [
    {
     "data": {
      "text/plain": [
       "array([1900, 2010, 2011, 2013, 2012, 2014, 2015], dtype=int64)"
      ]
     },
     "execution_count": 171,
     "metadata": {},
     "output_type": "execute_result"
    }
   ],
   "source": [
    "#Años con reviews\n",
    "df_reviews_year[(df_reviews_year['Negativos'] != 0) | (df_reviews_year['Positivos'] != 0) | (df_reviews_year['Neutros'] != 0)]['year'].unique()"
   ]
  },
  {
   "cell_type": "code",
   "execution_count": 172,
   "metadata": {},
   "outputs": [],
   "source": [
    "#Exportamos los data frame\n",
    "grabarJsonGz(df_reviews_year,'reviews_year')"
   ]
  },
  {
   "cell_type": "markdown",
   "metadata": {},
   "source": [
    ".\n",
    "\n",
    ".\n",
    "\n",
    ".\n",
    "\n",
    "."
   ]
  },
  {
   "cell_type": "markdown",
   "metadata": {},
   "source": [
    "# MACHINE LEARNING"
   ]
  },
  {
   "cell_type": "code",
   "execution_count": 173,
   "metadata": {},
   "outputs": [],
   "source": [
    "from surprise import Dataset, Reader, KNNBasic\n",
    "from surprise.model_selection import train_test_split\n",
    "from surprise import accuracy\n",
    "import random"
   ]
  },
  {
   "cell_type": "markdown",
   "metadata": {},
   "source": [
    "sistema de recomendación item-item "
   ]
  },
  {
   "cell_type": "code",
   "execution_count": 174,
   "metadata": {},
   "outputs": [
    {
     "data": {
      "text/html": [
       "<div>\n",
       "<style scoped>\n",
       "    .dataframe tbody tr th:only-of-type {\n",
       "        vertical-align: middle;\n",
       "    }\n",
       "\n",
       "    .dataframe tbody tr th {\n",
       "        vertical-align: top;\n",
       "    }\n",
       "\n",
       "    .dataframe thead th {\n",
       "        text-align: right;\n",
       "    }\n",
       "</style>\n",
       "<table border=\"1\" class=\"dataframe\">\n",
       "  <thead>\n",
       "    <tr style=\"text-align: right;\">\n",
       "      <th></th>\n",
       "      <th>item_id</th>\n",
       "      <th>genres</th>\n",
       "      <th>release_date</th>\n",
       "      <th>price</th>\n",
       "      <th>developer</th>\n",
       "      <th>year</th>\n",
       "    </tr>\n",
       "  </thead>\n",
       "  <tbody>\n",
       "    <tr>\n",
       "      <th>0</th>\n",
       "      <td>761140</td>\n",
       "      <td>Action, Casual, Indie, Simulation, Strategy</td>\n",
       "      <td>2018-01-04</td>\n",
       "      <td>4.99</td>\n",
       "      <td>Kotoshiro</td>\n",
       "      <td>2018</td>\n",
       "    </tr>\n",
       "    <tr>\n",
       "      <th>1</th>\n",
       "      <td>643980</td>\n",
       "      <td>Indie, RPG, Strategy</td>\n",
       "      <td>2018-01-04</td>\n",
       "      <td>0.00</td>\n",
       "      <td>Secret Level SRL</td>\n",
       "      <td>2018</td>\n",
       "    </tr>\n",
       "    <tr>\n",
       "      <th>2</th>\n",
       "      <td>670290</td>\n",
       "      <td>Casual, Indie, Simulation, Sports</td>\n",
       "      <td>2017-07-24</td>\n",
       "      <td>0.00</td>\n",
       "      <td>Poolians.com</td>\n",
       "      <td>2017</td>\n",
       "    </tr>\n",
       "    <tr>\n",
       "      <th>3</th>\n",
       "      <td>767400</td>\n",
       "      <td>Action, Adventure, Casual</td>\n",
       "      <td>2017-12-07</td>\n",
       "      <td>0.99</td>\n",
       "      <td>彼岸领域</td>\n",
       "      <td>2017</td>\n",
       "    </tr>\n",
       "    <tr>\n",
       "      <th>4</th>\n",
       "      <td>773570</td>\n",
       "      <td>Desconocido</td>\n",
       "      <td>1900-01-01</td>\n",
       "      <td>2.99</td>\n",
       "      <td>Desconocido</td>\n",
       "      <td>1900</td>\n",
       "    </tr>\n",
       "  </tbody>\n",
       "</table>\n",
       "</div>"
      ],
      "text/plain": [
       "   item_id                                       genres release_date  price  \\\n",
       "0   761140  Action, Casual, Indie, Simulation, Strategy   2018-01-04   4.99   \n",
       "1   643980                         Indie, RPG, Strategy   2018-01-04   0.00   \n",
       "2   670290            Casual, Indie, Simulation, Sports   2017-07-24   0.00   \n",
       "3   767400                    Action, Adventure, Casual   2017-12-07   0.99   \n",
       "4   773570                                  Desconocido   1900-01-01   2.99   \n",
       "\n",
       "          developer  year  \n",
       "0         Kotoshiro  2018  \n",
       "1  Secret Level SRL  2018  \n",
       "2      Poolians.com  2017  \n",
       "3              彼岸领域  2017  \n",
       "4       Desconocido  1900  "
      ]
     },
     "execution_count": 174,
     "metadata": {},
     "output_type": "execute_result"
    }
   ],
   "source": [
    "df_output_steam_json.head()"
   ]
  },
  {
   "cell_type": "code",
   "execution_count": 175,
   "metadata": {},
   "outputs": [
    {
     "data": {
      "text/html": [
       "<div>\n",
       "<style scoped>\n",
       "    .dataframe tbody tr th:only-of-type {\n",
       "        vertical-align: middle;\n",
       "    }\n",
       "\n",
       "    .dataframe tbody tr th {\n",
       "        vertical-align: top;\n",
       "    }\n",
       "\n",
       "    .dataframe thead th {\n",
       "        text-align: right;\n",
       "    }\n",
       "</style>\n",
       "<table border=\"1\" class=\"dataframe\">\n",
       "  <thead>\n",
       "    <tr style=\"text-align: right;\">\n",
       "      <th></th>\n",
       "      <th>user_id</th>\n",
       "      <th>posted</th>\n",
       "      <th>item_id</th>\n",
       "      <th>recommend</th>\n",
       "      <th>review</th>\n",
       "      <th>year</th>\n",
       "      <th>sentiment_analysis</th>\n",
       "    </tr>\n",
       "  </thead>\n",
       "  <tbody>\n",
       "    <tr>\n",
       "      <th>0</th>\n",
       "      <td>76561197970982479</td>\n",
       "      <td>2011-11-05</td>\n",
       "      <td>1250</td>\n",
       "      <td>1</td>\n",
       "      <td>Simple yet with great replayability. In my opi...</td>\n",
       "      <td>2011</td>\n",
       "      <td>1</td>\n",
       "    </tr>\n",
       "    <tr>\n",
       "      <th>1</th>\n",
       "      <td>76561197970982479</td>\n",
       "      <td>2011-07-15</td>\n",
       "      <td>22200</td>\n",
       "      <td>1</td>\n",
       "      <td>It's unique and worth a playthrough.</td>\n",
       "      <td>2011</td>\n",
       "      <td>2</td>\n",
       "    </tr>\n",
       "    <tr>\n",
       "      <th>2</th>\n",
       "      <td>76561197970982479</td>\n",
       "      <td>2011-04-21</td>\n",
       "      <td>43110</td>\n",
       "      <td>1</td>\n",
       "      <td>Great atmosphere. The gunplay can be a bit chu...</td>\n",
       "      <td>2011</td>\n",
       "      <td>1</td>\n",
       "    </tr>\n",
       "    <tr>\n",
       "      <th>3</th>\n",
       "      <td>js41637</td>\n",
       "      <td>2014-06-24</td>\n",
       "      <td>251610</td>\n",
       "      <td>1</td>\n",
       "      <td>I know what you think when you see this title ...</td>\n",
       "      <td>2014</td>\n",
       "      <td>1</td>\n",
       "    </tr>\n",
       "    <tr>\n",
       "      <th>4</th>\n",
       "      <td>js41637</td>\n",
       "      <td>2013-09-08</td>\n",
       "      <td>227300</td>\n",
       "      <td>1</td>\n",
       "      <td>For a simple (it's actually not all that simpl...</td>\n",
       "      <td>2013</td>\n",
       "      <td>1</td>\n",
       "    </tr>\n",
       "  </tbody>\n",
       "</table>\n",
       "</div>"
      ],
      "text/plain": [
       "             user_id      posted  item_id  recommend  \\\n",
       "0  76561197970982479  2011-11-05     1250          1   \n",
       "1  76561197970982479  2011-07-15    22200          1   \n",
       "2  76561197970982479  2011-04-21    43110          1   \n",
       "3            js41637  2014-06-24   251610          1   \n",
       "4            js41637  2013-09-08   227300          1   \n",
       "\n",
       "                                              review  year  sentiment_analysis  \n",
       "0  Simple yet with great replayability. In my opi...  2011                   1  \n",
       "1               It's unique and worth a playthrough.  2011                   2  \n",
       "2  Great atmosphere. The gunplay can be a bit chu...  2011                   1  \n",
       "3  I know what you think when you see this title ...  2014                   1  \n",
       "4  For a simple (it's actually not all that simpl...  2013                   1  "
      ]
     },
     "execution_count": 175,
     "metadata": {},
     "output_type": "execute_result"
    }
   ],
   "source": [
    "df_user_reviews.head()"
   ]
  },
  {
   "cell_type": "code",
   "execution_count": 176,
   "metadata": {},
   "outputs": [
    {
     "data": {
      "text/html": [
       "<div>\n",
       "<style scoped>\n",
       "    .dataframe tbody tr th:only-of-type {\n",
       "        vertical-align: middle;\n",
       "    }\n",
       "\n",
       "    .dataframe tbody tr th {\n",
       "        vertical-align: top;\n",
       "    }\n",
       "\n",
       "    .dataframe thead th {\n",
       "        text-align: right;\n",
       "    }\n",
       "</style>\n",
       "<table border=\"1\" class=\"dataframe\">\n",
       "  <thead>\n",
       "    <tr style=\"text-align: right;\">\n",
       "      <th></th>\n",
       "      <th>user_id</th>\n",
       "      <th>items_count</th>\n",
       "      <th>steam_id</th>\n",
       "      <th>user_url</th>\n",
       "      <th>item_id</th>\n",
       "      <th>item_name</th>\n",
       "      <th>playtime_forever</th>\n",
       "      <th>playtime_2weeks</th>\n",
       "    </tr>\n",
       "  </thead>\n",
       "  <tbody>\n",
       "    <tr>\n",
       "      <th>0</th>\n",
       "      <td>76561197970982479</td>\n",
       "      <td>277</td>\n",
       "      <td>76561197970982479</td>\n",
       "      <td>http://steamcommunity.com/profiles/76561197970...</td>\n",
       "      <td>10</td>\n",
       "      <td>Counter-Strike</td>\n",
       "      <td>6.0</td>\n",
       "      <td>0.0</td>\n",
       "    </tr>\n",
       "    <tr>\n",
       "      <th>1</th>\n",
       "      <td>76561197970982479</td>\n",
       "      <td>277</td>\n",
       "      <td>76561197970982479</td>\n",
       "      <td>http://steamcommunity.com/profiles/76561197970...</td>\n",
       "      <td>20</td>\n",
       "      <td>Team Fortress Classic</td>\n",
       "      <td>0.0</td>\n",
       "      <td>0.0</td>\n",
       "    </tr>\n",
       "    <tr>\n",
       "      <th>2</th>\n",
       "      <td>76561197970982479</td>\n",
       "      <td>277</td>\n",
       "      <td>76561197970982479</td>\n",
       "      <td>http://steamcommunity.com/profiles/76561197970...</td>\n",
       "      <td>30</td>\n",
       "      <td>Day of Defeat</td>\n",
       "      <td>7.0</td>\n",
       "      <td>0.0</td>\n",
       "    </tr>\n",
       "    <tr>\n",
       "      <th>3</th>\n",
       "      <td>76561197970982479</td>\n",
       "      <td>277</td>\n",
       "      <td>76561197970982479</td>\n",
       "      <td>http://steamcommunity.com/profiles/76561197970...</td>\n",
       "      <td>40</td>\n",
       "      <td>Deathmatch Classic</td>\n",
       "      <td>0.0</td>\n",
       "      <td>0.0</td>\n",
       "    </tr>\n",
       "    <tr>\n",
       "      <th>4</th>\n",
       "      <td>76561197970982479</td>\n",
       "      <td>277</td>\n",
       "      <td>76561197970982479</td>\n",
       "      <td>http://steamcommunity.com/profiles/76561197970...</td>\n",
       "      <td>50</td>\n",
       "      <td>Half-Life: Opposing Force</td>\n",
       "      <td>0.0</td>\n",
       "      <td>0.0</td>\n",
       "    </tr>\n",
       "  </tbody>\n",
       "</table>\n",
       "</div>"
      ],
      "text/plain": [
       "             user_id  items_count           steam_id  \\\n",
       "0  76561197970982479          277  76561197970982479   \n",
       "1  76561197970982479          277  76561197970982479   \n",
       "2  76561197970982479          277  76561197970982479   \n",
       "3  76561197970982479          277  76561197970982479   \n",
       "4  76561197970982479          277  76561197970982479   \n",
       "\n",
       "                                            user_url  item_id  \\\n",
       "0  http://steamcommunity.com/profiles/76561197970...       10   \n",
       "1  http://steamcommunity.com/profiles/76561197970...       20   \n",
       "2  http://steamcommunity.com/profiles/76561197970...       30   \n",
       "3  http://steamcommunity.com/profiles/76561197970...       40   \n",
       "4  http://steamcommunity.com/profiles/76561197970...       50   \n",
       "\n",
       "                   item_name  playtime_forever  playtime_2weeks  \n",
       "0             Counter-Strike               6.0              0.0  \n",
       "1      Team Fortress Classic               0.0              0.0  \n",
       "2              Day of Defeat               7.0              0.0  \n",
       "3         Deathmatch Classic               0.0              0.0  \n",
       "4  Half-Life: Opposing Force               0.0              0.0  "
      ]
     },
     "execution_count": 176,
     "metadata": {},
     "output_type": "execute_result"
    }
   ],
   "source": [
    "df_user_items.head()"
   ]
  },
  {
   "cell_type": "markdown",
   "metadata": {},
   "source": [
    ".\n",
    "\n",
    ".\n"
   ]
  },
  {
   "cell_type": "markdown",
   "metadata": {},
   "source": [
    "# PREPARACION DE LOS DATOS"
   ]
  },
  {
   "cell_type": "markdown",
   "metadata": {},
   "source": [
    ".\n"
   ]
  },
  {
   "cell_type": "markdown",
   "metadata": {},
   "source": []
  },
  {
   "cell_type": "markdown",
   "metadata": {},
   "source": [
    "VAMOS A GENERAR UN ARCHIVO QUE SERA UTILIZADO COMO INPUT EN NUESTRO MODELO DE MACHINE LEARNING (RECOMENDACION)"
   ]
  },
  {
   "cell_type": "markdown",
   "metadata": {},
   "source": [
    ".\n"
   ]
  },
  {
   "cell_type": "code",
   "execution_count": 177,
   "metadata": {},
   "outputs": [],
   "source": [
    "# Filtrar columnas relevantes de cada conjunto de datos para el modelo de RECOMENDACION\n",
    "df_steam_recomendacion   = df_output_steam_json[['item_id', 'genres']]\n",
    "df_reviews_recomendacion = df_user_reviews[['user_id', 'item_id', 'sentiment_analysis']]\n",
    "#En este caso eliminamos los registros que teniamos sin item-id, a los cuales les imputamos -1\n",
    "df_items_recomendacion = df_user_items[df_user_items['item_id'] != -1][['user_id', 'item_id']]"
   ]
  },
  {
   "cell_type": "code",
   "execution_count": 178,
   "metadata": {},
   "outputs": [],
   "source": [
    "# Fusionar los datos en un solo conjunto\n",
    "merged_data = df_reviews_recomendacion.merge(df_items_recomendacion, on=['user_id', 'item_id'], how='inner')\n",
    "merged_data = merged_data.merge(df_steam_recomendacion, on='item_id', how='left')"
   ]
  },
  {
   "cell_type": "code",
   "execution_count": 179,
   "metadata": {},
   "outputs": [
    {
     "data": {
      "text/html": [
       "<div>\n",
       "<style scoped>\n",
       "    .dataframe tbody tr th:only-of-type {\n",
       "        vertical-align: middle;\n",
       "    }\n",
       "\n",
       "    .dataframe tbody tr th {\n",
       "        vertical-align: top;\n",
       "    }\n",
       "\n",
       "    .dataframe thead th {\n",
       "        text-align: right;\n",
       "    }\n",
       "</style>\n",
       "<table border=\"1\" class=\"dataframe\">\n",
       "  <thead>\n",
       "    <tr style=\"text-align: right;\">\n",
       "      <th></th>\n",
       "      <th>user_id</th>\n",
       "      <th>item_id</th>\n",
       "      <th>sentiment_analysis</th>\n",
       "      <th>genres</th>\n",
       "    </tr>\n",
       "  </thead>\n",
       "  <tbody>\n",
       "    <tr>\n",
       "      <th>0</th>\n",
       "      <td>76561197970982479</td>\n",
       "      <td>1250</td>\n",
       "      <td>1</td>\n",
       "      <td>Action</td>\n",
       "    </tr>\n",
       "    <tr>\n",
       "      <th>1</th>\n",
       "      <td>76561197970982479</td>\n",
       "      <td>22200</td>\n",
       "      <td>2</td>\n",
       "      <td>Action, Indie</td>\n",
       "    </tr>\n",
       "    <tr>\n",
       "      <th>2</th>\n",
       "      <td>76561197970982479</td>\n",
       "      <td>43110</td>\n",
       "      <td>1</td>\n",
       "      <td>NaN</td>\n",
       "    </tr>\n",
       "    <tr>\n",
       "      <th>3</th>\n",
       "      <td>js41637</td>\n",
       "      <td>251610</td>\n",
       "      <td>1</td>\n",
       "      <td>NaN</td>\n",
       "    </tr>\n",
       "    <tr>\n",
       "      <th>4</th>\n",
       "      <td>js41637</td>\n",
       "      <td>227300</td>\n",
       "      <td>1</td>\n",
       "      <td>Indie, Simulation</td>\n",
       "    </tr>\n",
       "  </tbody>\n",
       "</table>\n",
       "</div>"
      ],
      "text/plain": [
       "             user_id  item_id  sentiment_analysis             genres\n",
       "0  76561197970982479     1250                   1             Action\n",
       "1  76561197970982479    22200                   2      Action, Indie\n",
       "2  76561197970982479    43110                   1                NaN\n",
       "3            js41637   251610                   1                NaN\n",
       "4            js41637   227300                   1  Indie, Simulation"
      ]
     },
     "execution_count": 179,
     "metadata": {},
     "output_type": "execute_result"
    }
   ],
   "source": [
    "merged_data.head()"
   ]
  },
  {
   "cell_type": "code",
   "execution_count": 180,
   "metadata": {},
   "outputs": [
    {
     "data": {
      "text/plain": [
       "(44892, 4)"
      ]
     },
     "execution_count": 180,
     "metadata": {},
     "output_type": "execute_result"
    }
   ],
   "source": [
    "merged_data.shape"
   ]
  },
  {
   "cell_type": "code",
   "execution_count": 181,
   "metadata": {},
   "outputs": [
    {
     "data": {
      "text/html": [
       "<div>\n",
       "<style scoped>\n",
       "    .dataframe tbody tr th:only-of-type {\n",
       "        vertical-align: middle;\n",
       "    }\n",
       "\n",
       "    .dataframe tbody tr th {\n",
       "        vertical-align: top;\n",
       "    }\n",
       "\n",
       "    .dataframe thead th {\n",
       "        text-align: right;\n",
       "    }\n",
       "</style>\n",
       "<table border=\"1\" class=\"dataframe\">\n",
       "  <thead>\n",
       "    <tr style=\"text-align: right;\">\n",
       "      <th></th>\n",
       "      <th>user_id</th>\n",
       "      <th>item_id</th>\n",
       "      <th>sentiment_analysis</th>\n",
       "      <th>genres</th>\n",
       "    </tr>\n",
       "  </thead>\n",
       "  <tbody>\n",
       "    <tr>\n",
       "      <th>0</th>\n",
       "      <td>76561197970982479</td>\n",
       "      <td>1250</td>\n",
       "      <td>1</td>\n",
       "      <td>[Action]</td>\n",
       "    </tr>\n",
       "    <tr>\n",
       "      <th>1</th>\n",
       "      <td>76561197970982479</td>\n",
       "      <td>22200</td>\n",
       "      <td>2</td>\n",
       "      <td>[Action, Indie]</td>\n",
       "    </tr>\n",
       "    <tr>\n",
       "      <th>2</th>\n",
       "      <td>76561197970982479</td>\n",
       "      <td>43110</td>\n",
       "      <td>1</td>\n",
       "      <td>[]</td>\n",
       "    </tr>\n",
       "    <tr>\n",
       "      <th>3</th>\n",
       "      <td>js41637</td>\n",
       "      <td>251610</td>\n",
       "      <td>1</td>\n",
       "      <td>[]</td>\n",
       "    </tr>\n",
       "    <tr>\n",
       "      <th>4</th>\n",
       "      <td>js41637</td>\n",
       "      <td>227300</td>\n",
       "      <td>1</td>\n",
       "      <td>[Indie, Simulation]</td>\n",
       "    </tr>\n",
       "  </tbody>\n",
       "</table>\n",
       "</div>"
      ],
      "text/plain": [
       "             user_id  item_id  sentiment_analysis               genres\n",
       "0  76561197970982479     1250                   1             [Action]\n",
       "1  76561197970982479    22200                   2      [Action, Indie]\n",
       "2  76561197970982479    43110                   1                   []\n",
       "3            js41637   251610                   1                   []\n",
       "4            js41637   227300                   1  [Indie, Simulation]"
      ]
     },
     "execution_count": 181,
     "metadata": {},
     "output_type": "execute_result"
    }
   ],
   "source": [
    "# Convertir géneros en listas\n",
    "merged_data['genres'] = merged_data['genres'].apply(lambda x: x.split(', ') if isinstance(x, str) else [])\n",
    "merged_data.head()"
   ]
  },
  {
   "cell_type": "code",
   "execution_count": 182,
   "metadata": {},
   "outputs": [
    {
     "name": "stdout",
     "output_type": "stream",
     "text": [
      "Cantidad de registros con listas vacías en la columna 'genres': 4144\n"
     ]
    }
   ],
   "source": [
    "# Contar cuántos registros tienen listas vacías en la columna 'genres'\n",
    "registros_con_listas_vacias = merged_data[merged_data['genres'].apply(len) == 0]\n",
    "cantidad_registros_con_listas_vacias = len(registros_con_listas_vacias)\n",
    "\n",
    "print(\"Cantidad de registros con listas vacías en la columna 'genres':\", cantidad_registros_con_listas_vacias)"
   ]
  },
  {
   "cell_type": "code",
   "execution_count": 183,
   "metadata": {},
   "outputs": [],
   "source": [
    "# Eliminar registros con listas vacías en la columna 'genres'\n",
    "merged_data = merged_data[merged_data['genres'].apply(len) > 0]"
   ]
  },
  {
   "cell_type": "code",
   "execution_count": 184,
   "metadata": {},
   "outputs": [
    {
     "data": {
      "text/plain": [
       "(40748, 4)"
      ]
     },
     "execution_count": 184,
     "metadata": {},
     "output_type": "execute_result"
    }
   ],
   "source": [
    "merged_data.shape"
   ]
  },
  {
   "cell_type": "code",
   "execution_count": 185,
   "metadata": {},
   "outputs": [
    {
     "data": {
      "text/plain": [
       "Index(['user_id', 'item_id', 'sentiment_analysis', 'genres'], dtype='object')"
      ]
     },
     "execution_count": 185,
     "metadata": {},
     "output_type": "execute_result"
    }
   ],
   "source": [
    "merged_data.columns"
   ]
  },
  {
   "cell_type": "markdown",
   "metadata": {},
   "source": [
    "# MATRIZ DE CARACTERISTICAS"
   ]
  },
  {
   "cell_type": "markdown",
   "metadata": {},
   "source": [
    ".\n"
   ]
  },
  {
   "cell_type": "code",
   "execution_count": 186,
   "metadata": {},
   "outputs": [
    {
     "name": "stdout",
     "output_type": "stream",
     "text": [
      "   item_id  mode_sentiment  genre_Action  genre_Adventure  \\\n",
      "0       10               1            45                0   \n",
      "1       20               1            15                0   \n",
      "2       30               1             4                0   \n",
      "3       40               2             1                0   \n",
      "4       50               1             3                0   \n",
      "\n",
      "   genre_Audio Production  genre_Casual  genre_Desconocido  genre_Education  \\\n",
      "0                       0             0                  0                0   \n",
      "1                       0             0                  0                0   \n",
      "2                       0             0                  0                0   \n",
      "3                       0             0                  0                0   \n",
      "4                       0             0                  0                0   \n",
      "\n",
      "   genre_Illustration  genre_Indie  ...  genre_Modeling  genre_RPG  \\\n",
      "0                   0            0  ...               0          0   \n",
      "1                   0            0  ...               0          0   \n",
      "2                   0            0  ...               0          0   \n",
      "3                   0            0  ...               0          0   \n",
      "4                   0            0  ...               0          0   \n",
      "\n",
      "   genre_Racing  genre_Simulation  genre_Software Training  genre_Sports  \\\n",
      "0             0                 0                        0             0   \n",
      "1             0                 0                        0             0   \n",
      "2             0                 0                        0             0   \n",
      "3             0                 0                        0             0   \n",
      "4             0                 0                        0             0   \n",
      "\n",
      "   genre_Strategy  genre_Utilities  genre_Video Production  \\\n",
      "0               0                0                       0   \n",
      "1               0                0                       0   \n",
      "2               0                0                       0   \n",
      "3               0                0                       0   \n",
      "4               0                0                       0   \n",
      "\n",
      "   genre_Web Publishing  \n",
      "0                     0  \n",
      "1                     0  \n",
      "2                     0  \n",
      "3                     0  \n",
      "4                     0  \n",
      "\n",
      "[5 rows x 21 columns]\n"
     ]
    }
   ],
   "source": [
    "# Eliminar registros con 'genres' vacíos o NaN\n",
    "merged_data = merged_data.dropna(subset=['genres'])\n",
    "merged_data = merged_data[merged_data['genres'].astype(bool)]\n",
    "\n",
    "# Calcular la moda de sentimiento (sentiment_analysis) para cada juego\n",
    "mode_sentiment = merged_data.groupby('item_id')['sentiment_analysis'].agg(lambda x: statistics.mode(x) if len(x) > 0 else None).reset_index()\n",
    "mode_sentiment.rename(columns={'sentiment_analysis': 'mode_sentiment'}, inplace=True)\n",
    "\n",
    "# Utilizar la función explode para descomponer la lista de géneros en filas separadas\n",
    "genres_expanded = merged_data.explode('genres')\n",
    "\n",
    "# Codificar géneros como variables dummy (one-hot encoding)\n",
    "genres_dummy = pd.get_dummies(genres_expanded['genres'], prefix='genre')\n",
    "\n",
    "# Combinar géneros dummy por 'item_id' utilizando sum()\n",
    "genres_dummy = genres_dummy.groupby(genres_expanded['item_id']).sum()\n",
    "\n",
    "# Reiniciar el índice\n",
    "genres_dummy.reset_index(inplace=True)\n",
    "\n",
    "# Combinar moda y dummies \n",
    "features = mode_sentiment.merge(genres_dummy, on='item_id', how='left')\n",
    "\n",
    "# Mostrar una muestra del conjunto de datos fusionado con la moda de sentimiento y codificación one-hot de géneros\n",
    "print(features.head())"
   ]
  },
  {
   "cell_type": "code",
   "execution_count": 187,
   "metadata": {},
   "outputs": [
    {
     "data": {
      "text/html": [
       "<div>\n",
       "<style scoped>\n",
       "    .dataframe tbody tr th:only-of-type {\n",
       "        vertical-align: middle;\n",
       "    }\n",
       "\n",
       "    .dataframe tbody tr th {\n",
       "        vertical-align: top;\n",
       "    }\n",
       "\n",
       "    .dataframe thead th {\n",
       "        text-align: right;\n",
       "    }\n",
       "</style>\n",
       "<table border=\"1\" class=\"dataframe\">\n",
       "  <thead>\n",
       "    <tr style=\"text-align: right;\">\n",
       "      <th></th>\n",
       "      <th>item_id</th>\n",
       "      <th>mode_sentiment</th>\n",
       "      <th>genre_Action</th>\n",
       "      <th>genre_Adventure</th>\n",
       "      <th>genre_Audio Production</th>\n",
       "      <th>genre_Casual</th>\n",
       "      <th>genre_Desconocido</th>\n",
       "      <th>genre_Education</th>\n",
       "      <th>genre_Illustration</th>\n",
       "      <th>genre_Indie</th>\n",
       "      <th>...</th>\n",
       "      <th>genre_Modeling</th>\n",
       "      <th>genre_RPG</th>\n",
       "      <th>genre_Racing</th>\n",
       "      <th>genre_Simulation</th>\n",
       "      <th>genre_Software Training</th>\n",
       "      <th>genre_Sports</th>\n",
       "      <th>genre_Strategy</th>\n",
       "      <th>genre_Utilities</th>\n",
       "      <th>genre_Video Production</th>\n",
       "      <th>genre_Web Publishing</th>\n",
       "    </tr>\n",
       "  </thead>\n",
       "  <tbody>\n",
       "    <tr>\n",
       "      <th>0</th>\n",
       "      <td>10</td>\n",
       "      <td>1</td>\n",
       "      <td>45</td>\n",
       "      <td>0</td>\n",
       "      <td>0</td>\n",
       "      <td>0</td>\n",
       "      <td>0</td>\n",
       "      <td>0</td>\n",
       "      <td>0</td>\n",
       "      <td>0</td>\n",
       "      <td>...</td>\n",
       "      <td>0</td>\n",
       "      <td>0</td>\n",
       "      <td>0</td>\n",
       "      <td>0</td>\n",
       "      <td>0</td>\n",
       "      <td>0</td>\n",
       "      <td>0</td>\n",
       "      <td>0</td>\n",
       "      <td>0</td>\n",
       "      <td>0</td>\n",
       "    </tr>\n",
       "    <tr>\n",
       "      <th>1</th>\n",
       "      <td>20</td>\n",
       "      <td>1</td>\n",
       "      <td>15</td>\n",
       "      <td>0</td>\n",
       "      <td>0</td>\n",
       "      <td>0</td>\n",
       "      <td>0</td>\n",
       "      <td>0</td>\n",
       "      <td>0</td>\n",
       "      <td>0</td>\n",
       "      <td>...</td>\n",
       "      <td>0</td>\n",
       "      <td>0</td>\n",
       "      <td>0</td>\n",
       "      <td>0</td>\n",
       "      <td>0</td>\n",
       "      <td>0</td>\n",
       "      <td>0</td>\n",
       "      <td>0</td>\n",
       "      <td>0</td>\n",
       "      <td>0</td>\n",
       "    </tr>\n",
       "    <tr>\n",
       "      <th>2</th>\n",
       "      <td>30</td>\n",
       "      <td>1</td>\n",
       "      <td>4</td>\n",
       "      <td>0</td>\n",
       "      <td>0</td>\n",
       "      <td>0</td>\n",
       "      <td>0</td>\n",
       "      <td>0</td>\n",
       "      <td>0</td>\n",
       "      <td>0</td>\n",
       "      <td>...</td>\n",
       "      <td>0</td>\n",
       "      <td>0</td>\n",
       "      <td>0</td>\n",
       "      <td>0</td>\n",
       "      <td>0</td>\n",
       "      <td>0</td>\n",
       "      <td>0</td>\n",
       "      <td>0</td>\n",
       "      <td>0</td>\n",
       "      <td>0</td>\n",
       "    </tr>\n",
       "    <tr>\n",
       "      <th>3</th>\n",
       "      <td>40</td>\n",
       "      <td>2</td>\n",
       "      <td>1</td>\n",
       "      <td>0</td>\n",
       "      <td>0</td>\n",
       "      <td>0</td>\n",
       "      <td>0</td>\n",
       "      <td>0</td>\n",
       "      <td>0</td>\n",
       "      <td>0</td>\n",
       "      <td>...</td>\n",
       "      <td>0</td>\n",
       "      <td>0</td>\n",
       "      <td>0</td>\n",
       "      <td>0</td>\n",
       "      <td>0</td>\n",
       "      <td>0</td>\n",
       "      <td>0</td>\n",
       "      <td>0</td>\n",
       "      <td>0</td>\n",
       "      <td>0</td>\n",
       "    </tr>\n",
       "    <tr>\n",
       "      <th>4</th>\n",
       "      <td>50</td>\n",
       "      <td>1</td>\n",
       "      <td>3</td>\n",
       "      <td>0</td>\n",
       "      <td>0</td>\n",
       "      <td>0</td>\n",
       "      <td>0</td>\n",
       "      <td>0</td>\n",
       "      <td>0</td>\n",
       "      <td>0</td>\n",
       "      <td>...</td>\n",
       "      <td>0</td>\n",
       "      <td>0</td>\n",
       "      <td>0</td>\n",
       "      <td>0</td>\n",
       "      <td>0</td>\n",
       "      <td>0</td>\n",
       "      <td>0</td>\n",
       "      <td>0</td>\n",
       "      <td>0</td>\n",
       "      <td>0</td>\n",
       "    </tr>\n",
       "  </tbody>\n",
       "</table>\n",
       "<p>5 rows × 21 columns</p>\n",
       "</div>"
      ],
      "text/plain": [
       "   item_id  mode_sentiment  genre_Action  genre_Adventure  \\\n",
       "0       10               1            45                0   \n",
       "1       20               1            15                0   \n",
       "2       30               1             4                0   \n",
       "3       40               2             1                0   \n",
       "4       50               1             3                0   \n",
       "\n",
       "   genre_Audio Production  genre_Casual  genre_Desconocido  genre_Education  \\\n",
       "0                       0             0                  0                0   \n",
       "1                       0             0                  0                0   \n",
       "2                       0             0                  0                0   \n",
       "3                       0             0                  0                0   \n",
       "4                       0             0                  0                0   \n",
       "\n",
       "   genre_Illustration  genre_Indie  ...  genre_Modeling  genre_RPG  \\\n",
       "0                   0            0  ...               0          0   \n",
       "1                   0            0  ...               0          0   \n",
       "2                   0            0  ...               0          0   \n",
       "3                   0            0  ...               0          0   \n",
       "4                   0            0  ...               0          0   \n",
       "\n",
       "   genre_Racing  genre_Simulation  genre_Software Training  genre_Sports  \\\n",
       "0             0                 0                        0             0   \n",
       "1             0                 0                        0             0   \n",
       "2             0                 0                        0             0   \n",
       "3             0                 0                        0             0   \n",
       "4             0                 0                        0             0   \n",
       "\n",
       "   genre_Strategy  genre_Utilities  genre_Video Production  \\\n",
       "0               0                0                       0   \n",
       "1               0                0                       0   \n",
       "2               0                0                       0   \n",
       "3               0                0                       0   \n",
       "4               0                0                       0   \n",
       "\n",
       "   genre_Web Publishing  \n",
       "0                     0  \n",
       "1                     0  \n",
       "2                     0  \n",
       "3                     0  \n",
       "4                     0  \n",
       "\n",
       "[5 rows x 21 columns]"
      ]
     },
     "execution_count": 187,
     "metadata": {},
     "output_type": "execute_result"
    }
   ],
   "source": [
    "features.head()"
   ]
  },
  {
   "cell_type": "code",
   "execution_count": 188,
   "metadata": {},
   "outputs": [
    {
     "data": {
      "text/plain": [
       "(2736, 21)"
      ]
     },
     "execution_count": 188,
     "metadata": {},
     "output_type": "execute_result"
    }
   ],
   "source": [
    "features.shape"
   ]
  },
  {
   "cell_type": "code",
   "execution_count": 189,
   "metadata": {},
   "outputs": [
    {
     "data": {
      "text/plain": [
       "Index(['item_id', 'mode_sentiment', 'genre_Action', 'genre_Adventure',\n",
       "       'genre_Audio Production', 'genre_Casual', 'genre_Desconocido',\n",
       "       'genre_Education', 'genre_Illustration', 'genre_Indie',\n",
       "       'genre_Massively Multiplayer', 'genre_Modeling', 'genre_RPG',\n",
       "       'genre_Racing', 'genre_Simulation', 'genre_Software Training',\n",
       "       'genre_Sports', 'genre_Strategy', 'genre_Utilities',\n",
       "       'genre_Video Production', 'genre_Web Publishing'],\n",
       "      dtype='object')"
      ]
     },
     "execution_count": 189,
     "metadata": {},
     "output_type": "execute_result"
    }
   ],
   "source": [
    "features.columns"
   ]
  },
  {
   "cell_type": "code",
   "execution_count": 190,
   "metadata": {},
   "outputs": [
    {
     "name": "stdout",
     "output_type": "stream",
     "text": [
      "item_id    10        20        30        40        50        60        70      \\\n",
      "item_id                                                                         \n",
      "10       1.000000  0.999017  0.975291  0.466974  0.955475  0.996092  0.999993   \n",
      "20       0.999017  1.000000  0.984127  0.505719  0.967617  0.999028  0.998846   \n",
      "30       0.975291  0.984127  1.000000  0.650791  0.997054  0.990992  0.974467   \n",
      "40       0.466974  0.505719  0.650791  1.000000  0.707107  0.543251  0.463698   \n",
      "50       0.955475  0.967617  0.997054  0.707107  1.000000  0.977802  0.954376   \n",
      "\n",
      "item_id    80        130       220     ...    510050    512300    512630  \\\n",
      "item_id                                ...                                 \n",
      "10       0.997659  0.984696  0.999854  ...  0.015710  0.510985  0.019871   \n",
      "20       0.999710  0.991454  0.998113  ...  0.047036  0.532152  0.059496   \n",
      "30       0.988116  0.998868  0.971373  ...  0.171499  0.606339  0.216930   \n",
      "40       0.526355  0.613941  0.451794  ...  0.632456  0.670820  0.800000   \n",
      "50       0.973417  0.992278  0.950292  ...  0.223607  0.632456  0.282843   \n",
      "\n",
      "item_id    514520    516040    521340    521430  521570    521990    527340  \n",
      "item_id                                                                      \n",
      "10       0.015710  0.012827  0.018140  0.015710     0.0  0.426287  0.426287  \n",
      "20       0.047036  0.038405  0.054313  0.047036     0.0  0.461657  0.461657  \n",
      "30       0.171499  0.140028  0.198030  0.171499     0.0  0.594089  0.594089  \n",
      "40       0.632456  0.516398  0.730297  0.632456     0.0  0.912871  0.912871  \n",
      "50       0.223607  0.182574  0.258199  0.223607     0.0  0.645497  0.645497  \n",
      "\n",
      "[5 rows x 2736 columns]\n"
     ]
    }
   ],
   "source": [
    "# Llenar valores NaN con 0 en el conjunto de datos 'features'\n",
    "features.fillna(0, inplace=True)\n",
    "\n",
    "# Calcular la matriz de similitud del coseno\n",
    "similarities = cosine_similarity(features.drop(columns=['item_id']))\n",
    "\n",
    "# Crear un DataFrame con la matriz de similitud\n",
    "df_similarities = pd.DataFrame(similarities, index=features['item_id'], columns=features['item_id'])\n",
    "\n",
    "# Mostrar una muestra de la matriz de similitud\n",
    "print(df_similarities.head())"
   ]
  },
  {
   "cell_type": "code",
   "execution_count": 191,
   "metadata": {},
   "outputs": [
    {
     "data": {
      "text/plain": [
       "(2736, 2736)"
      ]
     },
     "execution_count": 191,
     "metadata": {},
     "output_type": "execute_result"
    }
   ],
   "source": [
    "df_similarities.shape"
   ]
  },
  {
   "cell_type": "code",
   "execution_count": 197,
   "metadata": {},
   "outputs": [],
   "source": [
    "# Mover el índice a una columna llamada 'item_id' y restablecer el índice\n",
    "df_similarities['item_id'] = df_similarities.index\n",
    "df_similarities.reset_index(drop=True, inplace=True)\n",
    "\n",
    "#Exportamos la matriz de caracteristicas para poder consumirla en la API\n",
    "grabarJsonGz(df_similarities,'df_similarities')"
   ]
  },
  {
   "cell_type": "markdown",
   "metadata": {},
   "source": [
    ".\n",
    "\n",
    ".\n",
    "\n",
    "."
   ]
  }
 ],
 "metadata": {
  "kernelspec": {
   "display_name": "Python 3",
   "language": "python",
   "name": "python3"
  },
  "language_info": {
   "codemirror_mode": {
    "name": "ipython",
    "version": 3
   },
   "file_extension": ".py",
   "mimetype": "text/x-python",
   "name": "python",
   "nbconvert_exporter": "python",
   "pygments_lexer": "ipython3",
   "version": "3.11.5"
  },
  "orig_nbformat": 4
 },
 "nbformat": 4,
 "nbformat_minor": 2
}
